{
 "cells": [
  {
   "cell_type": "markdown",
   "metadata": {
    "slideshow": {
     "slide_type": "slide"
    }
   },
   "source": [
    "# MNIST digits classification with TensorFlow"
   ]
  },
  {
   "cell_type": "markdown",
   "metadata": {},
   "source": [
    "<img src=\"images/mnist_sample.png\" style=\"width:30%\">"
   ]
  },
  {
   "cell_type": "code",
   "execution_count": 1,
   "metadata": {},
   "outputs": [
    {
     "name": "stdout",
     "output_type": "stream",
     "text": [
      "We're using TF 1.2.1\n"
     ]
    },
    {
     "data": {
      "text/plain": [
       "<module 'grading_utils' from '/home/jovyan/work/week2/v2/grading_utils.py'>"
      ]
     },
     "execution_count": 1,
     "metadata": {},
     "output_type": "execute_result"
    }
   ],
   "source": [
    "import numpy as np\n",
    "from sklearn.metrics import accuracy_score\n",
    "from matplotlib import pyplot as plt\n",
    "%matplotlib inline\n",
    "import tensorflow as tf\n",
    "print(\"We're using TF\", tf.__version__)\n",
    "\n",
    "import sys\n",
    "sys.path.append(\"../..\")\n",
    "import grading\n",
    "\n",
    "import matplotlib_utils\n",
    "from importlib import reload\n",
    "reload(matplotlib_utils)\n",
    "\n",
    "import grading_utils\n",
    "reload(grading_utils)"
   ]
  },
  {
   "cell_type": "markdown",
   "metadata": {},
   "source": [
    "# Fill in your Coursera token and email\n",
    "To successfully submit your answers to our grader, please fill in your Coursera submission token and email"
   ]
  },
  {
   "cell_type": "code",
   "execution_count": 51,
   "metadata": {
    "collapsed": true
   },
   "outputs": [],
   "source": [
    "grader = grading.Grader(assignment_key=\"XtD7ho3TEeiHQBLWejjYAA\", \n",
    "                        all_parts=[\"9XaAS\", \"vmogZ\", \"RMv95\", \"i8bgs\", \"rE763\"])"
   ]
  },
  {
   "cell_type": "code",
   "execution_count": 101,
   "metadata": {
    "collapsed": true
   },
   "outputs": [],
   "source": [
    "# token expires every 30 min\n",
    "COURSERA_TOKEN = \"BiI8Is1dHSECN0Aw\"\n",
    "COURSERA_EMAIL = \"alex.huang1117@gmail.com\""
   ]
  },
  {
   "cell_type": "markdown",
   "metadata": {},
   "source": [
    "# Look at the data\n",
    "\n",
    "In this task we have 50000 28x28 images of digits from 0 to 9.\n",
    "We will train a classifier on this data."
   ]
  },
  {
   "cell_type": "code",
   "execution_count": 2,
   "metadata": {},
   "outputs": [
    {
     "name": "stderr",
     "output_type": "stream",
     "text": [
      "Using TensorFlow backend.\n"
     ]
    },
    {
     "name": "stdout",
     "output_type": "stream",
     "text": [
      "Downloading data from https://s3.amazonaws.com/img-datasets/mnist.npz\n",
      " 8839168/11490434 [======================>.......] - ETA: 0s"
     ]
    }
   ],
   "source": [
    "import preprocessed_mnist\n",
    "X_train, y_train, X_val, y_val, X_test, y_test = preprocessed_mnist.load_dataset()"
   ]
  },
  {
   "cell_type": "code",
   "execution_count": 3,
   "metadata": {},
   "outputs": [
    {
     "name": "stdout",
     "output_type": "stream",
     "text": [
      "X_train [shape (50000, 28, 28)] sample patch:\n",
      " [[ 0.          0.29803922  0.96470588  0.98823529  0.43921569]\n",
      " [ 0.          0.33333333  0.98823529  0.90196078  0.09803922]\n",
      " [ 0.          0.33333333  0.98823529  0.8745098   0.        ]\n",
      " [ 0.          0.33333333  0.98823529  0.56862745  0.        ]\n",
      " [ 0.          0.3372549   0.99215686  0.88235294  0.        ]]\n",
      "A closeup of a sample patch:\n"
     ]
    },
    {
     "data": {
      "image/png": "[encoded data removed]",
      "text/plain": [
       "<matplotlib.figure.Figure at 0x7f7cf03dd710>"
      ]
     },
     "metadata": {},
     "output_type": "display_data"
    },
    {
     "name": "stdout",
     "output_type": "stream",
     "text": [
      "And the whole sample:\n"
     ]
    },
    {
     "data": {
      "image/png": "[encoded data removed]",
      "text/plain": [
       "<matplotlib.figure.Figure at 0x7f7cd4f2b668>"
      ]
     },
     "metadata": {},
     "output_type": "display_data"
    },
    {
     "name": "stdout",
     "output_type": "stream",
     "text": [
      "y_train [shape (50000,)] 10 samples:\n",
      " [5 0 4 1 9 2 1 3 1 4]\n"
     ]
    }
   ],
   "source": [
    "# X contains rgb values divided by 255\n",
    "print(\"X_train [shape %s] sample patch:\\n\" % (str(X_train.shape)), X_train[1, 15:20, 5:10])\n",
    "print(\"A closeup of a sample patch:\")\n",
    "plt.imshow(X_train[1, 15:20, 5:10], cmap=\"Greys\")\n",
    "plt.show()\n",
    "print(\"And the whole sample:\")\n",
    "plt.imshow(X_train[1], cmap=\"Greys\")\n",
    "plt.show()\n",
    "print(\"y_train [shape %s] 10 samples:\\n\" % (str(y_train.shape)), y_train[:10])"
   ]
  },
  {
   "cell_type": "markdown",
   "metadata": {},
   "source": [
    "# Linear model\n",
    "\n",
    "Your task is to train a linear classifier $\\vec{x} \\rightarrow y$ with SGD using TensorFlow.\n",
    "\n",
    "You will need to calculate a logit (a linear transformation) $z_k$ for each class: \n",
    "$$z_k = \\vec{x} \\cdot \\vec{w_k} + b_k \\quad k = 0..9$$\n",
    "\n",
    "And transform logits $z_k$ to valid probabilities $p_k$ with softmax: \n",
    "$$p_k = \\frac{e^{z_k}}{\\sum_{i=0}^{9}{e^{z_i}}} \\quad k = 0..9$$\n",
    "\n",
    "We will use a cross-entropy loss to train our multi-class classifier:\n",
    "$$\\text{cross-entropy}(y, p) = -\\sum_{k=0}^{9}{\\log(p_k)[y = k]}$$ \n",
    "\n",
    "where \n",
    "$$\n",
    "[x]=\\begin{cases}\n",
    "       1, \\quad \\text{if $x$ is true} \\\\\n",
    "       0, \\quad \\text{otherwise}\n",
    "    \\end{cases}\n",
    "$$\n",
    "\n",
    "Cross-entropy minimization pushes $p_k$ close to 1 when $y = k$, which is what we want.\n",
    "\n",
    "Here's the plan:\n",
    "* Flatten the images (28x28 -> 784) with `X_train.reshape((X_train.shape[0], -1))` to simplify our linear model implementation\n",
    "* Use a matrix placeholder for flattened `X_train`\n",
    "* Convert `y_train` to one-hot encoded vectors that are needed for cross-entropy\n",
    "* Use a shared variable `W` for all weights (a column $\\vec{w_k}$ per class) and `b` for all biases.\n",
    "* Aim for ~0.93 validation accuracy"
   ]
  },
  {
   "cell_type": "code",
   "execution_count": 4,
   "metadata": {},
   "outputs": [
    {
     "name": "stdout",
     "output_type": "stream",
     "text": [
      "(50000, 784)\n",
      "(10000, 784)\n"
     ]
    }
   ],
   "source": [
    "X_train_flat = X_train.reshape((X_train.shape[0], -1))\n",
    "print(X_train_flat.shape)\n",
    "\n",
    "X_val_flat = X_val.reshape((X_val.shape[0], -1))\n",
    "print(X_val_flat.shape)"
   ]
  },
  {
   "cell_type": "code",
   "execution_count": 5,
   "metadata": {},
   "outputs": [
    {
     "name": "stdout",
     "output_type": "stream",
     "text": [
      "(50000, 10)\n",
      "[[ 0.  0.  0.  0.  0.  1.  0.  0.  0.  0.]\n",
      " [ 1.  0.  0.  0.  0.  0.  0.  0.  0.  0.]\n",
      " [ 0.  0.  0.  0.  1.  0.  0.  0.  0.  0.]] [5 0 4]\n"
     ]
    }
   ],
   "source": [
    "import keras\n",
    "\n",
    "y_train_oh = keras.utils.to_categorical(y_train, 10)\n",
    "y_val_oh = keras.utils.to_categorical(y_val, 10)\n",
    "\n",
    "print(y_train_oh.shape)\n",
    "print(y_train_oh[:3], y_train[:3])"
   ]
  },
  {
   "cell_type": "code",
   "execution_count": 120,
   "metadata": {
    "collapsed": true
   },
   "outputs": [],
   "source": [
    "# run this if you remake your graph\n",
    "tf.reset_default_graph()"
   ]
  },
  {
   "cell_type": "code",
   "execution_count": 113,
   "metadata": {
    "collapsed": true
   },
   "outputs": [],
   "source": [
    "W = tf.get_variable(\"W\", shape=(784,10), dtype = tf.float32, initializer = tf.contrib.layers.xavier_initializer())\n",
    "b = tf.get_variable(\"b\", shape=(1,10), dtype = tf.float32, initializer = tf.contrib.layers.xavier_initializer())"
   ]
  },
  {
   "cell_type": "code",
   "execution_count": 114,
   "metadata": {
    "collapsed": true
   },
   "outputs": [],
   "source": [
    "# Placeholders for the input data\n",
    "input_X = tf.placeholder(tf.float32, [None, 784])### YOUR CODE HERE ### tf.placeholder(...) for flat X with shape[0] = None for any batch size\n",
    "input_y = tf.placeholder(tf.int64, [None,10])### YOUR CODE HERE ### tf.placeholder(...) for one-hot encoded true labels"
   ]
  },
  {
   "cell_type": "code",
   "execution_count": 115,
   "metadata": {},
   "outputs": [],
   "source": [
    "# Compute predictions\n",
    "\n",
    "logits = input_X @ W + b### YOUR CODE HERE ### logits for input_X, resulting shape should be [input_X.shape[0], 10]\n",
    "\n",
    "\n",
    "probas = tf.nn.softmax(logits)### YOUR CODE HERE ### apply tf.nn.softmax to logits\n",
    "classes = tf.argmax(probas,1)### YOUR CODE HERE ### apply tf.argmax to find a class index with highest probability\n",
    "\n",
    "# Loss should be a scalar number: average loss over all the objects with tf.reduce_mean().\n",
    "# Use tf.nn.softmax_cross_entropy_with_logits on top of one-hot encoded input_y and logits.\n",
    "# It is identical to calculating cross-entropy on top of probas, but is more numerically friendly (read the docs).\n",
    "loss = tf.reduce_mean(tf.nn.softmax_cross_entropy_with_logits(logits=logits, labels=input_y))### YOUR CODE HERE ### cross-entropy loss\n",
    "\n",
    "# Use a default tf.train.AdamOptimizer to get an SGD step\n",
    "opt = tf.train.AdamOptimizer()\n",
    "step = opt.minimize(loss)### YOUR CODE HERE ### optimizer step that minimizes the loss"
   ]
  },
  {
   "cell_type": "code",
   "execution_count": 124,
   "metadata": {
    "scrolled": false
   },
   "outputs": [
    {
     "data": {
      "text/html": [
       "<img src=\"data:image/jpeg;base64,/9j/4AAQSkZJRgABAQAAAQABAAD/2wBDAAIBAQEBAQIBAQECAgICAgQDAgICAgUEBAMEBgUGBgYFBgYGBwkIBgcJBwYGCAsICQoKCgoKBggLDAsKDAkKCgr/2wBDAQICAgICAgUDAwUKBwYHCgoKCgoKCgoKCgoKCgoKCgoKCgoKCgoKCgoKCgoKCgoKCgoKCgoKCgoKCgoKCgoKCgr/wAARCAEgA2ADASIAAhEBAxEB/8QAHwAAAQUBAQEBAQEAAAAAAAAAAAECAwQFBgcICQoL/8QAtRAAAgEDAwIEAwUFBAQAAAF9AQIDAAQRBRIhMUEGE1FhByJxFDKBkaEII0KxwRVS0fAkM2JyggkKFhcYGRolJicoKSo0NTY3ODk6Q0RFRkdISUpTVFVWV1hZWmNkZWZnaGlqc3R1dnd4eXqDhIWGh4iJipKTlJWWl5iZmqKjpKWmp6ipqrKztLW2t7i5usLDxMXGx8jJytLT1NXW19jZ2uHi4%2BTl5ufo6erx8vP09fb3%2BPn6/8QAHwEAAwEBAQEBAQEBAQAAAAAAAAECAwQFBgcICQoL/8QAtREAAgECBAQDBAcFBAQAAQJ3AAECAxEEBSExBhJBUQdhcRMiMoEIFEKRobHBCSMzUvAVYnLRChYkNOEl8RcYGRomJygpKjU2Nzg5OkNERUZHSElKU1RVVldYWVpjZGVmZ2hpanN0dXZ3eHl6goOEhYaHiImKkpOUlZaXmJmaoqOkpaanqKmqsrO0tba3uLm6wsPExcbHyMnK0tPU1dbX2Nna4uPk5ebn6Onq8vP09fb3%2BPn6/9oADAMBAAIRAxEAPwD9/KKKKACiiigAooooAKKKKACiiigAooooAKKKKACiiigAooooAKKKKACiiigAooooAKKKKACiiigAooooAKKKKACiiigAooooAKKKKACiiigAooooAKKKKACiiigAooooAKKKKACiiigAooooAKKKKACiiigAooooAKKKKACiiigAooooAKKKKACiiigAooooAKKKKACiiigAooooAKKKKACiiigAooooAKKKKACiiigAooooAKKKKACiiigAooooAKKKKACiiigAooooAKKKKACiiigAooooAKKKKACiiigAooooAKKKKACiiigAooooAKKKKACiiigAooooAKKKKACiiigAooooAKKKKACvPfjt%2B1J8FP2b5NGsfil4g1Maj4ilnTQNB8OeF9R1zVNR8lVed4bHTbee5kjiVkMkixlI96biu5c%2BhV4N%2B0P8D/j5/wANJ%2BDv2tv2bLLwfrWueH/B2seFNX8KeOdcutLtLywv7mwuxcQXtraXj288U2noCpt3WVJSCUKK1ABpf/BTL9izWLvxPb2nxXv0h8FWsk/jLUrvwXrEFjoIS0iu9l5dy2iwWsrQzRskMjrJIWKorMrKL2n/APBQ/wDZK1HwBrXxFTx/q9vB4f1ay0vVdE1DwNrNrrkV5ebfscC6PNaLqEr3AYGER27eaAxTcFYjy2b9gH4y%2BMf2a/jn8NfGHinwppHin4o/FS38daHc6U1xeWFpeW0OiywQ3IkihkkiN3pRRwoyYHGDuJVaPi79i/8AaV%2BLmr/Ef45fG34S/CjWvFnjWx8KaPp/gKy%2BI2s2Wm6fY6Hcaldw3qa7b6al5DqDXOqTOksVoPJSKNFZiWcgHsviH9vv9mzwv4a8OeI9XvvG3meK0v5NE8P2vwm8SXGuSRWUscV3NJpMWntf28MLzQq8s0CIpmiy37xM%2Bmaz8RPBHhv4e3XxX8T%2BJbbSvDljo76rf6vqrfZYbSySIzPPMZdvlKsYLNvxtAOcYNfGHin9hH9s/WPgX4X8Nay3hfxV470a58RHRfGV/wDHbxNpGr%2BCLW%2BuUktLO11q1sJLzXIYkjhEy3qw/aTbReYCFGPUfjR/wTotfj1%2Bzb4n%2BHHxD%2BOfjW78d%2BMPhfH4Z17xS3jbWho818tpDE2oJoS3y2FuzzQLK3kRRSEPIBIrSM5AOkg/4KUfsZf8K58V/FbWPite6Jo3giysr7xQ/ifwdq%2Bk3NlZXkxhtb37LeWsVxJaSyK6pcxxtC3luQ%2BEYjj/AI3f8FZP2d/hn8ENU%2BMfgPRfFXiqbQfiD4X8L674Y/4QXXbHU7A6zqVrax3T2cmnNdeV5Fw88DeT5d48aW8MhknjB8r1T/gmJ8ZPHfwq8faR4i8DeG9G8Y%2BI9D0fR7DxDqv7RfjPxut3aWusW%2BoTRyf27AfsEZ8likUSzHe%2BGkxknv8A9qH9gz40/GD4g/F/4g%2BBfEPheOTxfB8LbzwlZ6tfXMSvf%2BE/EdzrUsN40dvJ5ENwGt4VljEzrl2MfyKrgHqFh/wUE/Zb1H4m2XwZh8T%2BJo/Fd5oun6xLoF38N9egudO0%2B9adILu/SSyU6dDut5VeS68pYiFEhQum6j4a/wCCmH7FPi3wZ4s%2BIWkfGC4TR/Bfgi68Zaxe6h4S1W0Fx4et0Z5tWsVntUbVLNVQ4nsxPGxZArEugbB0P9kP4ofEP4mfG74g/G9fD2gxfGj4O%2BHfCF1Y%2BE9duNRl0u4tE11Ltlnns7XzYwNViMT7FZikm6OPA3fN37Y37Kn7UOj/ALDHxS%2BJv7TF34AtIfhD%2BxT8QfBHhePwFqF5cNrzXukWxn1G6W5toBYqE0i3CWcbXAVppCZ22oKAPrPw9/wUl/Yy8TaHrHiPT/i1dQWehppU1/JqnhLVbJmtNSu1s7HUIUuLVGubCWdgovoQ9qoDO0qorMPT9E%2BLvw88R/FLX/gvofiH7T4k8LaXp%2Boa/YR2k22zgvmuBa7pinlF3%2ByzHy1cyKoRmVVkjLfJOofsz%2BIPFegeKfjb/wAFIvF/wz8J%2BBbf9nu5%2BHUlx4f8QTLay6beyQyXmq3k17BbpYOTBbCG2QzCAmT/AEiQsuOw/wCCPngP4u2f7I9r8f8A9pDUDf8AxJ%2BL15H4n8V6g9nJbtJCLSCy01fKl%2BeH/iX2lpI0TYKSzTZAYtkA%2BqqKKKACiiigAooooAKKKKACiiigAooooAKKKKACiiigAooooAKKKKACiiigAooooAKKKKACiiigAooooAKKKKACiiigAooooAK8R0j/AIKMfse6ld69Z6n8Urzw83hzw5c%2BINQk8a%2BEdV0GObSbd0jnv7WTUrWBb63R5IlaW2MqAyxjOXXPtN7FczWcsNndCCZ4mWKYx7/LYjhtp64POO9fmJq//BHL9uX4v6t4X1z43fHHQ31vw14P1Cz1DxRqHxW8TeJx4h1v7ZpV9a6idLvoobLSbaS50xfPsLIBRHJtWWQKgUA%2B2X/b/wD2YbX4aN8WNY8QeKtK0ttcg0axs9c%2BGWv2GqanfzIZIYLLTbixS9v2kQM6/Z4ZAyo7AkIxHReA/wBqz4H/ABH1%2By8J%2BHPEOqQ6vf8AhSfxJDpGteFdS0y7TTYbv7JLLLDeW8UkDrP8hhkVZe%2BzbzXk3xO%2BDn7bvxib4e/G3XPBvwq0P4h/Cjx1NrHh/wAM2vjjUr/Rdcs7jSbvTLmO4vn0qGaxmKXskkbpa3AjMQU%2BYJGxV%2BJPwG/bg1/4y%2BHf2mvA%2BjfCu08WX3ww1XwX4x0LUvFepSWGkLcX8N1a39lcJpwk1AxCN1kt5YrQSlxiWLHIB3Gk/wDBRv8AZA8R694F8LeFfiNqus6n8SfBuleLfBunaJ4H1m9nvND1F9lrqMiQWjNa2%2B7HmSTiNbcMpm8oMCdj4a/tufs3fFf4jXPwn8M%2BL9Ws9ft9LudThsvE/gzVtEW/sbeRI57uyl1G1gjv4I3liDy2zSIvmISQGUnyj9hT9hL4sfsw6/8ADjWfHniDw1dnwd%2Byl4R%2BGN%2B%2BkXM8rNq2lvM1zNF5kEe61bemxmKu235o0wK8a%2BGn/BKv9sbxP8UfC/ib9qb4w2eqRaf4A8V%2BF/GniaD4v%2BJNavPEUur2KW39p2umX0Men6EcqWNpaKUXKgTOI1WgD6l8J/8ABRf9kfxrosfirQfHeuf2Hcarpen6f4lvfh/rdrpWoy6lex2VlJaX09mlteQS3M0UYuIJHhBlQs4VgT6X4W%2BLvw88a/EDxT8LvC/iH7XrnguSzj8T2iWkwWxkuoPtEEZlZBG7tCVkKIzMiyRlgokTd8w%2BOPAnxF8K/wDBPbxp8CP%2BChnif4VeCPAWg/DSLQLb4meHfFt2GadI0trXUntLqzgTTZlmFvJDBHcXTGcoiOTtDdr/AMEr/h98WPDf7ImlfFX9oqwS3%2BJ3xYvpfHXxEhW3aL7Pf36xmG02N8yfZbGOys9pyQLXBoA%2BjaKKKACiiigAooooAKKKKACiiigAooooAKKKKACiiigAooooAKKKKACiiigAooooAKKKKACiiigAooooAKKKKACiiigAooooAKKKKACvF/j14/8A2i/%2BGi/AvwI%2BAvjPwV4fTX/BXiXXtX1Pxf4Lu9aJOnXeh28MMMdvqVj5Yb%2B1JWZmZ8%2BWgAXkn2ivC/iLrS2f/BSr4Q6LIoxe/BP4hsjd90ereDTj8mY/hSbS3LhCVR2j2b%2B7Vl7/AIQf/goX/wBHQfBn/wAMPq3/AM1FH/CD/wDBQv8A6Og%2BDP8A4YfVv/mor2aimQeM/wDCD/8ABQv/AKOg%2BDP/AIYfVv8A5qKP%2BEH/AOChf/R0HwZ/8MPq3/zUV7NRQB4z/wAIP/wUL/6Og%2BDP/hh9W/8Amoo/4Qf/AIKF/wDR0HwZ/wDDD6t/81FezUUAeM/8IP8A8FC/%2BjoPgz/4YfVv/moo/wCEH/4KF/8AR0HwZ/8ADD6t/wDNRXs1FAHjP/CD/wDBQv8A6Og%2BDP8A4YfVv/moo/4Qf/goX/0dB8Gf/DD6t/8ANRXs1FAHjP8Awg//AAUL/wCjoPgz/wCGH1b/AOaij/hB/wDgoX/0dB8Gf/DD6t/81FezUUAeM/8ACD/8FC/%2BjoPgz/4YfVv/AJqKP%2BEH/wCChf8A0dB8Gf8Aww%2Brf/NRXs1eYeM/iv8As0fCi2h1L9oP4meBvDdxq%2Bp6gunzeM9as7NrxYLgowiNy67xGrRAhc7dy5xuGYnUp0o802ku7aS%2B9tL8TowuExeOrqhhqcqk3tGEZTk7K7tGMZSdlq7Rdlq9NTI/4Qf/AIKF/wDR0HwZ/wDDD6t/81FH/CD/APBQv/o6D4M/%2BGH1b/5qKr/8Nf8A/BOD/o6L4I/%2BFto//wAdo/4a/wD%2BCcH/AEdF8Ef/AAttH/8Ajtc/1/Af8/of%2BBw/%2BSPY/wBUuLP%2BhdiP/Cev/wDKCx/wg/8AwUL/AOjoPgz/AOGH1b/5qKP%2BEH/4KF/9HQfBn/ww%2Brf/ADUV3fgaX4H/ABQ8LWvjn4aSeFPEWiX2/wCxaxoTW13a3Gx2jfZLFuR9royHBOGUg8g14eP2%2Bf2PdG8S/Ejw/wDETwLrPh2P4cfEG08IXWo3Xwx1Sa21O/uotPNulrLDZMk0ks2oRQpDGXkcBZVUxSxu3VGUZxUou6Z4dajWw9WVKrFxlFtNNNNNaNNNJpp7ppNdUjtf%2BEH/AOChf/R0HwZ/8MPq3/zUUf8ACD/8FC/%2BjoPgz/4YfVv/AJqKsaR8e/2YtX%2BIeh/C2Xwpqul6x4kt4pNDTxF8LNW0u2vJHsjfC1W6vLKKD7WLZZJHtDIJ4/JmV41aKRV4bwr%2B31%2Bw1qumeE11/U9Mh1LxR4S8O%2BICNH8F6re6dZWetyPDp0818dOiS1gmniljSW7W2OVG9IywWmZnY/8ACD/8FC/%2BjoPgz/4YfVv/AJqKP%2BEH/wCChf8A0dB8Gf8Aww%2Brf/NRXY65rfwK0DwZ4i8fXEHh640zwpDdyeIJ7G3gnNkbWMyTxuEB2yIoyUOGGRxzXl/7K3x6b45%2BKLrwL8Wf2Y9D8D61J4K0fxfolnaavHqq3Okai1ykazP9kg8i8he2ZZ4FEsa%2BbEY55QW2gG//AMIP/wAFC/8Ao6D4M/8Ahh9W/wDmoo/4Qf8A4KF/9HQfBn/ww%2Brf/NRXC%2BGf2sbLxN8XbTwtb/sv6Evg/wAR%2BN/EngrwN4pGtxm71XxDokV893bz2RtAtpbs2laokc4uJWY2eWiQSLVnQPj/AONZLz4mfD/x5%2BzT8LfD/jP4ceGdG8RXQn%2BIzN4cbTb%2BS%2BXdc6q2kJJZywJp11LKhtHUI1uwcrKWQA7H/hB/%2BChf/R0HwZ/8MPq3/wA1FH/CD/8ABQv/AKOg%2BDP/AIYfVv8A5qK8mX9t%2BTWf2S9K/as8B/sseCtd00%2BO10DXpLLxqp01rU6smmDU9Jvl05v7Vt3eRXiJitxIobLLjJ3fjv8Ath%2BDPgl8YNb8IXHwG8MT%2BFPBcvhiLx34l1LXYrO8szrt81naPZ2P2SQXsaOFaVnngON6xCaRClAHef8ACD/8FC/%2BjoPgz/4YfVv/AJqKP%2BEH/wCChf8A0dB8Gf8Aww%2Brf/NRXl/wr/bn8F/FP9rvVf2VtM%2BAfg8XWn6n4gsXtLbxRFNr%2Bnf2W4Rb3VNJNmv9n2F4SjWtz58vmpcWzbB5pCdb8Fvi78T/AI0/BrxR4j0r9kfwJZeO/DPjq98NT%2BFbjxuW0x2tpo1ec6kNK8xV8ty21bRzuXaCQd9AHR/8IP8A8FC/%2BjoPgz/4YfVv/moo/wCEH/4KF/8AR0HwZ/8ADD6t/wDNRXn8P7TXjnxH%2BzjffHzwH%2ByT8Prj/hFtQ8T2nj211z4gCxsrF9Eu57W4axvF0uUXqSPbTFHljtVUJiUxNlR0EP7QEd98aPhF4Qsf2ZtFj8G/Fzw3LqFh4j1HUlg1PTrpLB777LLpv2RlIESqrSfaVKu5ARgpNAHQf8IP/wAFC/8Ao6D4M/8Ahh9W/wDmoo/4Qf8A4KF/9HQfBn/ww%2Brf/NRXnHwY/bL8OfFvxj8WNJg%2BC3w2mtvhbe%2BI7Wfw94Z8dJqni%2B7fS7yW2RpNF/s6IWyXPku0ZNy/LxKA28svE/Dj/gqR8H/GPwT8X/FzVPg/8N5o/D83hu10y/8ACXxBttU0K5vtZlaKKxutUksrdbC4tCElvkaKT7NBLHJmQt5YAPff%2BEH/AOChf/R0HwZ/8MPq3/zUUf8ACD/8FC/%2BjoPgz/4YfVv/AJqK8t%2BP37cvhD9n79hm5/awufgh8PfGuvtouraponhb4ceN4tU0vVrXTre4vLqeLVmsIsQx2ltLI8htsLJtgG95I9/UeOP2pfh3pH7Xdn%2ByZ4O8DfDCS/h/s467N4w8cQaNeyNdln%2Bz6VYiznk1S4it0E8iFoEAngUSEu/lgHVf8IP/AMFC/wDo6D4M/wDhh9W/%2Baij/hB/%2BChf/R0HwZ/8MPq3/wA1FeZfBr9tbw58V734vXkPwQ%2BHFzafCm78VW0vhjwl46TVvF93Jo2pXNkgm0b%2BzohaC7FrJJFm5kOZIVAbeWWr%2Bzv/AMFBvg/8ZfhP46%2BK2tfCjwPcWXg2PS1tLz4Y%2BKYfE%2Bn63e6gn%2Bj6Rb3RtLTOqec0EL2hT5HvLb94fMIUA9X/AOEH/wCChf8A0dB8Gf8Aww%2Brf/NRVDwP44/as8HftWeHPgj8bviP8PfE2jeJvh74h1yGbwr8PL7Rbq0utNvtEt0VnuNXvkljdNUlJUIjBokIbGQbX7OfxL0z9oj9knR/2hbz4RaZ4Q1fV9EubqXSLC7S7/s25heWMql0IYTKA8WQ/lpn0qXxx/ykL%2BF//ZGfHn/p28IUAezUUUUAUfEyeJJfDeoR%2BDbmxg1hrGUaVNqcDy20dzsPlNKiMjPGH2llVlJGQGB5rw74D/tV%2BObr9hnxF%2B058fLXR73WPBc3jNdfXwnp01laXqaFq2p2e%2BCGee4eEyxWCttaWTDOecYFe667p93q%2BiXmlafrt1pc91ayRQanYJE09o7KQJoxNHJGXQkMBIjpkDcrDIPjvwE/Yn034H/DPUfg5q37QPjvx34Z1jUtbvNV0nxnbaHsu/7WnuLm9idrDTLVvLae6uJQAQQZCufLCoADx%2Bb9t79rHwNFcfCf4k6d8Prv4geINP8AAt54P1HR9FvYdJsP%2BEj1O50%2BWG7gkvJJbo2JtJZvMjltxdh0QJbHcwu6L%2B2D%2B1t8RvFmn/sx/DxPh5Z/FCxv/GY8ReINW8PX02iXVtoM2lxIbe0jvkmge7/tzTGO%2B4lFvi4H%2BkbVLdton/BNr4Y6d4J1fwzrnxk%2BIWu6vf23h220jxnrGo2DatoMGg3T3ejxWjxWaQkW1xJLLuuIpnnMri4adW21Lff8E6/ATeFdKsfDvxx%2BImh%2BKdPv9cur34j6Tfacut6qdYdZNTjuDJYvahJmitiFht4vJ%2ByW/kmIRKKAO8%2BD37Tfw%2B%2BJH7Jng79r3xZq1h4S8N%2BKvAel%2BKLi51/U4oINMt720iuVWaeQqihRKFLEgZryv9n/AOKP7ZX7VfgS/wDjX8Jf2kPgtbeFLzxt4m03wwI/hVqOribTtP1y%2B062n%2B2w%2BI4Y7kyxWqSmSONEJkO0AYr6F%2BH3gPwn8LPAWifDHwHo8enaH4c0i20vRdPiJKW1pbxLFDEucnCoiqM%2BleN/shDzP2ddbt2J2TfHTx5FKAcbkfx9qysv0Kkg%2BxoA1f8AhB/%2BChf/AEdB8Gf/AAw%2Brf8AzUUf8IP/AMFC/wDo6D4M/wDhh9W/%2Bain6/8AtQf8E/fCmu3vhbxT%2B0R8HNN1PTbuS11HTtQ8XaVDPazxsUkikjeUMjqwKsrAEEEEZFVP%2BGv/APgnB/0dF8Ef/C20f/47XK8dgU7OrD/wOP8A8ke9DhXimpBThl%2BIaaTTVCu009U01QaaaaaabTTTTaaZY/4Qf/goX/0dB8Gf/DD6t/8ANRR/wg//AAUL/wCjoPgz/wCGH1b/AOain6B%2B1B/wT98V67ZeFvC37RHwc1LU9Su47XTtO0/xbpU091PIwSOKONJSzuzEKqqCSSABk1e/ar%2BJfwq/ZQ/Zv8a/tJeKfhcuraf4K8PXGq3Wm6RogmuLlYlzsRY42IycZcjai5dyqqzDWlXoV03TmpW7NP8AJs8/HZXmeVzjDG4epScldKpCdNtbXSnCDavpdJq%2Bl76Gd/wg/wDwUL/6Og%2BDP/hh9W/%2Baij/AIQf/goX/wBHQfBn/wAMPq3/AM1FUNJ/az/Y/wBc8by/DXS/DWvy%2BIbbw4uvahov/CmtdW60%2BweO7eKW6jbTw1q0v2G5WKOYJJM8YjjV3dFZ2mftOfsweJpPDv8AwiumWCHWfHU3hW9sPEvhLUdH1Gxvo9GutXMLWVzYCZJTa26zKtwtvG8MnmLKzGKObU4S7/wg/wDwUL/6Og%2BDP/hh9W/%2Baij/AIQf/goX/wBHQfBn/wAMPq3/AM1FUPgp%2B1/%2Bwv8AtBaNN4j%2BG3ibS/7Oi8P6frqX/iLwjd6LBc6XfMy2t7BJqNtAtzbyOpQSxF1D4QkMQKu/tG/ERvhXr/g/4afCD4AeGvF3jPxte3iaVpetaqukWMFrZ2rXFzcz3SWd06AfuYlVYXLSXEediB3UAd/wg/8AwUL/AOjoPgz/AOGH1b/5qKP%2BEH/4KF/9HQfBn/ww%2Brf/ADUVz%2BvftR/Cm2/Yn0D9sjw18FrO6j8UW2gJpPh7UhBaGC%2B1a%2BtLCC3u7gJItvHFc3aLPMFkEaRyOFcKAeKtf21zr2p23wi8Ifsy%2BArv4nxePdX8K67ot144EOg2Fzp2mQapMV1UaY8szNa3loVj%2Bxq4Z5g4QQO1AHqv/CD/APBQv/o6D4M/%2BGH1b/5qKP8AhB/%2BChf/AEdB8Gf/AAw%2Brf8AzUV434H/AOCifwu%2BLvxb%2BGPgD4YfDL4VW2nfEn4caD4vsbrx18RYtI1GeLUbq6hey0%2Byj0%2B5XUrmAWrllWaNWZ0UMFO%2BvXfBfxKutZ/a58V/sz%2BMP2d/DOlado/hKy8QeHvElprK3c2qW09zPbMs1obOMWjK8DEYmm3KQTsPFAE//CD/APBQv/o6D4M/%2BGH1b/5qKP8AhB/%2BChf/AEdB8Gf/AAw%2Brf8AzUVg/sp/tLfD39qv4k/ETwv4f%2BBun6doHhGfTn8M%2BJJXil/4Saxu0n23yQiFfIhZ7aQwtvk86FopgUEgUe3%2BDBs0MwKTshvruKIE52olzIqr9AoAHsKAPLv%2BEH/4KF/9HQfBn/ww%2Brf/ADUUf8IP/wAFC/8Ao6D4M/8Ahh9W/wDmor2aigDxn/hB/wDgoX/0dB8Gf/DD6t/81FH/AAg//BQv/o6D4M/%2BGH1b/wCaivZqKAPGf%2BEH/wCChf8A0dB8Gf8Aww%2Brf/NRR/wg/wDwUL/6Og%2BDP/hh9W/%2BaivZqKAPGf8AhB/%2BChf/AEdB8Gf/AAw%2Brf8AzUUf8IP/AMFC/wDo6D4M/wDhh9W/%2BaivZqKAPGf%2BEH/4KF/9HQfBn/ww%2Brf/ADUUf8IP/wAFC/8Ao6D4M/8Ahh9W/wDmor2aigDxn/hB/wDgoX/0dB8Gf/DD6t/81FH/AAg//BQv/o6D4M/%2BGH1b/wCaivZqKAPGf%2BEH/wCChf8A0dB8Gf8Aww%2Brf/NRR/wg/wDwUL/6Og%2BDP/hh9W/%2BaivZqKAPGf8AhB/%2BChf/AEdB8Gf/AAw%2Brf8AzUUf8IP/AMFC/wDo6D4M/wDhh9W/%2BaivZqKAPGf%2BEH/4KF/9HQfBn/ww%2Brf/ADUUf8IP/wAFC/8Ao6D4M/8Ahh9W/wDmor2VmVFLuwAAyST0rk/E/wAffgT4JLDxn8avCWkFPvjU/Elrb7frvkGKidSnTV5ySXm0vzaOjDYTF4yfJh6cpy7RjKT%2B6MZP8Dhv%2BEH/AOChf/R0HwZ/8MPq3/zUUf8ACD/8FC/%2BjoPgz/4YfVv/AJqKqeKf%2BCmH/BP3wcGOsfth/D%2BQp95dN8SQ3pHti3LnNcFf/wDBa/8A4J2i6bTfCXxd1bxPeL1tPDfgrVLhz9CbdVP4NXDUzjKaTtPEQX/b0f0bPq8H4c%2BIOYR5sPlGJku/sKqXzcoQS%2BbR6R/wg/8AwUL/AOjoPgz/AOGH1b/5qKP%2BEH/4KF/9HQfBn/ww%2Brf/ADUV5j/w9t8Lav8A8iD%2Bwx%2B0l4kVv9XcaX8KnELe5eSZcD3xR/w8M/ax8Q8fDv8A4JR/FS5J%2B5/wkur2OkZ%2BvmlsVl/bmWP4ZuX%2BGE3%2BUP1O3/iF3HEP4%2BGjS/6%2BYjC0/v58VdfOKPTv%2BEH/AOChf/R0HwZ/8MPq3/zUVb/ZW%2BI3xp8Yax8UPAnx01/wvq2qeAfiFFodnqvhPw1c6Tb3VrLoOj6mrPb3F7eMsiyajKhYS7SsaHapznyb/hpr/grNrvOkf8EyPDmiBvunXPjNY3BH1FvGPyrof%2BCder/GXXtb%2BPOrftA%2BENI0HxdN8ZoDq2k6DqDXVrb48I%2BGxEElYAvmERs3ozMO1dGGx9LFTcYRmtL3lCUV98ktfKx4%2Bd8JZhkGFVfE18PK75eWliaNaa0bu40pTtHSzlzWu0up9J0UUV3Hy4UUUUAFFFFABRRRQAUUUUAFFFFABRRRQAUUUUAFFFFABRRRQBzXxik%2BJsPwy1if4Oa1oOneJYrXfpl74m0qa%2BsYirAuZYIJ7eSUeWHwqyx/MVy2M15/8I/2rLa//YJ8EftjfGeCC0l1z4ZaL4j1mx0K1dhJe3tlBKLSzhZ2eR5J5lhhh3M7u8aAszc%2BkfEzwdqnxB8B6n4L0b4g6z4VuNRt/JTxB4fhs5LyzBILNEt7b3FuSQCp8yFxhjgA4I80%2BE37EHw68Afs7aN%2Byl8SfF%2Bq/FbwDonhyz0S28OfE/Q9Dvraa1tGiNp50dvp0CTNCIIlQsp/1auwaQb6AE/YS%2BOfxp%2BPvwk1rxJ%2B0B4X0DRfE%2Bj%2BPdb0O80vw20r21qlpdvFHEZJHczSIoCPKuxZGUuscYYIPKPiv8cfhZ4n/wCCxvwH%2BHXgj4m%2BH9Y1rR/hr8R7HxPo%2BlazBcXWkyPJ4amjS6ijcvbswt3KiQKW2NjODXuP7Lf7Hn7P/wCxr4c8QeE/2fPh/pvh7T/Enim917ULXTdKtLRFnuH3eUi20MaiGJcRxqQSiKF3HFeCfti6udK/4LG/sYxFsJe%2BGvihbufrYaM4H/fSCuXGT9nR5vOP4yiv1Pc4dw31vM/Zf9O6z/8AAaFaX/tp9lUUUV1HhhRRRQAUUUUAFFFFABRRRQAUUUUAFefeIfgH8CvjjpNt/wALq%2BC3hLxh/Zeq6n/Zn/CU%2BHLXUPsnmXb%2BZ5Xnxt5e7y4923G7Yuc4Feg14j8c/wBuf9ln9i7SdI/4aX%2BKP/CNf8JLqusf2L/xJL68%2B0/Z7v8Aff8AHrBLs2%2BfF97Gd3GcHHPip4WnQcsS4qHXmty76Xvpv%2BI45rLJX9cjXdBw%2B2pum430%2BOMoNXvbSSve2t7Gr/wwP%2Bwr/wBGWfCX/wANzpn/AMYo/wCGB/2Ff%2BjLPhL/AOG50z/4xXkn/D83/gll/wBHRf8Alk65/wDIVH/D83/gll/0dF/5ZOuf/IVeP9e4V/5%2BUP8Ayn/kaf8AEUsT/wBD2f8A4WVf/mg%2BnvA3gHwJ8L/C1r4G%2BGngrSfDuiWO/wCxaPoWmxWlrb73aR9kUSqibndnOAMsxJ5JrwnxN%2Bwv4r1/4l%2BKfEEHxn02Dwz4l%2BMHhv4inRJPCEkl7balpcekxPALz7aI3gmj0mPA%2Bzh4nmZt8iqEr1/4GfHP4WftKfCzS/jX8FPFP9teGda8/wDszU/sM9t53kzyQSfu50SRcSxSL8yjO3IyCCeQP7Z3wwHjofDIaBr58QH4ov4FOki1g80Xy6QdZN0f32BaHT8XAkzuw6rs3nZXuUZUpUoypW5Wla1rW6WtpbtbQzeKeOf1l1PaOfvczbk5X15uZtuV97ttve7PK/EP/BMeXxD%2B23p37X138UvDsjaX8RU8V2ou/h2k/iBVGivpZ0gay13mPTh5jXCW8dum2Qncz5JqDwV/wSyHg/4E6l8FR8dPtB1D4OeBPAf9qf8ACMbPL/4Rua9l%2B2%2BX9pOftH2zHlbh5Xl53ybsCOP/AIKwfDv4n%2BEtY/4UVplsnibwx8SPh7ofiLSNZ1rSdVji0/xH4qtNGadZdE1K6hWYRtfbY3lWSKWGNpYSjqJIPjF/wVMi8Cfs9eN/G3w2%2BFviPxp4r8MeGfGutTpp3h23hstEtdF1TUdNhutQik1ISSQPcWEigWsklxOkE0qwQcxx6CPqLXfBEvjvwZ4i8A/Eq6s9R0zX4LuxeCxsntiunzxmMwuWlk3ybWYGRdgORhFxz5D%2Bzr%2ByJ8W/grqt3418YftAaV4s8TR%2BENC8I6Fqcvgh7OC10TTZ5pD50C3zGe%2BuBcy%2BbcK8UW5IWS2VUZJPYfAPjSHxlpCTPa3UV3Da2rXxk0y4ggaSW3jm/cSSqEnQCQAtGzhWDIxDqwHz1%2ByL%2B2N8bPjL4%2B8CH4n6b4WXw38Zfhpqvjn4fQaDptzBeaLY2d5psa2l/LLcypeSy2%2Br2kvmxR26o8MyFGBRiAavhz9hbxj4X%2BLVt4r07442L%2BE/DfjbxL428BeFp/CLGfS/EetxXyXVxc3YvALy2V9V1R0t1hgYfbMNMwjTB%2BzZ%2Byh%2B1V%2Bzz8KPEnhh/wBprwDr/jLxBq0WrXfjy9%2BEl6k2paizgXdzqUP9ut9q3wpFDDHBJax2scMaIpjRI1yvEn7Y3xs0r4%2B6rLY6b4W/4Vn4e%2BMuj/DXU9Pl025OtXN7qFhYzLqUV0LkQxwx3WpW1ubZrdmZI5ZfOXKx15B4V/4K9%2BP7bS9ZHipPA2teJrr4V614q0/wJoVld2l54L1Sx1HTrBNB12aS4m3ztLqtvukSK2KC1nYQsrxMQD13x3%2BwP8atf/Zg1f4G%2BEf2kvDOna94r%2BIp8XeLfEWpfDWe6sHnOoRX/wBnsdPi1WBrOPzoIcl7i4ZgZmYmSUyLtfH/APYX1T9p/wAZ%2BC9e%2BMmu/Da9tfD9tpb65e23wmxrt3dWt0LqeOw1ObUJW0yxuZEjR7byp5BEZUFxukDryF3%2B11%2B1VpHjwfsmajf/AA%2Bl%2BJ158UbPw3p/jOHwpfLoa6fP4bu9fN7Jph1EzmVU0%2B7tBCL3DOYZt6qzRLzV/wD8FD/j46fD/wAQeIdQ8MeAvC8%2BleI4PiX4z1D4Ua74i0mx1rR9dTSJovtdneQQ6RaymK9mWe9ZlVI13N8rEgHp/wAOf2EfFvgj426R4%2B1X44WOpeGvCvjjxV4s8KaKvhAw6pHqGuveNcRXuo/a2F5axfb7gRxLbwtiO23ySGAFsTw9%2BxV%2B2foXwM%2BKfwutP22vCGl678R/FUmt2fi3wz8Ir2yl0U3UytqESRvr0rP5kKiKGVJYpLcs0gaRtmzK8S/8FEfF/gv9s5fgf4t1rwZY6XN8U7LwXZeA5NMuj4nuba70uO4g8RLP9p8o2LXcgttotig2t/pPnD7PXnngr/gqt8fvGPgHxZaeGtM8FeJviTL8BNd8f%2BHfh74Z8L6jNfeEtX06S0hfw1rEK3by316suoWyFYRaSMYZcRKJYmIB658R/wBg/wCO3jX4E/Dr9n7w/wDHP4Z6D4Z8GX/m674Us/g9fHQ/EdrAF%2BwWMtqNeWZLeFx5ssbXEi3TrGJAIxJHL2Xxc/Zy/aQ%2BI3x6%2BFHxi0P4/eCNLsvh2skuq6PdfDG8updXurm3ktr14p11mIWkbQv%2B6jaKdonG53nU7B5d44/bv%2BKXhn4FeHvEfhT4l%2BHPEuvap8Vv%2BEU8SapY/AnxHFc%2BGl/su4vxHJ4TN8%2Br3d0fKtx5aSIywXouzH5MLs1Pxz%2B3p%2B0foX7Gfw7/AGvdJ/4RJX1/SIJdV8Kw/D7VtTg1C7acIVbVra9W28OQsp%2BaTUElS2dmSVyYmBAPR/il%2BxJ8Q/2gfiBfeIPjZ8dtLGj23hrxPonhK08C%2BDJNH1LToNah%2BzySXF/Lf3P2mSKHBXyorZGmVZWUlEVeYk/4JqeKfFWk65rXxU%2BNfhrU/F9xD4JTwzqOi/Db%2Bz9J0tvC2oT6hpsk2nNfzG6d5rmVJts8IMOyOEW5QPVHUP8Agoj4v8NftpQfAnxhrXgyz0%2B%2B%2BKa%2BC7TwB/Zl1/wk620mlG7t/ETTm58prGW4AgCi1CASD/STKpgOT%2Bxp%2B3t%2B0r%2B1JqmteF9WHhTRdRm%2BGy%2BJNOeX4baxEmiXZu2ga1jWW9H/AAllsoB/4mGmPDbuyoFP%2BkRgAGl8T/8Agj98OPjb8AvHXgj4m/FPWV%2BIPjjSvFtvJ448Jajq%2BhafYTa%2Bq/aFXSLPU1jubQPDayPa3UswnaAmRz5jGun%2BJP8AwTgtPFXxEutZ8F/FKLSPDfiL/hED42sdY0WfWNa1F/Dd2tzYSQavcXvmwysEjjllnjupG2GRGjld5G5jwh/wUF%2BL%2Bsfs5eLdYi0DRdX%2BIsHj2%2B8JeAIpvCmo6BFqssOnwXr6hfaPfTvf6XDbRyXMksM8iyTQ2iSREfbLcHT8dftY/tP6J%2Byn8Mf2ttA1X4eeR4p8LeFp73wDc%2BGb6XUPEes6o0G%2Bw025S/VbQkTYiEkF0cqzSEIjNQBv/Fn9hf4g/tFeLta1b45/HrTBpsvgfxT4W8LxeA/Bcmjahp1rrkaQzTXF5Lf3X2mWKONCnlx26GUeayEhAlbw9/wTg0fxjruseNf2qfiKvifW9QTw9Fp0/wANYNT8DQaYujR6ilnNH/Z%2BpvcfaCNVuw7%2BeEZBAixIIVrstF%2BLvxvtP28NR%2BAXiu98KXHgu%2B%2BHb%2BIvDaafo1zFqlrLFd21rIlzcPdPFOrNK7KEgiKBVBZ%2Bawf2YP2jPjX40/aX8ffs6fFnUdF1keEdEsb5Nd0z4c6r4UxPNdXcDwR22qXdy2pQYt1ddQtm%2BzMSyAsw4AN/9mv9l7SP2OP2Q1%2BAGi%2BM9V8QRaRp%2BoyNqusajd3EszTPLKcfarid41G8AIJCuQSACxpfHH/KQv4X/wDZGfHn/p28IV6l45/5EnWP%2BwVcf%2Bi2ry3xx/ykL%2BF//ZGfHn/p28IUAezUUUUAFFFFABRRRQAV4L%2Bx/wD8m9av/wBl78c/%2BrA1Wveq8F/Y/wD%2BTetX/wCy9%2BOf/VgarQB1mv8A7E37GXivXb3xT4p/ZH%2BGOpanqV3JdajqOoeAdOmnup5GLySySPCWd2YlmZiSSSScmqn/AAwP%2Bwr/ANGWfCX/AMNzpn/xivO/H/8AwWU/4JufC/x3rfw08dftHfYdb8O6vc6ZrFl/wiGsS/Z7q3laKWPfHaMj7XRhuVipxkEjmsj/AIfm/wDBLL/o6L/yydc/%2BQq8GeN4YU2pTo3u739ne/W%2Bm973NP8AiJuJofulnk48ulvrdVWtpa31hWta1rK1rWVrL2bQP2Jv2MvCmu2Xinwt%2ByP8MdN1PTbuO607UdP8A6dDPazxsHjljkSEMjqwDKykEEAg5Fa37TXwTsv2k/2dPHf7Peoa/LpMPjfwjqGhvqsEAlez%2B1W7wiYISA5QuG2kgNtxkZzXjXgH/gsp/wAE3Pih470X4aeBf2jvt2t%2BItXttM0ey/4RDWIvtF1cSrFFHvktFRNzuo3MwUZySBzXuPx1%2BMPhz9n34PeI/jf4y0zUbrRvCulS6nrKaVCkk8VnEN08wV3QMscYeVhnO2NtoZsKfQwNbLa0JPByg0nryctr%2BfKlrbuTLiSpxJ%2B9njXieTS7qyq8t9bXlUqWvvZNX3t1PI/EX7E3xC8f6D8XZfHvx9tYvEnxb%2BHem%2BGb7WvCfhWbTYdNksxqIW5iikvp5GRxfgNEZgcRNiQeYNnDfBH/AIJTRfCLxFD4mh%2BJPhCw2/FweOX0HwF8L49A0iBh4RvPDhs7a1S8lMIb7ULtpWeRmdGUj5w6ei/Gf/goh8Hfgtpfi7XNU8N6nqFj4K8W2fhvWNRHiDQdKtHv7jTYtRCQ3Gr6lZwybIJ4AwD798wVFfZIU5G1/wCCjuk%2BKfH0d/4JuLS48Ba54M%2BEmu%2BEdVi0KSe8uv8AhMPEGraaVmR7uFY4xFZ2ZVgC8DSTOyXOFgruJOr%2BBv7FHiH4BR%2BBLvwj8XLK5v8AwN8DdK%2BHVvLqHhd2hu/sckDG%2BaNLtWXesLAQhzsLg%2BY23a3WftG/ALxx8VPEHg/4mfB/4n6d4R8Z%2BCb28fStU1rw0%2Br2M9reWrW9zbT2qXVq7g/uZVZZkKyW8ed6F0bzDwb/AMFGj8TP2ivB/gjwh8H/ABNZeAfEfgrxZr9p4s1TQlnbxDDpNxp0Mc%2Blx2VzNOY3%2B1St5U9uk8waBoUIJz6T%2B1J8aPiB8PdG8C%2BFvg4mkQ%2BKPiT43t/Duhah4n0ue4stNzZXmoT3M9rHNbyzbbWwuAsQliJkZAWUZoAreF/2XdY%2BHn7MNl%2By14J8VeGr/RNL8C2mg2Z8ceDG1ZL24QFbi5v4Uu4I7qKdcbrdRDhmc%2BYVZUTzjTP%2BCa9v4W/Z8vvg74Um%2BEEt94h8cN4n8TnxJ8Dor/w%2BLn7HFZwjTtGXUIksDBb21nHEzTTkCBi4kaRmHS6B%2B1p8Urn9g3xv%2B0c/w3tNb8c%2BA4fF%2Bn3fh7Q4pxbatqug39/p7m3T97MsM8tiZUjBllVJQmZHHPIfAP8AbI%2BJf7Qui/Enwf4E/aY%2BD%2Boar8OZdM1G5%2BJ%2Bj%2BCL278NXulXdpNKyrarrKss0MlvcI8q3siDy%2BUV96RgG94u/YG8Uaj8DvCf7JHgv4xaLpfwr0HQ9E07VbO%2B8EPeeIb46fcpP58OpC%2BjgtZJWjjO42cjRuZHQqWXZs69%2ByZ8W/GH7WniL41eMfjL4Vu/AXifwD/wh%2BpeBbfwLfW2pnTf9JkyurR6uAkxnunJkW1X92AihH/fV4Wn/BSr49ab8Ifg9D8SfEPg3wh4v%2BIPw51Tx94g8QP8KNe1ix0zRIrm3FmraRY3xubZjbXsD3NzNd%2BRatBIH/1qBff/APhdvxms/wBt/wAG/CGTXfBmpfDvxx8Ltd8QaVJpmk3P9pR3em3OhxeYbv7W0EtvKurSFUWAMPKQ%2Ba2SKAIP2XP2A/hp%2ByX8YvGfxP8Ahv4y8WXNj4p0XSNMstB8QeNNZ1aPS4bFJUAV9RvrjfneoT5VMKoUU7XYV7J4P/5BM3/YVvv/AErlrUrL8H/8gmb/ALCt9/6Vy0AalFFFABRRQSAMk4A6k0AFFeQfF79v39iv4D%2BbF8VP2m/B%2Bm3MOfN06LWEurtcetvBvl/8dryb/h7h4O%2BIR8j9lT9k/wCMPxTEn/Hvq2j%2BDpLHSm9N11dFNme2Urzq2bZZQnyTqx5uyfNL7oqT/A%2Bxy3w943zbDrE4fL6qo/8APycfZUv/AAZWdGn90n5Jn1xRXyQvxa/4LIfFT974G/ZS%2BE/wxtn%2B6fiJ40n1acL/AHtumqAGxztboeDSn9mD/gqr8Qv%2BSjf8FHdB8J27/wCv0/4f/DK3kJHotzdv5ifUDNZf2rKf8HD1Jf8AbqgvvnKP5Hof6hUcL/yMc4wVF9Uq0q8l/wBu4ajVV/So15o%2Btq434g/tFfs/fCZnT4pfHLwf4baP76a74ltbRh%2BEsimvnv8A4dHeCvGX7z9oP9r745/EMP8A6/T9Z%2BIElvYN6hbe3RNgPoGrsvh9/wAEpP8AgnX8M1QeHv2SfCV0yciTxBavqrE%2BpN60vNHt86q/BRhD/FNt/dCP/twf2X4Z4H/eMzxGIfahhY01/wCB4qtf/wApfcZnjH/gsR/wTZ8ETm11L9qjRr2bOEj0LT7zUd57AG1hkU/nisE/8Fg/gv4i/d/Br9m345eP3b/VHwt8Mrho29CXnaPavvjivpfwd8Lfhl8O4BbfD/4c6DoUajCx6NpENqoHpiNVreo9hnU/irwj/hpt/jOf6C/tXwzwv8HKsRWferi4wT9Y4fDpr5TfqfJX/Dbf/BQjxr/ySf8A4JS6/Hbv9y%2B8b/ETTtJMY9WtyrOfoDmg6x/wWw8efJYeDvgB4Ctn%2B%2B2p6hqeqXkY/wBnyQIifrxX1rRR/Zlef8XFVH6OMP8A0mF/xD/XfKcP/uWRYOHnONfEP/ytiFFv/txLyPkofsi/8FOPGn734h/8FSF0eJ/v6Z4L%2BFVhEF/3biVzJ%2BYpf%2BHWHiDxF%2B8%2BJ3/BR79o3WGP%2Bst9P8erp1s/1iihPH419aUUf2Jl8vjUpf4qlR/%2B3pfgH/ETuLqf%2B6yo0F/05wuEp/isNOXz5r%2BZ8lj/AIIqfsOaswb4k6d448ZnOWPij4h6lLuPqfKljrrfDH/BJr/gnH4RCjSv2RvCcuzp/akEt9%2Bf2h3z%2BNfQ9FXDJcnpu6w8L9%2BVN/e7s58T4m%2BI2LhyVM3xPL2VapCP/gNN04r5JHnnhb9kX9lHwMVbwX%2BzJ8PtJZPuvp3g2xhbPrlIgc%2B9d7Yabp2lWq2Wl2ENtCn3IbeIIq/QAYFTUV306NGirU4qPokvySPlMZmWZZjLmxdedV95znN/fOcwooorQ4grxn9l/wD5Lf8AtHf9lmsf/UK8L17NXjP7L/8AyW/9o7/ss1j/AOoV4XoA9mooooAKKKKACiiigAooooAKKKKACiiigAooooAKKKKACiiigAooooAKKwPil8TfCXwb8Baj8S/HT6kulaVGj3Z0jQrvU7khnWNRHa2cUs8zFmUbY42POcYBNZln8ffhbqnwL079pLRdZvtR8IavoFprWlX2maDe3VxeWV1HHJbvFZxQtcu7rLHiIRGTLY25yKAOyr4R/wCCj2qf2J/wVi/Yg1Pdt3Xnja1z/wBdo9Fix/49X2B8Gvjn8M/j74bu/FPwx1m7uIdO1OTTdUtNU0W70290%2B8jVHa3ubS9iiuLaTZJG4SWNSUlRwCrqT8Pf8FfNROi/8FHP2HtWBwF8earA7eizah4diJPt81ebnEuTLpy7OP8A6XTPtvDqh9a4xw9H%2BeNdffhcX/kfofRRRXpHxIUUUUAFFFFABRRRQAUUUUAFFFFABWV4P/5BM3/YVvv/AErlrVrMm8JaNNcSXKm8haVy8i2upTwqzHq21HAye5xzQBp0Vl/8IfpP/P3qv/g8u/8A47R/wh%2Bk/wDP3qv/AIPLv/47QBqV434l/YZ%2BCvi39p3U/wBqnXbjW5dY1fwFN4VvdETUFTTGilO2S/EaoJFvjABbeeJOIVCBRyT6h/wh%2Bk/8/eq/%2BDy7/wDjtH/CH6T/AM/eq/8Ag8u//jtAHzx4H/4Ja/CbwjGw1n43fEfxJKtv4EtLKXW73TF%2BxWfhLW/7Z0m1iS0sIY1j%2B0EpMSpkkjJ%2BdZP3lN8e/wDBK34OeMvBOteBdG%2BM3xH8L23ijSPEuj%2BLbnw5qenpPrWma3ql7qdxZzNPZShEiuNQuvIkhEUyJKymR9zFvon/AIQ/Sf8An71X/wAHl3/8do/4Q/Sf%2BfvVf/B5d/8Ax2gBnhPwrN4ThlsU8T6hfWmyCOxtL1LfZYxxQJFsjMUSOwYoZGMjOd7ttKptRfI/hP8AsGeBvgvrV5rvgr4u%2BNxNbeF9S8O%2BAo7yfTpo/Amm31xHczwaWpssMvnQWjL9t%2B14Wygj5jUo3r//AAh%2Bk/8AP3qv/g8u/wD47R/wh%2Bk/8/eq/wDg8u//AI7QB5bq/wCxD8ONZ%2BPb/HKfxz4qjtrnxTaeKNS8CxXVqNFvtetbFLG31OVTbm586OCG3AjW4WAvbRSNEZF3mrrn7CPgL4gz%2BLbv44fFPxp4%2Bn8U%2BE7/AMM2s/iG4sLdvD%2Bk3kqSz22n/wBn2lt5bNJDav58vmz7rO3JlPlivXP%2BEP0n/n71X/weXf8A8do/4Q/Sf%2BfvVf8AweXf/wAdoA8VH/BPvwe%2BgTXF78ePiDc%2BOZPG8HiyL4qzS6T/AG5b6lDpx0uNo0XTxYLENPeW1MP2QxslxMzKZZGkK%2BJ/%2BCfvg7xF8D7P9mmy%2BO3xC0nwE%2Bg3Wk%2BK/Dmm3OmEeK4buSSS%2BkvrmawkukluWmnMslrNbE%2Be5XadpHtP/CH6T/z96r/4PLv/AOO0f8IfpP8Az96r/wCDy7/%2BO0AcN4j/AGZbDxn8adJ%2BLXjT4teLNV0zw7qSal4b%2BH9x/Z0eiaZfpaNardoIrNLuZ1SSV1Se5liSSUyKiskRjzdG/ZIm07xRrvxG1X9pH4hav4t1LQ5NG0LxXqS6N9q8MWDzrcPBYRRaclth5I4Wd7mG4kk%2Bzwh2cIor0v8A4Q/Sf%2BfvVf8AweXf/wAdo/4Q/Sf%2BfvVf/B5d/wDx2gDxJ/8Agnp4PMC%2BIo/j78RE8eL46Pi0/E9Z9JOrtqB0r%2Bx9phOnnTvI/s//AEfyRabBgSY8797Sa/8A8E8vBeufBi1/Zwh%2BPXxFsPh/LolzpfizwpaXWltF4riup5pr5764lsHukkumuJxMbWa3BWUhQnGPbv8AhD9J/wCfvVf/AAeXf/x2j/hD9J/5%2B9V/8Hl3/wDHaAOG8Rfsyaf42%2BN2m/GDx98WvFmuWGg6gdR8NeA77%2Bz00XSb82T2ZuoxDZpdTP5UtwQtxcTRq87OqKVjMfEfCj/gnj4T%2BDFhbW3gn9of4lLcaD4IXwf8P9QvLnSZpvBuiCa3l%2ByWIbT9kwP2O0RpL5buRktowXPzFvcP%2BEP0n/n71X/weXf/AMdo/wCEP0n/AJ%2B9V/8AB5d//HaAPGh/wTg/Ze8T%2BDtf8N/HzwXZ/FrUfE2vz63rHif4naBpepXz6hJY22nieFFs47a1ZLSztYVEEMa4gUkMxZmwtL/4JjfDrwZf/CyX4Q/Hfx54JsPg94OHh/wfoXh%2Bx8PPYJuG241F4bzSZ1W/uEzHLcReW2x5QgTzpvM%2Bgv8AhD9J/wCfvVf/AAeXf/x2j/hD9J/5%2B9V/8Hl3/wDHaAPNdQ/ZNutQ/a0j/a1H7SXj%2BC5i8PvokfgqGDQ/7GWxcRs8WW0w3vM8a3G/7VuEg2giL91Vv4PfsuW/wx%2BJN78YfGHxu8a/ELxPc6DHotrq/jI6ZG1hp6zGdoIYtNsrSL55SrvI6PI3loN%2BFArv/wDhD9J/5%2B9V/wDB5d//AB2j/hD9J/5%2B9V/8Hl3/APHaAE8c/wDIk6x/2C7j/wBFtXl3jj/lIX8L/wDsjPjz/wBO3hCvUT4M0N8LO19MmQTFcatcyI3sytIVYexBFeXeOP8AlIX8L/8AsjPjz/07eEKAPZqKKKAPIv2%2BviF40%2BFH7FHxT%2BJHw81mTTNZ0XwNqN1ZavDGGfTSsDbrxQwKkwLumG4Fcx8gjIrzn4HWPxH0DV/2hv2efgn8XNZ1CHw3Zaf/AMIDr/jfxLd67Jo2r32iiVoJby9kmnmiST7LebJHfaL0hQIzGi/T17ZWepWcunajaRXFvcRNHPBNGHSRGGGVlPBBBIIPBBrkPAn7OH7PHwu0Oz8M/DL4C%2BC/Dmm6fJcyWGn6F4WtLOC2e5QJcNHHFGqoZVAVyAN4ADZFAHyN%2BzBeeK28X/Fr4GftIp8UvCXgrwl8K/CniLxHc%2BJfjdfXuq2OrtLq7ajcxarp2oyT21tLFY20gt0niASMubaFbja%2BL4Z%2BBf7Ump/sdfCT4sL4q8X6paRweIvHPjfwj4n/AGjvEvh3Uk0/Ug15p%2Bm/2pA89xMdPgkigEdxKsW6Is0qli1faHhL9mf9nDwD8NNV%2BC/gX9n7wRovg7XY549b8J6T4Us7bTNQSePyplntY4xFKJI/kcOp3Lwcjipvit%2Bzx8APjvFpsHxw%2BBvg7xkmjSPJpCeK/DNpqIsXfaGaEXEb%2BUTsTJXGdq%2BgoAreBPjBZeM/2cPD3x1%2BGvgHxHrtprnhGw1nRPDqTW6arcwXFvHNFEzXtxFEJtjjcZZlGQ2XJ6%2BYfsM6tf69%2Byxca5qvhi%2B0S5u/jf40muNH1OSB7mxdvH2qloZWt5ZYS6E7WMcjpkHazDBP0PHHHDGsMMaoiKAqqMAAdABXiv7D1haan8Bdfsb6ASRSfGX4jBlJI/5nbWiDkcgg4II5BFAHtlFZX/CH6T/z96p/4PLv/wCO0v8Awh%2Bk/wDP3qv/AIPLv/47QBqVU17QtH8UaHe%2BGfEWmxXmn6jaSWt9Z3Cbo54ZFKPGw7qykgj0NVv%2BEP0n/n71X/weXf8A8do/4Q/Sf%2BfvVf8AweXf/wAdoA%2BfvBP/AATB%2BFHw0%2BEfgP4YfDz41fEfStQ%2BH2t6nqml%2BOV1PT7nW7yW/SaK6F1Jc2UkEm6KbyldYUljSGIRum0k2PA3/BMT4B/D/wANeHvCuieLfGElt4a8NfDzQ7BrvUrZ5HtvBuq3eqaW0jfZxuklnvJVuG4DoqCMQsC7e8/8IfpP/P3qv/g8u/8A47R/wh%2Bk/wDP3qv/AIPLv/47QB4h8Nv%2BCd3gX4U/ETS/iB4S%2BOvxEVfC/hvXdC8B6FcXmmyWHhaz1Wa2mmS0Q2O%2BUxPaQeSbp7jYqbDuT5a9I%2BOfwD0T47%2BDdL8Oav4013RNU0DWrXWPD3izQHtV1HTNQgDKtzEJ4Jbdi0ck0TpJC8bxzSKUweOn/wCEP0n/AJ%2B9V/8AB5d//HaP%2BEP0n/n71X/weXf/AMdoA4z4Z/s4ad8IPhpa/C/4f/FDxTZWkGn6wLu%2BZrGW6v8AVNSuzeXGszPJasDei5kuZgEVbcteS74HAiEfMT/sL%2BB9a%2BDnxG%2BE/jr4seNvEV58WLVrTx1401K6sYtXvrQ262otUNraQ21vCLcNEEhgTHnSyf62RpD61/wh%2Bk/8/eq/%2BDy7/wDjtH/CH6T/AM/eq/8Ag8u//jtAHnP7QP7IHg/49Xem6ta/ETxR4I1HTvDmo%2BHW1LwS9jFLc6LffZzdae4u7W4RY2a1t2WSNUmiMf7uRNzhs26/Yn0mH4%2BeBPjl4S%2BPvjvw/a/DrwtN4c8O%2BBtKh0VtHGlzNYtcW0huNNlvGEp02zywuVdfJ/dtHufd6B461H4WfC/w1P4y%2BJXxAHh/SLXH2jVNa8WzWtvFnpukkmCjP1r5o8R/8FTP2ZNb1mfwb%2Byz4M%2BJ3xr12F/Le2%2BHttqMtnA/bzruZ0jRP9td45rjxWYYLBtKtUUW9lu36RV5P5I%2BjyPhDijiWMp5Zg51YR%2BKaXLTj/jqzcKUP%2B3qi9Nr/YdY3hq8tLDw/c319dRwwxalfvLNM4VUUXU2SSeAPevkgaH/AMFdP2iOdM0vwd%2Bz9os3SXUfEV14m12MHowRZBadOSrYIPHrWna/8EjPhH4sMetftlftB/EL4uzJKJGsPEniR9P0aKTdnMVjaFFiyxzt3kE9uueT%2B0cVXX%2BzYeTXedqcfud5v/wFHvvg/h/KnfO84owa3p4ZPF1PRyh7PDRfrXml5nd/F7/gqb%2BwX8F706J4h/aK0bVtWL%2BXFovhLfrF1JL/AM89tmsgR/ZytcQv/BQf9rL4vtt/ZT/4Jp%2BO76zk%2B5r/AMTtSt/DNvt7SJFKXkmQ9tpBIOcV778If2dP2b/2f9KK/BX4P%2BFPC8CxYlutG0mCB3UDkyTKu9%2BO7MTWR8Q/24v2N/hOXi%2BIf7UXgPS54877ObxRbNcfhCrmQ/gtZ1Y5hy82KxUaUf7qS/8AJ6jf4RMK/EnhpkUObDZdKu19vGYjlj6%2Bxw3so/KVeX5njbeFf%2BC0fxXHk638VPgt8KLKbgS%2BG9Eu9c1GAHqSLsi3Zh7cU1f%2BCSfhj4lN9r/bB/av%2BK/xZeT/AI%2BNJ1LxM%2BmaO3rss7Mr5efaTpirWqf8Fpv2C5L19H%2BG3jPxN481CM4On%2BCfBGoXkhPYBmiRGz7Niq4/4KN/tNeOzu%2BA/wDwSs%2BLmqI3%2Bql8dXVn4ZVx2P8ApDSYB9a89vh6o/3laVd9uadRf%2BAwXJ96Z5f/ABG/FYZ8uTToYX/sDw8VP/wbGniK1/StB9dGeu/CH9g/9jX4DeVL8KP2afB%2BlXMOPK1H%2Bxo57xcf9PEweX/x6vWgABgCvkkfGP8A4LJ%2BLT52gfsbfCfwih6Q%2BKviFLfuv1NkoBpJtJ/4Lf8AjJf7KvvFn7OPgy1mOJNV0Wy1nUL62Hqkdx%2B4c%2BzcV6FHHYahDkw%2BGqJdo0uVfi4/ij43MuMszzvEPEYxYrEVH9qpGpJ/%2BBVal0vuXkfW9FfI0X/BLrx78Rm/tT9qb/goZ8ZPGN8w%2Be18OazH4d0wE9cWlqrAemQw4qQf8ERf%2BCe2oHzPGvw98S%2BJZT1n13x/qsjn6mO4StvrWbT1hhkl/eqJP7oxl%2BbPP%2BuZ7U1p4SMV/fqxT%2BahCdvvZ9Ual4l8OaMhk1jxBZWir95rm7SMD/voiuU1/wDac/Zs8Ko0nij9oTwPpqp95r/xZZwgfXfIK8Q07/gif/wTA0txJbfsrWTFen2nxLqsw/KS6bNdVoP/AAS0/wCCd3ht1k0/9j7wRIV6fb9IF0PxE5cH8aPaZ5L/AJd0l/2/N/lBB7XiSW1KjH1nUl%2BVOIvjL/gqX/wTv8CQvPrn7YHgidU6jRtXGot%2BC2gkJ/AVwo/4LT/sZ6qTP4B034jeK7P%2BDUfD3w41CWB/oZI0P6V774O/Zg/Zp%2BHcyXHw/wD2ePA2hyR/6uTR/CVnbMv0McYIruQABgDAHQCj2Wdz3q04%2BkJS/GU1%2BQew4iqfFXpQ/wANOUvxnNfkfJX/AA%2BL%2BATcxfAH44OP7yfC26x/Ol/4fF/ABeZvgH8b4x/ef4W3WP519aUUfVs3/wCglf8Agpf/ACYfU89/6C4/%2BCY//LD5K/4fNfsqw86n8PvizZDu118M74Afkpo/4fY/sHxcah4h8ZWhHVbj4eaoCPygNfWtFH1fOVtiI/8Agr/KYfVc/W2Kh86P%2BVQ%2BSv8Ah9v/AME%2B5PlsvHvii5k7xQfD/VSw/O3FB/4LJ/s36qfL%2BH3wa%2BM/i2btb%2BHPhfdyOT6Yl8sfrX1rRR9Xzl74iK9KX%2Bc2H1XP5b4qC9KP%2BdRo%2BSR/wUp%2BPPiTn4b/APBLH453Qb/V/wDCT6dbaNn6%2BbI%2B2lH7Yf8AwVA1H59F/wCCREkcTfcl1L456PE2PePysivrWij6hjpfFi5/KNNf%2B2yD%2BzMyl8eOn/27ClH/ANtl%2BZ8kn45/8Fh/FJ8rQf2Ffht4VJ4Evif4mi%2BUe5FmgNKNM/4Li6wN914n/Zk0ZW5CWdlrtw6D0Jk4J%2BnFfWtFH9lzl8eJqv8A7eUf/SYIP7GqS/iYus/%2B31H/ANJpo%2BSv%2BFcf8FpG%2BZv2kvgcpPVV8H3xA/Nq6L/gnXpvxp0jW/jzp37Q3iXQ9Y8YR/GaD%2B2NR8N2b29lNnwj4bMXlxyfMuITGrZ6srHoa%2Bk68Z/Zf/5Lf%2B0d/wBlmsf/AFCvC9dGGwMMNNyVScunvTcl9zW51YTLYYOo5qrUlpa05uS%2B5pa%2BZ7NRRRXaeiFFFFABRRRQAUUUUAFFFFABRRRQAUUUUAFFFFABRRRQAUUUUAc58XNa8QeH/hprWq%2BFfh5q/ivUUsWW08PaDcWUV3eM%2BE2xvfXFvbqQGLHzJUGFOCThT4H%2BzH4i/aj%2BBn/BOPwb4Hh/Yr8VT/EbwB8IdM0q28Hal4o8Pwx6pq1laQ2gt1u4dRmijjd0MolYjEQOQJMRH6fooA8R/YM8C%2BN/B3wm1bV/i54A8T6L458T%2BKZ9Z8c3niptLEusalJb28ZuYI9Mvr2GC0jhigs4ImlMqQ2SB95/eyfGX/BZPwX4k8Iftj/AP4n6t8XPEOuWdtq19qen6HqttpyWmhiPX/CqFbZra0inYN5oybiWc/Ku0r82f07r85f%2BC%2BANiPCfiwcHQfh5ruoBv7u3xZ4GTP8A5Eryc9/5E1d9ot/dZ/ofoHhTr4k5TD%2BevGH/AIMVSn/7kP0aooBBGQaK9Y/PwooooAKKKKACiiigAooooAKKKKACiiigAooooAKKKKACiiigAooooAKKKKACiiigAooooAKKKKACiiigAooooAKKKKACvGfHH/KQv4X/APZGfHn/AKdvCFezV4z44/5SF/C//sjPjz/07eEKAPZqKKKACio729s9Os5dQ1C7igt4ImknnmkCpGijLMzHgAAEknpXP/DD4yfCH42%2BEh4%2B%2BDHxU8N%2BLtCM8kI1rwxrlvf2nmJ99POgdk3LkZGcjPNAHSUV55Zftc/so6l8N9W%2BMenftO/Dy48IaBepZ674qg8aWL6bp1w7xokM9yJfKhkZ5YlCOwJMiADLDL9S/ax/ZY0f4Y6Z8bNX/aW%2BH9r4M1q8Npo3i658ZWKaZf3AeRDDDdNKIpZA0Uq7VYnMbjGVOAD0CvGf2D/%2BSIa5/wBlm%2BI//qa63XsqOkiCSNwysMqwOQR6141%2Bwf8A8kQ1z/ss3xH/APU11ugD2aiiigAooooAKKKKACiuE%2BNX7T37O/7OemHVvjn8aPDnhePyy8cOrarHHPMP%2BmUOfMlPsisfavlO%2B/4KdftF/th6nceBv%2BCW37Nl1rViszW938XfiDA9hoVkc7WeGI4e4ZQyttJ8xcc27ivOxea4HBz9nKV5vaEfem/%2B3Vd/N8q7s4quYYSlVdLm5prXlinOSXdxjdpecuVeZ9c/Gr49fBv9nPwTN8Rfjh8R9L8M6NAcG81O4C%2Ba%2BM%2BXGgy8rkdEQMx7Cvzu%2BP8A/wAHAUnjnxA3wz/Yo8FrC9xK0MXizxPpk93czMMZFnpVqGldyDlGnKISMMor1Lwf/wAETtI%2BLXjOL4zf8FHP2h/Enxi8VMAx0uO5bT9HswcFoYo4iH8sN0EZgQ94%2Ba%2Bu/g/%2Bzv8AAj9n/Sf7E%2BCXwf8ADnha3KBZRomkxQPNjvI6rukPuxJ968mtT4kzN2i1hqf/AIFUf3e7H0Tb8z6DLM%2Bp5dD2mGy6nUq9J4pucIvvHC0pQhNrp9YxEo96TWh%2BZPw//Zc/bd/aa8U23xS8c/ss6r4/1oN5ln4r/am1w6fo9mTyVg8M2DFoUP8AdZpUOfug19SeHf2a/wDgrRNo0Ph2H9r/AOEnw10%2BFdsNh8O/hYt3DbL6RpeFQB%2BAr7EorbC8OYbDJt1ZtvdqXLf1cVzP5zZw57mPEvFUovOsyr1lH4YRmqNGC7U6FCNOlTXlGN%2B8pPV/JJ/4Jx/tL%2BLxt%2BMH/BVb4xXyv/rh4Nis/D%2B712%2BSr7afa/8ABFT9hjVJhf8Axb0bxn8RL0A4v/HHj/UbmXJ6n91LEufwr6zors/sPKn8dLn/AMblP/0qUl%2BB8/8A6uZK9alFT/xuU/8A0ucl%2BB8nH/gh1/wS7%2B0C4T9mIIQwLIvjLWdrY5wV%2B2YI9q9N%2BHf/AATy/YZ%2BFQR/A/7J/gS2mi/1d3c%2BHYLq4X6TTq8n/j1eyUVrSynKqEuanh4J%2BUI/5G1HIskw0%2BalhacX3UIf/IlfS9J0rQ7JNN0XTLeztoxiO3tYVjRR7KoAFWKKK9BJJWR6iSSsgooooGFFFFABRRRQAUUUUAFFFFABRRRQAUUUUAFFFFABRRRQAV4z%2By//AMlv/aO/7LNY/wDqFeF69mrxn9l//kt/7R3/AGWax/8AUK8L0AezUUUUAFFFFABRRRQAUUUUAFFFFABRRRQAUUUUAFFFFABRRRQAUUUUAFFct8bfBFj8RvhRrvg3Utf17S4LuxJe%2B8M6/daXfR7CJB5V1aSRzQklApaN1YqWGRmvmZ/i98T9N/4Io/D/AOK6fEXVofEOrfCPwX/b3jOa%2BaS/tYr6PTodR1RriQlvOjgnuLgzMSQybyeCaAPsKvz/AP8AguTo/wDbnhmey252fADxlcY/64%2BJfA8v/slfQv7FFxq2h%2BNfjV8G4PGOva94b8CfEy303wteeJfEN1q15bQzeH9Iv57N728kluLkR3N3OwaWR2QTCLOI1UeB/wDBTzXPEnj3xp4v8H6v8IPEOiWei/st/EyWw17VbnTntNaCX3hSUvbLbXcs6BPKG77RFAfmG0N82PPzaHtMqxEe8J/%2BkyPr/D3E/U%2BPsor/AMuKw7/8r0v8z7e%2BHGsf8JD8PNB1/fu%2B3aLa3G713wq2f1rZrzv9kPWP%2BEh/ZO%2BF%2Bv793274d6JcbvXfYQtn9a9Erqw8/aYeE%2B6T%2B9J/qeDm%2BG%2Bp5vicP/JUqR/8BqVI/wDtoUUUVsecFFFFABRRRQAUUUUAFFFFABRRRQAUUUUAFFFFABRRRQAUUUUAFFFFABRRRQAUUUUAFFFFABRRRQAUUUUAFFFFABXjPjj/AJSF/C//ALIz48/9O3hCvZq8Z8cf8pC/hf8A9kZ8ef8Ap28IUAezUUUUAeRft9/D7xp8Vv2KPin8OPh5o0up6zrPgbUbWy0iBwr6mWgbdZqWIUGdd0I3EL%2B85IGTXlPwi0nQ/jb4p%2BPeo6h8P/H/AIY8EfFywtdI0uK%2B8C6npF9ctb6ELa/vhBcWySWjGOSC1iedEMrWGIxIoQt9Z0UAfnN4E%2BCXi74g2PxG8bfGnx58S4PAtt4W%2BGuieGdf8G/s/wCp6FrJ1Dw5rl3qcM8Gg3dre3U3lPJZLLcNamCQPKqQxxwE11Nr4t%2BNia78O/2iP2n/AIP%2BP/HfhbSdE%2BI/hi0jh%2BGNzLrepRXt5pZ0a/v9HtLbfaST2NhqFs7mCFE%2B1qZEt1nZE%2B8KKAPIf2YPhr8cPhp%2Bwl8NPhDqniXTbD4h%2BHfhboWk6nqmt2EmqW0eqW%2BnwQ3DyxRXEDXA8xH%2B7MhOc7vXJ/4J02/iW0/ZuvrXxlq1jf6vH8W/iGup32mac9pbXE48Z615kkUDzTNChbJCNLIVBALtjJ90rxn9g/8A5Ihrn/ZZviP/AOprrdAHs1FFFABRRXzj/wAFEv8AgpD8Jf2A/h4LzWfL1vxpqtu58M%2BEIbgLJPjI%2B0Tt/wAsbZSOXPLEFVBIO3nxeLw2Bw8q9eSjGO7f9avslqzOrVjRim7ttpJJOUpSk0oxjFJylKUmoxjFOUpNJJtnrfx6/aE%2BDf7Mfw6u/ir8cvHtj4f0SzGDcXb5eeTBIihjXLzSHBwiAscE4wCa/Mr9oL/gqB%2B17%2B3d49k/Z2/Yt8A%2BJ/DmnXeUex0JkTxJfQltpluro5h0K365Zi0oOzqknGf8CP2GP23v%2BCrfxEs/2of2yvHep%2BGPCTlZdGkEBguXtmwwj0i0fK2MLcH7XKGlkCxuA25jX6e/s9/sz/A39lfwFF8N/gN8OrDw/piYaf7NHumu5AMebPM2Xmk/2nJOOBgACvlebOeJNYXw%2BGfX/l5Nf%2B2p/L5n1i4eyvJF7Tie9St0wNKpyqP/AGHYim24vvhMLJ1FrGviab5qcfiP9j7/AIIF/DPw1r6fGT9tfULfxn4knlFz/wAIpZ3M8mlWshA/180zGe%2BfIBO8rHksCrjBr9DdD0LRPDGj23h7w3o9rp%2Bn2UKw2djY26xQwRqMKiIgCqoHAAAAq1RX0OXZTl%2BVUuTDQUb7veT9Xu/y7I8nMM0q5hJJU6dGkvhpUacKNKH%2BGEEle28pupUlvKpJthRRRXonmhRRRQAUUUUAFFFFABRRRQAUUUUAFFFFABRRRQAUUUUAFFFFABRRRQAUUUUAFFFFABRRRQAV4z%2By/wD8lv8A2jv%2ByzWP/qFeF69mrxn9l/8A5Lf%2B0d/2Wax/9QrwvQB7NRRRQAUUUUAFFFFABRRRQAUUUUAFFFFABRRRQAUUUUAFFFFABRRRQBjfEH4dfD74teDr74d/FTwJo3ibw/qkax6loXiDS4r2zu0DBwssMyskgDKrAMDyoPUVz3gL9l39mb4V%2BF5fA/ww/Z18CeG9Fn02bT59H0HwjZWdrJaTMWmt2iiiVDE7ElkI2sSSQa7qigDB%2BGvwr%2BGHwY8IW/w%2B%2BD3w40HwnoFo7taaH4a0eCws4Wdi7lIYFVFLMSxIHJJJ5r5x/b60b/hIvio3h/Zu%2B3fsp/Fe324675/Cy/1r6sr5%2B/aE0f8A4SL9sPwf4f27vt37P3xHt9vrv1Dwkv8AWscRD2mHnDvFr701%2Bp6OT4n6nnGGxH8lWnL/AMBqU5f%2B2mn/AME1tY/tz/gn/wDBu937tnw60q3z/wBcbZIsf%2BOV7dXzP/wRy1j%2B3P8Agmj8J73fu2aJc2%2Bf%2BuN9cRY/8cr6YrlymftMqw8u8If%2BkxPe8QcN9T4%2Bzeh/LisQv/K9X/MKKKK9A%2BQCiiigAooooAKKKKACiiigAooooAKKKKACiiigAooooAKKKKACiiigAooooAKKKKACiiigAooooAKKKKACiiigArxnxx/ykL%2BF/wD2Rnx5/wCnbwhXs1eM%2BOP%2BUhfwv/7Iz48/9O3hCgD2aiiigAorjv2g/jNoX7O/wO8WfHPxJpl1fWfhTQLnUpNPsdvn3jRRlkt4txC%2BZIwWNdxA3OMkDJrz/wACfte%2BIYvCPxSufj98JYfDXiX4R6cNT8R6H4X19tbgu7B9PN7DNaXEltavKzBJ4TG8KES27gFkKSMAe40V83/CP9tP4y/F59e%2BHmifAvwWvxF03wn4d8VaZ4fh%2BKkk%2Bl3Oi6xJdJBNNqCaZ5kEyfYbkvEltMpHklJJBISnG%2BLf%2BCpup%2BHPC3gO7ufh38O9D1bxb408UeF9Tm8ffGA6Nodlf6HdS2swttSGmzG9WaWJhFmCFjyGVHVkAB9hV4z%2Bwf8A8kQ1z/ss3xH/APU11uvYNPmubiwgnvYoUmeFWmS3mMkasQCQrlVLLnoxUZHOB0rx/wDYP/5Ihrn/AGWb4j/%2BprrdAHs1FFfM/wDwUQ/a%2B8U/BzSdK/Z2/Z6ltbn4ufEGKWPQPtMiiDw/YKGNzrV2xyI4IEV2BYYLIThhG61zYvFUcFh5Vqmy%2B9t7JLq29Ev0Ta5cZi6WBw7qzu9kkleUpN2jGKWrlJtKKW7frbL/AOCgP/BTfwj%2BypBe/Cz4T2Nn4q%2BJg0x7ybTZJ8WHhy0AGb/VJVP7mIblKxZEkpZFGN6k/K3/AATf/wCCcnjj9sT4mN%2B37%2B3Td3uv2Gp3S33h/Tddh2yeInBBiu54TxDYJgeRbABXCqzDywqvf/Ya/Yh8F/ta%2BIV1qCzv7v4G%2BHta%2B2ar4i1wP/aXxj8RxMfM1G7aQl/7OilL%2BXATtJJ3bnaXZ%2BokEENtCltbQrHHGoWONFAVVAwAAOgFfLYTB4jiHFRxuO/gxd4Q%2By3/ADP%2BZLo2rSd2koJc/wChRwNXw7pqeLs87nF3Sd45dCcbezg9njpwlavW3w0JOhR5KsqtSKqqooRFAAGAAOAKWiivsj4cKKKKACiiigAooooAKKKKACiiigAooooAKKKKACiiigAooooAKKKKACiiigAooooAKKKKACiiigAooooAK8Z/Zf8A%2BS3/ALR3/ZZrH/1CvC9ezV4z%2By//AMlv/aO/7LNY/wDqFeF6APZqKKKACiiigAooooAKKKKACiiigAooooAKKKKACiiigAooooAKKKKAOO/aD%2BM2hfs7/A7xZ8c/EmmXV9Z%2BFNAudSk0%2Bx2%2BfeNFGWS3i3EL5kjBY13EDc4yQMmuM%2BEP7T3jfxPZfETw98X/AIMJoXjP4bRw3Gq%2BG/CevPrkWoWs9kLu2ks53trV5XfbNB5bQoRNA4BZCkjdn%2B0J8GdD/aJ%2BBviz4GeJNUurCz8V6Bc6bJqFjt8%2BzaWMqlxHuBXzI2KyLuBG5BkEZFeaeDP2QvicNO%2BIdx8Xvj1p%2Bs658VLB9P8AF%2Bs%2BGfCU2jm3sk037FaR6crX9wbR4i89w0kjzl5bhtoiUIqgGf8AsC/t%2BQftwN4iSz8KeGIItB0rR786r4J8d/8ACQ6eHv0uWOm3E/2S2%2Bz6nbC3Vrm02v5S3Vud58zA6bx0A3/BQn4XqwyD8GPHmQf%2Bwt4Qqn%2Byr%2ByV41%2BBfjbVfiR8TPivoviXWLzwToPhKyTwz4LOg2dvpmktevbmSA3d0Zbhmvpd0gdI1VUWOKMbt%2BVf/CP4UeBv%2BCm3gvx74J%2BGPh7R9d8T/B7xxL4l1rStFgt7vVnj1bwl5bXM0aB5yu98FyxG446mgDk/%2BCIxNl/wTu8LeFWPOg6/r%2BnkHqNurXT4/wDH6%2Bs6%2BS/%2BCPH%2BgfAn4h%2BEun9gfHPxTp%2B3%2B7tuVfH/AJEr60ryci/5E2HXaKX3XX6H6B4ra%2BJWbT/nrzn/AODFTqf%2B5Aooor1j8/CiiigAooooAKKKKACiiigAooooAKKKKACiiigAooooAKKKKACiiigAooooAKKKKACiiigAooooAKKKKACiiigArxnxx/ykL%2BF//ZGfHn/p28IV7NXjPjj/AJSF/C//ALIz48/9O3hCgD2aiiigDjv2hPgzof7RPwN8WfAzxJql1YWfivQLnTZNQsdvn2bSxlUuI9wK%2BZGxWRdwI3IMgjIrivgf%2Bzp8Yvhv4p8UfEr4h/Gnw94k8U%2BNriE%2BI7%2Bx8Czafarb2tkttY29rbtqE5hVH86eUySTGV7hwvkqEC%2BzUUAfI%2Bif8E1viJ4J%2BHnxIHwg%2BN/gT4dfED4jafpmkz%2BJ/hx8H/7H0vS9MtbieaRbfTotTMovJ/tl2HvTd%2BYC8TIFMCV3ifsx/tB6F%2Bzlov7Pnw7%2BK3wm0C1sNGu9Fv1t/gvdzae2myIscUVtZya4TA6IG3tNLcJKWBaMYIb3yigDifCH7P3w08N/s96H%2BzJ4g0KDxT4V0XwrZaA9l4qtor5dRtbaCOFPtKSKUmZhGpbK4Lc4rgf%2BCdPhjw14K/ZuvvB/g3w9Y6RpGl/Fv4h2mmaXplolvbWkEfjPWljiiiQBY0VQFCqAAAABXuleM/sH/wDJENc/7LN8R/8A1NdboA7T9oX42%2BEv2cPgj4o%2BOnjmbbpnhfR5r6eMOFadlH7uFSf45JCka/7TivzO0n4X/Fn4/wDi/TPhF4l1yaT40/tH6ZF4i%2BM%2BvW6Ef8IJ4BDK0Oj24OTA06%2BXGUPLHCyAghz7j/wVh%2BMPhnxz8UfDX7L2vzeb4M8FaTL8TPjNGj8TaZYE/YdMbsTdXW1Nhw3zRMK9T/4JefA/xP4f%2BFF/%2B1b8agLj4mfGmePxF4luHjKmxs3XNjp0YPKRQwMvyHkFipzsXHx%2BOvnOcfVI/wAOG/8A7e/V3VJPpeo1rqfT8DUqGCxWJ4yxUVKGXyVHCQavGePnBzdVp6OODpNVNbr2sqUf5j6K8C%2BCPCvw08F6V8PPA2iw6bo2iafDY6XYW64SCCJAiIPooHJ5PU1q0UV9fGMYRUYqyR85Vq1a9WVWrJylJttt3bbbbbb1bbbbb1bbYUUUUzMKKKKACiiigAooooAKKKKACiiigAooooAKKKKACiiigAooooAKKKKACiiigAooooAKKKKACiiigAooooAK8Z/Zf/5Lf%2B0d/wBlmsf/AFCvC9ezV4z%2By/8A8lv/AGjv%2ByzWP/qFeF6APZqKKKACiiigAooooAKKKKACiiigAooooAKKKKACiiigAooooAKKKKACio729s9Os5dQ1C7igt4ImknnmkCpGijLMzHgAAEknpWB8LfjD8JPjj4VXx38FPil4c8YaG1w8C6z4W1u31C0MqY3xiaB3TcuRlc5GeaAOjrxnxx/ykL%2BF/8A2Rnx5/6dvCFd58Ovjt8EPjBqut6D8JPjJ4V8U33hq6Ft4jsvDniG2vpdKnLOoiuUhdjA5MUgCuAcxuMfKceA/tIfEceBv%2BCtP7MHh6SUIni74cfEvSCT0JVvDV6B%2BJsxj3rOrUjShzS2ul97S/NoyrVoUIc8trpfe0l%2BLRT/AOCWX/Eq8T/tMeEjx9l/aZ8RXaL/AHUuEtnUfT5TX1pXyX/wT%2B/4lP7Yn7WHhLp5PxK03UNvp9q08Pn8dtfWlebkmmWxj2c191Sofovih73Glar/AM/KeGn/AOB4PCP9Aooor1j8/CiiigAooooAKKKKACiiigAooooAKKKKACiiigAooooAKKKKACiiigAooooAKKKKACiiigAooooAKKKKACiiigArxnxx/wApC/hf/wBkZ8ef%2BnbwhXs1eM%2BOP%2BUhfwv/AOyM%2BPP/AE7eEKAPZqKKKACivMP20/i94q%2BAf7JnxD%2BMfgaO1Ot%2BH/Cl5daO99EXt4boRkRSyqCC0SOVd1yMqrDIzkeffCjx5%2B0n4Zu/jn8C4/H0/wATfFXgDSrO/wDAut%2BJrGxsp7%2B4vdMeWGxuxYQ21vhbuByHSOMiG4jVtzIZHAPpCivzx8K/trftNJfax8AD8SfiC2r6knw3jj8b/ET4bWei6n4fu9f1q907VIoLNrGCGaOJLI/ZJZYJozPI%2BZbuNNtdf4W%2BNv7VHxX%2BJtj%2Bx1p37TGoeHtV0bUPiA998Ubbw7pEl7q8Oh3GiRWMM0E1o1mhYa/H9oaGGMudOk8vyBIQoB9v14r%2Bw1d29h8BvEN9dyhIofjF8SJJXboqjxprZJ/KtT9nj9o5/iZ%2BxR8Pv2r/AB54evraXxV8NtF8S6rpXh/RLvUZ4JLyxguHihtrWOW4m2tKQFRGbA6da8d%2BEvxQsNM/4Jf/ABa%2BMWkpfW8EOt/FvVbNNT0yexuUx4m1%2BRFkt7hEmgkzgGORFdW4ZQQRWdaoqNGVR/ZTf3Jv9DLEVVQoTqvaKb%2B5N/ofHXw40zU/23tf8L6Vr2Zdb/am%2BI8/jHx/CGJbSfAegXEkNnprn%2BFZZYCquOGaOPIyK/XuGGK3iWCCJURFCoiLgKBwAAOgr85v%2BDfb4O6rrPww1L9rXxhYPG95o9n4O8FRy8/Z9LsQGu3jP9ye%2BaRiOzwtX6N183wpQl/ZyxVT4qtn52V9f%2B3pOc/%2B3l2R9fnap5Rw9lHDlJ3%2Bq0I1Kz/mxeLjDE4iT7uPtKNHyVOS2Vgooor6g%2BVCiiigAooooAKKKKACiiigAooooAKKKKACiiigAooooAKKKKACiiigAooooAKKKKACiiigAooooAKKKKACiiigArxn9l//AJLf%2B0d/2Wax/wDUK8L17NXjP7L/APyW/wDaO/7LNY/%2BoV4XoA9mooooAKKKKACiiigAooooAKKKKACiiigAooooAKKKKACiiigAooooA8i/b7%2BH3jT4rfsUfFP4cfDzRpdT1nWfA2o2tlpEDhX1MtA26zUsQoM67oRuIX95yQMmvJ/hQ/i34l%2BI/j94x%2BFXg/xj4Nt/ibpttYeAJfEXgjU9FlbVLPQhBLqMsNxbxyWShntbZJJ1jMp08%2BXvVUZvrWigD5D/AOCW1z8dtB0eL4T%2BLbHxgfCHhr4Z%2BG7WH/hNfhyvhyTRteRbmK%2B0ixVbW3%2B2WMMcdsUm/wBIUFzi7uN58vwz/gq5qHxl%2BGH/AAUg/Za%2BNPi3xt4evvDWgeItYmsbTSvDM9ld6Zps%2Bo%2BHbO6%2B1XMl7Ml2WFxGFKQ24X5shtw2/pfXwR/wWv8Ah/cfEWxOn2KsLrSv2ffHOt2ssf3omsNe8F3hdT2OyFxn0Jrzc5jN5VWcN1FyXrG0v/bTyM/jUlkuIcPijFyXrC01/wCkW%2BZ6H%2Byb/wASb/gqd%2B1fohOE1G08EahAv00uWNz%2BLYr60r4l/Y8%2BIFv8QP8Agpl4u%2BINoy%2BV8QP2efCXiWPZ0ZWwoI/7%2BYr7arHJJxnhJuO3tKlvRz5l%2BEkfqniHUjiM0wOJjqquBwEk%2B/8AssIX/wDKYUUUV7B8EFFFFABRRRQAUUUUAFFFFABRRRQAUUUUAFFFFABRRRQAUUUUAFFFFABRRRQAUUUUAFFFFABRRRQAUUUUAFFFFABXjPjj/lIX8L/%2ByM%2BPP/Tt4Qr2avGfHH/KQv4X/wDZGfHn/p28IUAezUUUUAZnjTwb4V%2BIvg7Vvh9460C11XRNd02fT9Y0u9iDw3lrNG0csMinhkdGZSO4Jri/hV%2Byh8FfgtYXFh8PdO8QwG9vJrvU7vUPHOr391qM0ltFa77q4urqSW6KQQxRRec7%2BSsaiLZgV6PRQB5Lp37Dn7Ndh8P/ABD8NrjwjrGpWXiq5s7jXdS17xtq%2BpatcS2kiS2cg1O6upL2JraRFkgMcymCQb4tjEmquu/sCfsreIvhppHwm1HwFqiaVol7f3djdWXjTV7bUnmvjI180%2Bow3S3l19qMshnE0zictmQOQMeyUUAVdE0TR/DWi2nhzw9pdvY6fp9rHbWNlaxCOK3hRQqRoo4VVUAADgAAV8GftM%2BL/wDhCf8AgjN8dNWWXa1z8SviBp64PLfaviDqlsR%2BUp/Cvv2vyv8A%2BCmPjBvDP/BILxBoyzbT4g/ad8Z2AGfvbPGviG6x/wCS2fwryM/rewyPE1O0JfirfqcGaYeti8uqYaj8dVKnH/FVlClH/wAmqo%2Bv/wDgkJ4Y/wCER/4Js/CXSvL2eb4de9xj/n5uprjP4%2Bbn8a%2Bka8y/Yq8Mf8IX%2Bx18KfCbR7X0/wCHOiQSjH8a2MIY/i2T%2BNem11ZZS9jltCn2hBf%2BSxPr%2BLKlGtxVj50vg9vW5f8ACqk4x/8AJYRCiiiu0%2BfCiiigAooooAKKKKACiiigAooooAKKKKACiiigAooooAKKKKACiiigAooooAKKKKACiiigAooooAKKKKACiiigArxn9l//AJLf%2B0d/2Wax/wDUK8L17NXjP7L/APyW/wDaO/7LNY/%2BoV4XoA9mooooAKKKKACiiigAooooAKKKKACiiigAooooAKKKKACiiigAooooAKK8/wD2q/jVc/s5/s3%2BNvjjp%2Bgpqt54Y8OXV9p%2BmSzGKO7ulQ%2BRC7gEojSlFZwCVUk4OMVyHwG%2BPvxGs9d%2BJ3w3/ao8SeEBqfwySx1HUPFnhzTZ9K0ufSrqyNwJngurq5a3aJ4btHJndSkSSfJvKIAe318/ftC%2BCbH4l/th%2BD/hzqmPs3iD9n34j6bcbhkeXPqHhKJs/gxpf2JP2pPi3%2B0n4v8Aifb/ABK8C2Hh7TfD%2BvacfBmnpazxagukXumwXlu2oCVyBdOkokaNUj8nzBCwdo2keC/%2BLnwo8c/8FNvBfgLwT8TvD2sa74Y%2BD3jiLxLoula1BcXekvJq3hLy1uYY3LwFtj4DhSdpx0NTKMZxcZbPT7yZwjUg4y2aafo9H%2BZ8Wfsa%2BN9Q%2BEVp%2Byd%2B1fqZa2gv7fUfgn8Rgx4gZL2f%2Byt56DEsQLMeigDNfq1X5teGf2f7v4tfAL9sv9ijR4pBrfhf4sXvirwWkORLay3Uceo6fHGRyu57dkDDnErV9qfsU/tA2n7Uv7KfgX48QSo0%2Bv6BE%2BqLHjbHfR5hukHss8coHsBXy3DkpYe%2BHl9qKkv8UG6VT8YQl/28fWUZSz3woyfMnrVwXNgKz68sHOphpP8A7c9vSX%2BBLpY9Rooor6s%2BVCiiigAooooAKKKKACiiigAooooAKKKKACiiigAooooAKKKKACiiigAooooAKKKKACiiigAooooAKKKKACiiigArxnxx/wApC/hf/wBkZ8ef%2BnbwhXs1eM%2BOP%2BUhfwv/AOyM%2BPP/AE7eEKAPZqKKKACivHv%2BCg58cj9hz4sH4b/2n/bH/CBan9n/ALE3/btn2d/N%2BzeX8/n%2BV5nl7Pn37dvzYrwD9m7xp%2Bzz4Y0H9oaw/ZDv9Mk%2BGF3piS/DvRvhZf28MepatDoAk1RNCEWY2lC/YtxhBVboylx5vm0AfcFFfmL/AME%2BNH/Za8LfDj4x3nxaHwh%2BIvwx0T4MeEdf8Y3XgbwfAnheKexj1ee5hvrKaS4in1yMRJNc3TMkkqGyD21sYk813jD9kX4F/Az9jb4Jar8dPEX7P/w%2B1zTE8S%2BMr74cfF7wbbXmiaprWsL9sutMtbQXNtsa1e4W2iaJJWREjCwNwtAH6cV%2BMf8AwVw8UzJ%2Bxp4F%2BGtsvmS61%2B0j8VbuKEH77QeLNZhB/A3g/Ov1g8AeNPiD4s/Zs8OfELwl8IbLR/Emq%2BELC/t/A3iLVJNOh024lt45GsJ54raZofKLGMlYGwUxsHb8ef2r9S1z4m/Gz4A/BjxzpVhZ6zcfGPxzLe6ZpuoveW1vdX/xNv4JEimkhhaZP9GdQ7RRlguSi9B8zxhJrh%2BrBbzcI/8AgU4o9fhqjDE8X5RRmrxljMK2v7sK0a0v/JcPJ/I/bTwxodv4Z8Nad4btAPK0%2Bxhtosf3Y0Cj9BV6iivpUlFWR5U5yqzc5O7bbfq22/xbCiiimSFFFFABRRRQAUUUUAFFFFABRRRQAUUUUAFFFFABRRRQAUUUUAFFFFABRRRQAUUUUAFFFFABRRRQAUUUUAFFFFABXjP7L/8AyW/9o7/ss1j/AOoV4Xr2avGf2X/%2BS3/tHf8AZZrH/wBQrwvQB7NRRRQAUUUUAFFFFABRRRQAUUUUAFFFFABRRRQAUUUUAFFFFABRRRQBzvxc%2BFng344fCzxF8G/iHYSXWheKdFudK1aCGZopGt54mjfY64aNwGJV1IKsAQQQK4L4afsceE/A9p4jt/GfxL8S/EGTxs8i%2BPZvHlppN0PEtsbFLGOzuoYLGGEW0cCECKGOJXMsrS%2BaZHJ9fooA8i/Z1/YV/Zb/AGTviD40%2BI37Pfwe8P8AhO78dS2TaraeH/D9jYW8CW1usKRQLbQRlYyVMrKxbMkjsMbsVW8cf8pC/hf/ANkZ8ef%2BnbwhXs1eM%2BOP%2BUhfwv8A%2ByM%2BPP8A07eEKAPG9Z8T2f7IP/BWTVPGPxEgk07wd%2B0H4Y0rTdM8RHH2VfEenhoYrSdv%2BWbSQEBCfvMwAzhtr/2BdX0v9mn9rH40fsDa5qMNlbt4lPjb4Z2c8gT7Tpeop5lzb26n7yW8yFcDJ5c9ATX0V%2B01%2Bzh8NP2sPgvrPwO%2BK2mGfTNWg/d3EWBPY3C8xXULH7ksbYYHoeVIKsQfhmHSrD42z237Bv7cPxJPgn9on4aXSSfBr4wwubebxBb/APLreW8zEec7bVSe2LbnK5B8xXKfJYynXy7GwlCzXPKULuybmv3lJvZOXxU29HJOL1sz1OCM6yrIMXjcgzuo6eAzK3LWS5vYYiNT2lOUo6c0VNzVotSlSq1YxvUhCM/0jor5T/Zh/wCCgN/pfjJf2Sf29ksPA3xe051gtLydvJ0nxhD0jvbCdgI90nGYSQ284UZ3Rx/VlfR4PG4fHUuek9tGno4vqpLdNdn6ptWZ18RcNZvwvjvq2OhZSXNCcXzU6sH8NSlUXu1ISWqlF6axlGE1KKKKKK6jwAooooAKKKKACiiigAooooAKKKKACiiigAooooAKKKKACiiigAooooAKKKKACiiigAooooAKKKKACiiigArxnxx/ykL%2BF/8A2Rnx5/6dvCFezV4z44/5SF/C/wD7Iz48/wDTt4QoA9mooooAKKKKACiiigAr8QvDUdv8Vv8Agsf4M0BsSS%2BFPjn4hgReuxY/GninVG/mpr9va/FD/gnt4SbxN/wXW8UeKC7PHY/HH4oPLGTlQLe4vokOO2Huyfqa%2BX4pTqUcLS/mrU7/ACd/0PouDYOXGODq3sqMcXW/8FYDGSj98qkV8z9r6KKK%2BoPnQooooAKKKKACiiigAooooAKKKKACiiigAooooAKKKKACiiigAooooAKKKKACiiigAooooAKKKKACiiigAooooAKKKKACvGf2X/8Akt/7R3/ZZrH/ANQrwvXs1eM/sv8A/Jb/ANo7/ss1j/6hXhegD2aiiigAooooAKKKKACiiigAooooAKKKKACiiigAooooAKKKKACiiigDN8Z%2BMfCvw78H6t8QPHOv2ulaJoWmz6hrGqXsoSGztYY2klmkY8KiIrMT2ANcn8Kv2nPg18aPBet%2BO/Aeu6m1n4bneHxBaax4Y1DTNQ0%2BRbeO52zWN7BFdRloJYpUzF%2B8SRGTcGBOd%2B2p8IfFXx8/ZM%2BIfwd8CvajW/EHhS8tdHjvpSlvNdGMmKKVgCVidwqO2DhWY4OMHhPgDB8c9P8Aip8T/wBorxr%2BzL4m0KXxuthFo/hGfW9FmvIY9L04gPcvBfvbrJdXE0sMQjlkASGJ5mhDEIAenfBX9pT4RftAXGr6f8OdU1db/Qfs51jR/EnhTUtE1C1SdXaCVrTUreCfypBHJsl2bHMUgViUYDlfHH/KQv4X/wDZGfHn/p28IVzH7A%2BhfHPVdU8bfHH9qj4DeJvBfxH8Ytp/9rJrGp6Pc6fbWFv9p%2Bx6Rpzabf3TPDaedO7zXCwvPPfTSqqq4hgmv/BfiTw9/wAFNvBfiLVvi54h12z1b4PeOHsNB1W205LTRQureEspbNbWkU7h9wz9olnPyDaV%2BbIB9D15/wDtG/sufAn9rHwFJ8Ofjz8PbLXLDJe0llUpc2MpGPNt5lw8L9OVIyODkEg%2BgUVnVpUq9N06kVKL3TV0/kZVqFHE0pUqsVKL0aaumvNM/P341fsg/tf/AAu8A3Hwi8WfDzRv2rvg7CS2naH4svxZeMtDixjFtfYCzlFzhwRM33FCLxXkvwT/AG1/id%2Bzhq5%2BH3wC/aCXV7CwkCyfAf8AabLeH/Emkr2trLVpsW83TaiyvhVAATJyf1crkfi58A/gl8fND/4Rz41/Cfw/4pswpEcWuaVFcGLPeNnUtG3%2B0pBHrXzmJ4fqRqKrg6zjJaK93ZdlNe9btGaqRXSx6uRcRcUcLYN4DBVoYjAt3eExcHXoX703zRrUJW056VRSta/MkkeB/DD/AIK8fsy6zq9t4E/aJstb%2BDXiudQRpHxDsWtrWccfvIL8A28sJyNsjMgYHIGOa%2Bn9D17Q/E%2Bkwa/4a1m01Gwuow9re2Nys0MynoyuhKsPcGvjj4jf8EQv2eNT0a50T4GfFbxz8PtPuJDI3hi31YatoDued0mn34kWTknA3gDJxXzlc/8ABGb/AIKOfs3ay/iT9kP9p7RExM01yNC1S98OT6g3YSWg8%2BxK9Pkwq8CslmHE2A0xGG9tHvBrm%2B7RP7ketPM%2BBczV6%2BFxOXVevJy4/DX8rPD4ymuylCvZdXbX9X6K/L7QP2xf%2BC%2BH7M6JYfHX9jIfEqxgJ8680rSo5ruRB0Ky6TI6DI67rfPr3rvfB3/Bwp8B9LvItA/ad/Zx%2BI3w11NziVbvTBdW8R75LeTMfwhNdVPinKm7V%2Bai%2B1SEo/jZx/E8bFUsppO9DMcPVX/Xx0ZfOniaeHmn5Xk/XS/6CUV8/fDD/gqp/wAE8Pi5CJfCn7WvhC2Y4/c%2BIr46RJn0C3yxFj9M17j4Z8WeFvGmkx6/4O8S6fq1hN/qr3TLxJ4X%2BjoSp/OvZw%2BMwmKV6NSMvSSf5N/kcdrq6aa7ppr74uS/E0KKKK6RBRRRQAUUUUAFFFFABRRRQAUUUUAFFFFABRRRQAUUUUAFFFFABRRRQAUUUUAFFFFABXjPjj/lIX8L/wDsjPjz/wBO3hCvZq8Z8cf8pC/hf/2Rnx5/6dvCFAHs1FFFAGb4z8Y%2BFfh34P1b4geOdftdK0TQtNn1DWNUvZQkNnawxtJLNIx4VERWYnsAa5P4UftOfBX40eDda8d%2BCvFN1DYeG7h4fEaeJNCvdFutKdbeO5/0m11GGCeBTbyxTKzoqtHIrqSpBrO/bU%2BEPir4%2BfsmfEP4O%2BBXtRrfiDwpeWujx30pS3mujGTFFKwBKxO4VHbBwrMcHGD5X4F8FftG%2BMNU%2BNnxO1L9n%2B58Iat8UtFi0vwxoXi%2B%2B0m/h09rHSHiiudUWzu543juLq4kjEcDTkw26GTy9%2BxQDtLH/gov%2ByTqHgHWviTD4416PTtA/sQ39tdfDzXIdQkj1i7Fnpc1vYSWS3V5DdXOYoZYIpI5GRwrHY%2BNfxv%2B2x%2Bz58Nvh5onxM8dap4o0ux8RSXS6Vp118OdcGrOtsHa4lk0z7H9tghiWNneaSFI1Qo5YLIjN8qfAn9izxV4Z%2BHvjbSfiN%2ByD8V7jwrqHhTwHZR%2BDb/4t2V34ovdb0W/uLpruw1Qayv2Gwgc2UkFuL22RHjuGhtrcyMJ%2Bq8H/C79tP4W6l4D/aC1P4J%2BJfH954f03x94d07wFq3jXTbnXdL0jWNQ0u70o31/d3awXbwLpCwTOtxPKI7sYa5aN2cA%2Bz9E1rR/EmjWniLw9qlvfWF/ax3Nje2sokiuIXUMkiMvDKykEEcEEGvyc/4JH%2BELib/gsH8bNUuFLQW3if4natC5/hlm8bTWO3/vi2Y/nX6L/s8fADxZ8IP2KPh9%2BzBN8TL7TNa8IfDbRfDc/ivw/FbSTpcWdjBbvcQreQTQnc0RI82JxhuVzXxP/wAEW/DDQftzftLG41681i58IeJ9Z0W81rUo4Fub2a58Xa9dvNKLeKKESSFd7COONMn5UUYA8TN6Sq4jBrtVT%2B6E3%2Bh9xwTQSp5tjX/y5wOIXzrSw2HX/pbXzZ%2Bl1FFFe2fDhRRRQAUUUUAFFFFABRRRQAUUUUAFFFFABRRRQAUUUUAFFFFABRRRQAUUUUAFFFFABRRRQAUUUUAFFFFABRRRQAUUUUAFeM/sv/8AJb/2jv8Ass1j/wCoV4Xr2avGf2X/APkt/wC0d/2Wax/9QrwvQB7NRRRQAUUUUAFFFFABRRRQAUUUUAFFFFABRRRQAUUUUAFFFFABRRRQAUUUUAFeM%2BOP%2BUhfwv8A%2ByM%2BPP8A07eEK9mrxnxx/wApC/hf/wBkZ8ef%2BnbwhQB7NRRRQAUUUUAFFFFABUGp6VpmtWT6brGmwXdvIMSW9zCsiOPdWBBqeihpNWYmk1Znj3j7/gn1%2Bw38Top18afsl/D%2B5luc%2BdeQeF7a3uWPr58KJID77q8W8Zf8EG/%2BCdmvyLeeCfA3iXwTeoxIv/CnjC7WUH1H2pp1X8FFfZVFedXyfKcTrVoQf/bqv96Sf4nFLLMslPnlh6be93CD/wDbT4N1n/gjb8d/C3/Jvf8AwVZ%2BNPhyKP8A1FlrerTahF7KRFcW6/jsP0rldX/Y4/4L4/DjdL8LP%2BCh3hvxJDH9yPXLVBPIO3y3NjMn5yfjX6OUVwz4by1/wnUp/wCCrUX4c0l%2BB6GHpZTQ0lgqUl6VIP76WIpv%2Btj8v734j/8AByT8MJGk8Q/DbQfFNrGP%2BPnT9O0e5Mn/AGzt7iGT/wAdFYM3/BWH/gsn8Prxrb4qfsS6ZY2cQ%2BbUtU%2BGfiCFG9f3lvNMn5Cv1eormlw9jYfwcwrR9XGX5pM9qjV4MkrV8sqLzpY7F07edqkcTF/N2Pym0v8A4OD/AIy2V/8A2R4m%2BEfw0lvV/wBZav4h1TSWH43tmFH4mvRfCn/Bc34meIAq/wDDI/gW5LfdGm/tM%2BHWlf6QSbJPwxX6D654b8O%2BJ7Q2HiTQbLUID1hvrVJU/JwRXm/iz9hb9izxzufxX%2ByZ8Ob2R/vXEngyyEv/AH8WMMPzqP7L4mp/BjlL1jb9JHSsD4b11/EzOg/7tbA4hfdVwtGVvnfzPCPDX/BVH42eIEEtr/wTa%2BIeoLjJbwx4i03VRj1Hkyc1r/8AD1DxNp/HiP8A4Jl/tPQ4%2B8dP%2BG6XYH4rcDitfxL/AMEaP%2BCaPilzNefstabayZysmk6zqFkUPqBBcIP0rJ/4c2fszaR/yTn4r/GHwdj/AFf/AAjPxOvItn083zKPY8WU/wDl5GXpyf8At0F%2BYf6tcEVv4PEWLpf9fcuoVF99HFJv5RQn/D3z4YWv/IwfsgftFaTj739o/CaZcfXbK1H/AA%2Bf/ZHtv%2BQ54S%2BKOl/3vt/w1v1x9dqNS/8ADsj4q%2BH/APkn3/BT/wDaDtNv%2BrHiDxPBqoX8JIVyKP8AhjX/AIKV%2BHzu8G/8FaL2aNelr4h%2BEGlXW76y7ww/AUe24nh8UW/SNJ/lUiH%2BpGX1f934sw3/AHFwOKpf%2Bkqql94n/D77/gnPbf8AIa%2BLOu6bj7327wFq64%2Bu22NWrL/gtz/wS8v8eR%2B1PbLn/nt4V1eP/wBDtBVb/hVX/BZjw9/yB/2rvg54i29P7f8AAtzabvr9lY4/Cq143/BaWx/5GD4Y/sx%2BJ0H/AD4Xes28jj3%2B0AqD%2BlH1/PI/FF/%2BCG//AEmu/wAg/wCIdZ7P/d%2BIcrqes6lN/dUpx/NHT2f/AAWI/wCCaV9jyf2stBXP/PayvI//AEOEVp2v/BVr/gnPeY8n9r3wcM/89b5o/wD0JRXmF54x/wCCk1ln/hJP%2BCU/wr8S4%2B9/ZPxCsbff9PtUJ/Wsu6%2BLP7QNsD/wn3/BBi1/2/7K8UeH9S/LbCM0f2tmMfiaXrQrr8nIP%2BIY%2BIkv4GMy6r/hxdD8niYP8D3S2/4KZf8ABPq7x5X7Y/w9Gf8Anr4mgT/0JhV%2B2/4KH/sFXX%2Bq/bP%2BFw/66eOrBP8A0KUV82XXx5%2BGFt/yPX/BB7x6Mff/ALL%2BFOk6l%2BW3Gaz7j9pH/gnav/I7f8EaPiBo/wDfOtfsyWQC/XaGo/tvErerSXrDEL/2wP8AiFfjC/4WFoVP8FWnP/0jGN/gfWEH7d37D91/x7ftlfCmT/c%2BIemn%2BU9XIf2zP2Prn/j3/at%2BGsn%2B54608/ymr43n/ae/4IgxZ/4S39iHTtC/vf2n%2Bzx5W36%2BXatUMH7TX/BuTqkn2e68E/DWzl/iiu/hBeW5X6n7CB%2BtNZ9PriMP85VF%2BaQpeFXjjFXWSyku8aWIkvvh7RfifbEX7WP7LM/%2Bo/aW%2BH7/AO54ysT/AO1asxftMfs4T/6n9oHwQ/8Au%2BK7M/8AtSvjSx8cf8G6uu4%2Bz2HwaTP/AD38Otbf%2Bhwritix8Kf8G9%2BuYNvc/AJM/wDPfWLS3/8AQ5FxW0c3xM/hq4d/9xJHmV%2BBPF/C/wAXJ5r1o4xf%2B4GfXcf7QXwEm/1Pxu8IP/u%2BJbU/%2B1Knj%2BN/wXl/1Xxe8Lt/u6/bH/2evlSy/Zy/4IOa7j%2By4PgJc56fZPGVk2f%2B%2Bbmtey/YP/4Ixa3g6Z8NfhTc56fZfEqNn/vm4reOOzKfwug/SpL/ACZ5NbJPELDfxsv5f8UMTH/0rDo%2Bmk%2BL3wnk/wBX8T/DrfTW4D/7PUqfFD4Zyfc%2BImhN9NXhP/s1fO1l/wAEtP8AglLrOP7M/Z38F3Oen2bV5mz/AN8z1eP/AAR2/wCCZ8o3D9k/QiDyCt/ej%2BU9bqrnUlpTpP8A7fn/APIHmVP9aKTtOhST851V%2BdJHv6/EX4fP9zx3ox%2BmqRf/ABVPXx54Gb7vjPST9NRi/wDiq%2BeW/wCCNX/BMx%2Bv7KGj/hqt%2BP8A24pjf8EY/wDgmS3X9lHSvw1nUR/7cU/aZ5/z6p/%2BBz/%2BQI9txH/z5o/%2BDJ//ACs%2BjB428GHkeLtMP/b/AB//ABVeR%2BKNZ0fV/wDgoV8Mv7J1a2uvL%2BDPjvzPs86vtzq3hDGdpOM4P5Vxp/4Ivf8ABMc/82p6Z/4PNS/%2BSayfhJ%2Bxb%2BzF%2ByD/AMFC/BP/AAzj8Kbbwx/wkXwZ8Z/2z9nv7mf7T5GreFfJz58r7dvnS/dxnfznAxrQnmrqpVqcFHq1OTf3OCX4m%2BGqZ1KslXpU1Dq4zk38k4Jb%2BZ9b0UUV6B6gUUUUAFFFFABXwJ/wRT0DHxw/bD8b7P8Aj%2B/aU8Rafvx1%2BzatqLY/D7R%2BtffdfH3/AAR18MnRfCH7QutSJ82s/tefEi5VyOqJrUsAH0Bib8zXDiqftMVh3/LKT/8AJGv1PqsixiwmQ5vG%2BtWlRh8niqc3/wCm0fYNFFFdx8qFFFFABRRRQAUUUUAFFFFABRRRQAUUUUAFFFFABRRRQAUUUUAFFFFABRRRQAUUUUAFFFFABRRRQAUUUUAFFFFABRRRQAV4z%2By//wAlv/aO/wCyzWP/AKhXhevZq8Z/Zf8A%2BS3/ALR3/ZZrH/1CvC9AHs1FFFABRRRQAUUUUAFFFFABRRRQAUUUUAFFFFABRRRQAUUUUAFFFFAHkX7fXxC8afCj9ij4p/Ej4eazJpms6L4G1G6stXhjDPppWBt14oYFSYF3TDcCuY%2BQRkV5L4F8XePvgbof7Tvgf4QeL/Efi%2Bz%2BHHh631XwM3inxHea/d2%2BqzaCbp9PN3eSyzzqXS1uRHI7Fft%2BF2xmNF%2Bsr2ys9Ss5dO1G0iuLe4iaOeCaMOkiMMMrKeCCCQQeCDXKfDv9nn4A/CDTdP0X4TfA7wf4Xs9JuLifS7Tw74ZtbKKzlnULPJEsMaiNpFUB2UAsAAc4oA8C/YM1PUfD/wAatb%2BGXh/4zeJ/HPhi6%2BC3gnxa2p%2BKPFd1rMi6rqMurxzzxT3MkhijuobO3lFtGVgjKFoo0EpB6a/8aeJPEP8AwU28F%2BHdW%2BEfiHQrPSfg944Sw17VbnTntNaDat4Sy9sttdyzoE2jP2iKA/ONob5sev8Awu%2BCPwY%2BB%2BnX2kfBX4ReF/B9pqd817qVr4X0C20%2BO7uWADTyrAiiSQgAF2yxwOa8Y/aP1f416P8At4fCef4HfD/wt4i1JvhH47W7tPFfjC50WCOD%2B1PCRLpLb6fes77to2GNRgk78gKQD6Porxn/AITj/goX/wBGv/Bn/wAPxq3/AMy9H/Ccf8FC/wDo1/4M/wDh%2BNW/%2BZegD2aivGf%2BE4/4KF/9Gv8AwZ/8Pxq3/wAy9H/Ccf8ABQv/AKNf%2BDP/AIfjVv8A5l6APZqK%2BcdJ/aO/bt1j4z6/8Drf9lD4SLqnh3wvpGu3ly/x11TyJINRudSt4UQjwxuLq2lzlgVAAePBYlgvUf8ACcf8FC/%2BjX/gz/4fjVv/AJl6APZqK8Z/4Tj/AIKF/wDRr/wZ/wDD8at/8y9H/Ccf8FC/%2BjX/AIM/%2BH41b/5l6APZqK8Z/wCE4/4KF/8ARr/wZ/8AD8at/wDMvXL%2BAf2jv27fiJ4r8b%2BENH/ZQ%2BEkNx4D8URaFqslz8ddUCTzyaVp%2Bph4tvhgkp5OowqSwU70cYwAzAH0dRXjP/Ccf8FC/wDo1/4M/wDh%2BNW/%2BZej/hOP%2BChf/Rr/AMGf/D8at/8AMvQB7NRXjP8AwnH/AAUL/wCjX/gz/wCH41b/AOZej/hOP%2BChf/Rr/wAGf/D8at/8y9AHs1FfOPwi/aO/bt%2BMvhS78X%2BHP2UPhJbW9n4o1vQpI73466ormfS9VutMncbfDDDY01pIyHOSjKSFOVHUf8Jx/wAFC/8Ao1/4M/8Ah%2BNW/wDmXoA9morxn/hOP%2BChf/Rr/wAGf/D8at/8y9H/AAnH/BQv/o1/4M/%2BH41b/wCZegD2aivGf%2BE4/wCChf8A0a/8Gf8Aw/Grf/MvXL/BH9o79u348fBjwh8cfCv7KHwktdL8Z%2BF9P13TbbUPjrqizwwXdtHcRpIE8MMocLIAwVmGQcEjmgD6Oorxn/hOP%2BChf/Rr/wAGf/D8at/8y9H/AAnH/BQv/o1/4M/%2BH41b/wCZegD2aivGf%2BE4/wCChf8A0a/8Gf8Aw/Grf/MvXL/G79o79u34D/Bjxf8AHHxV%2Byh8JLrS/BnhfUNd1K20/wCOuqNPNBaW0lxIkYfwwqlysZChmUZIyQOaAPo6ivGf%2BE4/4KF/9Gv/AAZ/8Pxq3/zL0f8ACcf8FC/%2BjX/gz/4fjVv/AJl6APZqgvtN07U4vJ1KwguE/uTxBx%2BRFeQf8Jx/wUL/AOjX/gz/AOH41b/5l6P%2BE4/4KF/9Gv8AwZ/8Pxq3/wAy9DSY4ylF3Tsz0DVPgp8Gtbz/AG18JPDF5nr9q0G3kz/30hrndT/Y3/ZD1rP9s/srfDe7z1%2B0%2BBtPkz/31Ca85%2BLv7R37dvwa8KWni/xH%2Byh8JLm3vPFGiaFHHZfHXVGcT6pqtrpkDnd4YUbFmu42c5yEViAxwp6j/hOP%2BChf/Rr/AMGf/D8at/8AMvWEsNhp/FTi/WMX%2BaZ6dDPM7wv8HF1Yf4atWP8A6TUiJqP/AATm/YG1TJuf2NPhmuf%2BfbwZZw/%2Bi41rB1D/AIJQ/wDBObU8/af2RPCK56/Z7R4f/Rbit/8A4Tj/AIKF/wDRr/wZ/wDD8at/8y9H/Ccf8FC/%2BjX/AIM/%2BH41b/5l6wlleWT%2BKhB/9uR/%2BRPWo8dccYf%2BFmuJj6Yiv/8ALmcJqH/BGD/gmRqWTcfsqaauf%2BffXNSi/wDQLkVmn/gh9/wTShYvo/wH1DTmJzmx8c6wuD%2BN2a9N/wCE4/4KF/8ARr/wZ/8AD8at/wDMvXL%2BPv2jv27fh34r8EeENY/ZQ%2BEk1x488US6FpUlt8ddUKQTx6VqGpl5d3hgEJ5OnTKCoY73QYwSy4vI8llvhqf/AIBH/I9Kn4p%2BJtJWjneLt2%2BsVWvucmjmf%2BHLX7Fdt/yBZfiDpvp9h%2BI2orj/AL6lNL/w53%2BAdv8A8gf4/fHDTvT7F8Urpcf99A16b/wnH/BQv/o1/wCDP/h%2BNW/%2BZej/AITj/goX/wBGv/Bn/wAPxq3/AMy9T/YWT9KEV6Jr8pI0/wCIreJD%2BLNa0v8AE4y/9KpSPMf%2BHSPhSD/kEft3/tOaf6Cz%2BLrrj/vqA1T%2BCn7Kdx%2BzF/wUK8FpL%2B0v8VfiImtfBnxlsHxP8WjVTp/k6t4Vz9nPlJ5fmeaN/Xd5UfTbz61/wnH/AAUL/wCjX/gz/wCH41b/AOZeqHgfwP8AtWeMf2rPDnxu%2BN3w4%2BHvhnRvDPw98Q6HDD4V%2BId9rV1d3WpX2iXCMyXGkWKRRomlygsHdi0qALjJG1DKsvw1VVKVO0l5y/Jza/A8/NOPuMM7wM8HjsW6lOdrp06CvZpr3o4aE1qltNX2d1dP3WiiivQPjzjv2g/jNoX7O/wO8WfHPxJpl1fWfhTQLnUpNPsdvn3jRRlkt4txC%2BZIwWNdxA3OMkDJrjPhD%2B09438T2XxE8PfF/wCDCaF4z%2BG0cNxqvhvwnrz65FqFrPZC7tpLOd7a1eV32zQeW0KETQOAWQpI3Z/tCfBnQ/2ifgb4s%2BBniTVLqws/FegXOmyahY7fPs2ljKpcR7gV8yNisi7gRuQZBGRXmngz9kL4nDTviHcfF749afrOufFSwfT/ABfrPhnwlNo5t7JNN%2BxWkenK1/cG0eIvPcNJI85eW4baIlCKoBx/7KX/AAUS%2BIv7YvhHxTd/BX4OeAda1rQdP0K8tTo3xde90QnUTcGSwvNQj0vfZ6lZx2%2B%2B4tFtpjGLm2%2Bc%2Bb8uT4t/4Km6n4c8LeA7u5%2BHfw70PVvFvjTxR4X1Obx98YDo2h2V/od1LazC21IabMb1ZpYmEWYIWPIZUdWQX4f%2BCfn7SNh4C8YweHf2xdD0Dxv4l8C%2BHfBeneK/DPwvksbfS9E0qe6fi0XVC7Xssd7cxfaUuIlgBjaGKNkJbt0/Zj/aD0L9nLRf2fPh38VvhNoFrYaNd6Lfrb/Be7m09tNkRY4orazk1wmB0QNvaaW4SUsC0YwQwB7tp81zcWEE97FCkzwq0yW8xkjViASFcqpZc9GKjI5wOleHf8E7vDGneGvgp4slsC5bU/jv8Sr25L45kbxprKnGB0wij8K9B8Ifs/fDTw3%2Bz3of7MniDQoPFPhXRfCtloD2Xiq2ivl1G1toI4U%2B0pIpSZmEalsrgtzivnL9iSX9qr4c/BrWvAf7P/7MXwiPgvR/i78QbTw4l38Ur7Rmitk8Y6wqxCytvD9xFbImCiokrrtVT8udoTSbT7FxqTjCUE9JWv52d19z1PsOivGf%2BE4/4KF/9Gv/AAZ/8Pxq3/zL0f8ACcf8FC/%2BjX/gz/4fjVv/AJl6ZB7NRXjP/Ccf8FC/%2BjX/AIM/%2BH41b/5l6P8AhOP%2BChf/AEa/8Gf/AA/Grf8AzL0AezUV84/BH9o79u348fBjwh8cfCv7KHwktdL8Z%2BF9P13TbbUPjrqizwwXdtHcRpIE8MMocLIAwVmGQcEjmuo/4Tj/AIKF/wDRr/wZ/wDD8at/8y9AHs1FeM/8Jx/wUL/6Nf8Agz/4fjVv/mXo/wCE4/4KF/8ARr/wZ/8AD8at/wDMvQB7NRXzj8bv2jv27fgP8GPF/wAcfFX7KHwkutL8GeF9Q13UrbT/AI66o080FpbSXEiRh/DCqXKxkKGZRkjJA5rqP%2BE4/wCChf8A0a/8Gf8Aw/Grf/MvQB7NRXjP/Ccf8FC/%2BjX/AIM/%2BH41b/5l6P8AhOP%2BChf/AEa/8Gf/AA/Grf8AzL0AezUV4z/wnH/BQv8A6Nf%2BDP8A4fjVv/mXrl/i7%2B0d%2B3b8GvClp4v8R/sofCS5t7zxRomhRx2Xx11RnE%2Bqara6ZA53eGFGxZruNnOchFYgMcKQD6Oorxn/AITj/goX/wBGv/Bn/wAPxq3/AMy9H/Ccf8FC/wDo1/4M/wDh%2BNW/%2BZegD2aivGf%2BE4/4KF/9Gv8AwZ/8Pxq3/wAy9H/Ccf8ABQv/AKNf%2BDP/AIfjVv8A5l6APZqK%2BcfH37R37dvw78V%2BCPCGsfsofCSa48eeKJdC0qS2%2BOuqFIJ49K1DUy8u7wwCE8nTplBUMd7oMYJZeo/4Tj/goX/0a/8ABn/w/Grf/MvQB7NRXjP/AAnH/BQv/o1/4M/%2BH41b/wCZej/hOP8AgoX/ANGv/Bn/AMPxq3/zL0AezUV4z/wnH/BQv/o1/wCDP/h%2BNW/%2BZeuX1b9o79u3R/jPoHwOuP2UPhI2qeIvC%2Br67Z3KfHXVPIjg065023mRyfDG4OzapAVAUghJMlSFDAH0dRXjP/Ccf8FC/wDo1/4M/wDh%2BNW/%2BZej/hOP%2BChf/Rr/AMGf/D8at/8AMvQB7NRXjP8AwnH/AAUL/wCjX/gz/wCH41b/AOZej/hOP%2BChf/Rr/wAGf/D8at/8y9AHs1FfOOk/tHft26x8Z9f%2BB1v%2Byh8JF1Tw74X0jXby5f466p5EkGo3OpW8KIR4Y3F1bS5ywKgAPHgsSwXqP%2BE4/wCChf8A0a/8Gf8Aw/Grf/MvQB7NRXjP/Ccf8FC/%2BjX/AIM/%2BH41b/5l6P8AhOP%2BChf/AEa/8Gf/AA/Grf8AzL0AezUV4z/wnH/BQv8A6Nf%2BDP8A4fjVv/mXrl/AP7R37dvxE8V%2BN/CGj/sofCSG48B%2BKItC1WS5%2BOuqBJ55NK0/Uw8W3wwSU8nUYVJYKd6OMYAZgD6Oorxn/hOP%2BChf/Rr/AMGf/D8at/8AMvR/wnH/AAUL/wCjX/gz/wCH41b/AOZegD2avGf2X/8Akt/7R3/ZZrH/ANQrwvR/wnH/AAUL/wCjX/gz/wCH41b/AOZerf7K3w5%2BNPg/WPih47%2BOmgeF9J1Tx98Qotcs9K8J%2BJbnVre1tYtB0fTFV7i4srNmkaTTpXKiLaFkQbmOcAHrdFFFABRRRQAUUUUAFFFFABRRRQAUUUUAFFFFABRRRQAUUUUAFFFFABRRRQAV8r6t%2B1p8XIf2kZtcXw74Pb4eaR8YLb4XNFJpFwdfNxeafa3DahHefaPKSD7dLb27Wn2clkh8/wA8ELDX1RXjN5%2BxD8OLz4/N8dX8c%2BKltpfFcPiq58CpdWv9iT6/Fpy6dHqjKbf7T5q26RjyhcC3MkSTGEyjzKAPZqKKKACiiigD5j8OftLfEyH/AIKAeKPg/wDEbWPD3hPw2uv2mi%2BDItR%2BEWspdeMYP7Ag1HEHiNrtdOaWO7udQAtBC8vl2kwCgs0i/TleV%2BLP2WoPH/xk0j4p%2BPfjf411fSvD2ux61oHgC4OmRaNY6hHbvBHOGhskvZdnmSSKk11JGJH3bPkQL6pQAUUUUAeL/wDBQX4u/HD9n79kfxp8evgFe%2BFI9Y8E6Fd65dQeMNFub62u7S1tpZnt0S2urZkldkRRIXKoCxKPwK8/8eftafFzwX8ePFup%2BFPDvhCL4eeEPjH4R%2BH3jKzm0i4Ot6rquuwaKkeoQ3aXCwxxwf25pMZikt5XkSGfEse1BXsP7WP7ONl%2B1p8CNe/Z91r4q%2BKfCOk%2BJ7KWx1y/8ILp32u5spYnimtt1/aXUaI6vyyIsgKja6854uD9gHwdP8RbP4i%2BKvjj4%2B11jrOk654m0bUJdKisfE%2BuaYkaWOrXsdtYRMtxEILTC2zQQMbG2LxMY8kA97ooooAK8X/bJ%2BLvxw%2BCVr4B8Y/Cy98Kf2NqHxM8OeHvF9j4g0W5ubq5tdV1mx00GzlhuoUtpI1uZZN8iTqSiLs5Jr2ivKv2rv2W3/aq8N6F4Xn%2BPvjfwNb6F4ksNdRvBcOjs93e2N5BeWbSnUtPvBtiuLeNwsYQNysm9TtAB5x%2Bzz%2B0r8TNb/ar8W/BH4oav4e8J6dD4p1u38E%2BEpPhFrOmXOvW0LpKb%2B31u4u/sGoOxklllitoC4yXYrhifpyvJdJ/ZRD/ABk0X4y/Ef8AaA8d%2BNZvC93eXfhPQvEI0mGw0e6ubeS1kuIlsNPtpZX%2BzzTwr58kqos77QCQR61QAUUUUAeD/ta/Gb9oL4DeJPC/i7wZ4g8EXvh7WvF2heHbbwLfeHLyTXNcub2%2BWG5a0vY71YoTBatJdbGtJh5dpMzvGgLx8f8AsS/tafFz4qa98ONM8f8Ah3whZeF/i/8ABy4%2BIPwy0/wtpFxaTaBpVtPpaDT71pLiWO5k%2Bz61pzCWGO3RWjnTyiArV6F8Sf2OV%2BIn7TuiftTW/wC0d8QNC1Xw/oY0rTNA0yHRLjS4IHm825aNL7TLiaGW5AjjmlilR2jhjRWQDk/Z5/Yh%2BHH7OPi6LxV4b8ceKtaj0nw9L4e8FaR4gurV7Xwloslwlw%2BnWAgt4pPJLw2wzcPPKEtIEEgVAKAPZqKKKACvl/8Aa5%2BPH7S/wW%2BImn%2BFNKh8AeNdH8cw61baL8OYvB99JrCWtpod1dyX9xOL14rq2F1Fb20kItYgft8KCYyMiSfUFeHTfsTXEf7R/iv9prRP2q/iXp2r%2BLdNh0650uGDw/PaafZwwNHDbWbXOky3NvEsrvdbFm2vO5dw4O2gBn7CH7Qnjf4%2BfDy8uviv4%2B0a%2B8XacLNtf8N2Xwu1fwjeaA89ssogubHV7qe4cFt/l3AEcciodobaTXuleb/A79m7Tvgz4n8SfEPWPil4p8ceKvFcVjb6x4n8XNYLcvaWYm%2By2qRafa2ttHFG1zcuNsIZmuJCzNkY9IoAKKKKAPij9pj9uH4/fA74%2B3/wH1HTfCHi0aw9knhL%2B0fhnq%2Bi22j6je%2BIdD0zSGe8u7yW38QJHLrEMtw2niJrdrT5/JaVFX3/APZV%2BL/xI%2BIw8f8Aw%2B%2BMR0SfxV8NPHjeGtZ1Xw1p01nYan5ml6dq1vcQ28088lvm11S3R42mlxJHJhiCMct8S/8Agnn4N%2BNuvXHiD42/Hz4i%2BKnto7j/AIQ6G/udKtk8I3El1b3Ud3YGzsIWe4hltLYxSXbXJTyu%2B99/o/wD%2BAuh/APw9q2m2Xi/XPEmreItem1rxP4o8SvbG/1e%2Bkjih86YWsEEC7IILeBEiijRY4I1C8EkA7qiiigAr4m/ai/bH/aw%2BDvxm8UfCvwf4a8OeN9V0vwxf%2BIfCUafBPX4ZNIdLvT7eFYXN66%2BJpPsmpzrMNL8p4WiKyCPzhGPtmvEda/Yv1HxF4/b4n65%2B1p8ULnW7C3vYfBt26aCF8KrdzQvObSMaUEnZo4UgDXouisRcAhnZyAdL%2Byp8W5vjL8KR4m1H4naN4p1G11W5sdWutH8EX/hs2dxE3zWs%2BmajcT3VpOildyTMGIZW2qrCvSa4T4B/APQPgDoWs2On%2BLdc8R6r4m8QS654n8TeJJbdr3Vb%2BSGGDzZBbQwwRhYLe3hVIoo0VIUAXOSe7oAKKKKACiiigAooooAKKKKAKPijxDYeEvDWo%2BK9VDm10yxmu7kRLlvLjQu2B3OFNfOf7E37Sfxr8f%2BKdH8GfGzw94Msx46%2BFtl8RvDMPgzSri0GmR3lwTd6fdma4lF3NG9zbP9sQQCdpZiYI9oL/S13aWt/ay2N7bpNDNG0c0UqhldSMFSDwQRxivIf2Zv2K/AX7MGqvq%2BgfEHxb4lltvDFj4Z8OjxZe2sw0DQrN5Ht9NtTb28JaNTJ80s5muJBHF5kz%2BWuAD2KiiigArhf2oPHnxF%2BFn7NHxE%2BJ3wf8KLr3i3w54F1fVPC2htYzXQ1HUbezlltrYwwMsswklRE8uNg7bsKQSDXdVneLdEv/EvhjUPD%2Bl%2BK9R0K5vbSSG31rSFga6sXZSBNELiKWIup5AkjdMj5lYZBAPLv2Kfi1P8UfhnfWWrfELQNZ1Pw7qi6deaZonww1Twc%2BhoLaCSKzuNK1S5nuYXCOJFdvLR4pYtiYG9/Yq88%2BA/7O2k/A688S%2BI7n4ieJPGPiTxfqMN54i8U%2BK3sxd3Rht0t4IhHY21tbRRRxoAqxwpks7MWZmY%2Bh0AFFFFAHy5%2B1R%2B1j8UP2cPi944sviVo3hLxF8L7D9nfxf49ttCt9EuE1V20QaWs9tcXMly9vNFOt9OAgtkKhEy75YV2/7M/wAX/j5qnxc8Zfs6/tLP4SvPFHhjwx4e8Sx6r4K0m5sbKSy1Z9St1tjDc3Ny5lhuNIuwZRIFkR4m8uM7lqD4x/sK%2BHfjp8dW%2BMvjz47eOZdNm8Fan4Rvvh7DBov9iXejaktt9vtJC%2BmtekTtaQOzi6DqUIRkRmQ9J%2Bzv%2By7of7Pt9rXiOf4oeLfG/iHX7Wwsr/xP42ubSS9NhYpItnZj7JbW8flRGe4cEoZHe5ld3dmzQB6fRRRQAV8ifGv9pf8Aa28F65%2B0B4Ft/CvgzxZe%2BAvD/hTxJ8NrHSfh/qd/Oseo6rqUIS7tYrx5dRngXTY51NsLclyQq/KrV9d14XL%2BxR4hi%2BOnjb4/6F%2B2h8VtK1bxvpFjplzY2Vn4Ya0022sri5ns0thLoryfujeXSgzPKXWciTzCqFQDq/2VPi3N8ZfhSPE2o/E7RvFOo2uq3Njq11o/gi/8NmzuIm%2Ba1n0zUbie6tJ0UruSZgxDK21VYV6TXCfAP4B6B8AdC1mx0/xbrniPVfE3iCXXPE/ibxJLbte6rfyQwwebILaGGCMLBb28KpFFGipCgC5yT3dABRRRQB8bftLftd/tLfs8fGaD4baynwz8a32twQTeEYdO8LXtpL4LvNS8Q6Z4e0ibU5XvphdRTtq84LRLZyOLG6WMMvmGL3H9lX4v/Ej4jDx/8PvjEdEn8VfDTx43hrWdV8NadNZ2Gp%2BZpenatb3ENvNPPJb5tdUt0eNppcSRyYYgjHC23/BNXwk118Q38Q/tL/E7Wbf4k68dc1i31I6F5lnqUVxDPp9zbXUWlpdKbB7e3FpG80kUSwoGR%2Bc%2BsfAP4C6H8A/D2rabZeL9c8Sat4i16bWvE/ijxK9sb/V76SOKHzphawQQLsggt4ESKKNFjgjULwSQDuqKKKAGXP2n7NJ9j2edsPlebnbuxxnHOM18QfFb9rn9tP4afETXPhtb23gPxnr3hi98NW%2BreOvBHwV1/Vo/DlvqzXj3thLpVnqU93czRw2VjdExTp%2B7uoWlgQGJpPt67hkuLWW3hupIHkjZVniCl4yRgMu4FcjqMgj1Br57%2BDH7AXiD4CfDa4%2BGnw7/AG6vjFFHdas%2BpzazeWXhOfUJbuV5ZLmeaZ9CP2mSd5d0kk4kfMabCgGCAes/AT4h2XxW%2BDvh/wCIVh8QNG8VJqeniR9f8P6TNYWl3ICVkKWs800tsVdWRoZJHeNlZWO5SB19cl8C/gv4S/Z9%2BF%2BnfCnwVc39xZWEt1cTX2q3Imur67urmW6urqZwqhpZrieaV9qqu6Q7VVcKOtoAKo%2BJ4fElz4b1C38G6nY2WryWUq6XeanYPdW0FwUIjklhjliaaNWwWRZIywBAdSdwvVm%2BMdBv/FHha/8ADul%2BLdS0G5vLV4oNa0cQG6sXI4miFxFLEXU8gSRuhx8ysMigD4m%2BFP7cH7WXxu%2BLl/8AAD4V2Pw/h8co%2Btzjxt4r%2BFutaJHqGk6RaaLJ9mm0K7v01Gxla88RxRxyTzFDCstxHE6yqD9bfs2fGbT/ANo79nTwD%2B0NpWkSafa%2BPPBWleIrawmk3PbR3tnFcrEzYGSolCk4GcV5FqH/AATU8Hajrd18SH/aW%2BKUPxE1Ce5XUvifa3mkRaxdWM9pBay6d5a6aLKK2MdrbMBFbRyLLCsokEmXPvfw%2B8B%2BE/hZ4C0T4Y%2BA9Hj07Q/DmkW2l6Lp8RJS2tLeJYoYlzk4VEVRn0oA16KKKAOX%2BNOo%2BONG%2BFuta38OfENjperWFmbqG%2B1Dwfe%2BIESOMh5QNOsZ4Lm8kaJXVIoZA5dlwrn5G%2BLfhr/wUR%2BP2ueIfD2u%2BMLjwj4E8G6nLqP/AAlHjy9%2BBniK4tdRvbXXZNJi%2B1Ml9GvhmWW1toiYtUZ5LdiI3%2B5sr7b%2BJngzXfHvhKbw54b%2BKWv%2BDbySWN4tf8MxWL3cG1gSqrf21zAwYAqQ8TcE4wcEeK6h/wAE5vCmr%2BAb34Uap%2B0h8Tbjwv4jubu5%2BIWhvcaPs8ZT3dy893JfSjTRPD5wcQtHZSWsYhRUVFAJIB9E0UUUAFFFFABRRRQAUUUUAFFFFABRRRQAUUUUAFFFFABRRRQAUUUUAFFFFABRRRQAUUUUAFFFFABRRRQAUUUUAFFFFABRRRQAUUUUAFFFFABRRRQAUUUUAFFFFABRRRQAUUUUAFFFFABRRRQAUUUUAFFFFABRRRQAUUUUAFFFFABRRRQAUUUUAFFFFABRRRQAUUUUAFFFFABRRRQAUUUUAFFFFABRRRQAUUUUAFFFFABRRRQAUUUUAFFFFABRRRQAUUUUAFFFFABRRRQAUUUUAFFFFABRRRQAUUUUAFFFFABRRRQAUUUUAFFFFABRRRQAUUUUAf/Z\">"
      ]
     },
     "metadata": {},
     "output_type": "display_data"
    }
   ],
   "source": [
    "s = tf.InteractiveSession()\n",
    "s.run(tf.global_variables_initializer())\n",
    "\n",
    "BATCH_SIZE = 512\n",
    "EPOCHS = 40\n",
    "\n",
    "# for logging the progress right here in Jupyter (for those who don't have TensorBoard)\n",
    "simpleTrainingCurves = matplotlib_utils.SimpleTrainingCurves(\"cross-entropy\", \"accuracy\")\n",
    "\n",
    "for epoch in range(EPOCHS):  # we finish an epoch when we've looked at all training samples\n",
    "    \n",
    "    batch_losses = []\n",
    "    for batch_start in range(0, X_train_flat.shape[0], BATCH_SIZE):  # data is already shuffled\n",
    "        _, batch_loss = s.run([step, loss], {input_X: X_train_flat[batch_start:batch_start+BATCH_SIZE], \n",
    "                                             input_y: y_train_oh[batch_start:batch_start+BATCH_SIZE]})\n",
    "        # collect batch losses, this is almost free as we need a forward pass for backprop anyway\n",
    "        batch_losses.append(batch_loss)\n",
    "\n",
    "    train_loss = np.mean(batch_losses)\n",
    "    val_loss = s.run(loss, {input_X: X_val_flat, input_y: y_val_oh})  # this part is usually small\n",
    "    train_accuracy = accuracy_score(y_train, s.run(classes, {input_X: X_train_flat}))  # this is slow and usually skipped\n",
    "    valid_accuracy = accuracy_score(y_val, s.run(classes, {input_X: X_val_flat}))  \n",
    "    simpleTrainingCurves.add(train_loss, val_loss, train_accuracy, valid_accuracy)"
   ]
  },
  {
   "cell_type": "markdown",
   "metadata": {},
   "source": [
    "# Submit a linear model"
   ]
  },
  {
   "cell_type": "code",
   "execution_count": 117,
   "metadata": {},
   "outputs": [],
   "source": [
    "## GRADED PART, DO NOT CHANGE!\n",
    "# Testing shapes \n",
    "grader.set_answer(\"9XaAS\", grading_utils.get_tensors_shapes_string([W, b, input_X, input_y, logits, probas, classes]))\n",
    "# Validation loss\n",
    "grader.set_answer(\"vmogZ\", s.run(loss, {input_X: X_val_flat, input_y: y_val_oh}))\n",
    "# Validation accuracy\n",
    "grader.set_answer(\"RMv95\", accuracy_score(y_val, s.run(classes, {input_X: X_val_flat})))"
   ]
  },
  {
   "cell_type": "code",
   "execution_count": 118,
   "metadata": {},
   "outputs": [
    {
     "name": "stdout",
     "output_type": "stream",
     "text": [
      "Submitted to Coursera platform. See results on assignment page!\n"
     ]
    }
   ],
   "source": [
    "# you can make submission with answers so far to check yourself at this stage\n",
    "grader.submit(COURSERA_EMAIL, COURSERA_TOKEN)"
   ]
  },
  {
   "cell_type": "markdown",
   "metadata": {},
   "source": [
    "# Adding more layers"
   ]
  },
  {
   "cell_type": "markdown",
   "metadata": {},
   "source": [
    "Let's add a couple of hidden layers and see how that improves our validation accuracy.\n",
    "\n",
    "Previously we've coded a dense layer with matrix multiplication by hand. \n",
    "But this is not convinient, you have to create a lot of variables and your code becomes a mess. \n",
    "In TensorFlow there's an easier way to make a dense layer:\n",
    "```python\n",
    "hidden1 = tf.layers.dense(inputs, 256, activation=tf.nn.sigmoid)\n",
    "```\n",
    "\n",
    "That will create all the necessary variables automatically.\n",
    "Here you can also choose an activation function (rememeber that we need it for a hidden layer!).\n",
    "\n",
    "Now add 2 hidden layers to the code above and restart training.\n",
    "You're aiming for ~0.97 validation accuracy here."
   ]
  },
  {
   "cell_type": "code",
   "execution_count": 123,
   "metadata": {
    "collapsed": true
   },
   "outputs": [],
   "source": [
    "# you can write the code here to get a new `step` operation and then run cells with training loop above\n",
    "# name your variables in the same way (e.g. logits, probas, classes, etc) for safety\n",
    "### YOUR CODE HERE ###\n",
    "# Compute predictions\n",
    "# Model parameters: W and b\n",
    "\n",
    "tf.reset_default_graph()\n",
    "\n",
    "# Placeholders for the input data\n",
    "input_X = tf.placeholder(tf.float32, [None, 784])### YOUR CODE HERE ### tf.placeholder(...) for flat X with shape[0] = None for any batch size\n",
    "input_y = tf.placeholder(tf.int64, [None,10])### YOUR CODE HERE ### tf.placeholder(...) for one-hot encoded true labels'\n",
    "\n",
    "\n",
    "hidden1 = tf.layers.dense(input_X, 100, activation=tf.nn.sigmoid)\n",
    "hidden2 = tf.layers.dense(hidden1, 256, activation=tf.nn.sigmoid)\n",
    "logits = tf.layers.dense(hidden2, 10)\n",
    "\n",
    "\n",
    "\n",
    "probas = tf.nn.softmax(logits)### YOUR CODE HERE ### apply tf.nn.softmax to logits\n",
    "classes = tf.argmax(probas,1)### YOUR CODE HERE ### apply tf.argmax to find a class index with highest probability\n",
    "\n",
    "# Loss should be a scalar number: average loss over all the objects with tf.reduce_mean().\n",
    "# Use tf.nn.softmax_cross_entropy_with_logits on top of one-hot encoded input_y and logits.\n",
    "# It is identical to calculating cross-entropy on top of probas, but is more numerically friendly (read the docs).\n",
    "loss = tf.reduce_mean(tf.nn.softmax_cross_entropy_with_logits(logits=logits, labels=input_y))### YOUR CODE HERE ### cross-entropy loss\n",
    "\n",
    "# Use a default tf.train.AdamOptimizer to get an SGD step\n",
    "opt = tf.train.AdamOptimizer()\n",
    "step = opt.minimize(loss)### YOUR CODE HERE ### optimizer step that minimizes the loss"
   ]
  },
  {
   "cell_type": "markdown",
   "metadata": {},
   "source": [
    "# Submit a 2-layer MLP\n",
    "Run these cells after training a 2-layer MLP"
   ]
  },
  {
   "cell_type": "code",
   "execution_count": 125,
   "metadata": {
    "collapsed": true
   },
   "outputs": [],
   "source": [
    "## GRADED PART, DO NOT CHANGE!\n",
    "# Validation loss for MLP\n",
    "grader.set_answer(\"i8bgs\", s.run(loss, {input_X: X_val_flat, input_y: y_val_oh}))\n",
    "# Validation accuracy for MLP\n",
    "grader.set_answer(\"rE763\", accuracy_score(y_val, s.run(classes, {input_X: X_val_flat})))"
   ]
  },
  {
   "cell_type": "code",
   "execution_count": 126,
   "metadata": {},
   "outputs": [
    {
     "name": "stdout",
     "output_type": "stream",
     "text": [
      "Submitted to Coursera platform. See results on assignment page!\n"
     ]
    }
   ],
   "source": [
    "# you can make submission with answers so far to check yourself at this stage\n",
    "grader.submit(COURSERA_EMAIL, COURSERA_TOKEN)"
   ]
  },
  {
   "cell_type": "code",
   "execution_count": null,
   "metadata": {
    "collapsed": true
   },
   "outputs": [],
   "source": []
  }
 ],
 "metadata": {
  "kernelspec": {
   "display_name": "Python 3",
   "language": "python",
   "name": "python3"
  },
  "language_info": {
   "codemirror_mode": {
    "name": "ipython",
    "version": 3
   },
   "file_extension": ".py",
   "mimetype": "text/x-python",
   "name": "python",
   "nbconvert_exporter": "python",
   "pygments_lexer": "ipython3",
   "version": "3.6.0"
  }
 },
 "nbformat": 4,
 "nbformat_minor": 1
}
