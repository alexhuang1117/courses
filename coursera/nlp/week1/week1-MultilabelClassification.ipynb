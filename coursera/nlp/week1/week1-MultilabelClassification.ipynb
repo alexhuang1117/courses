{
 "cells": [
  {
   "cell_type": "markdown",
   "metadata": {},
   "source": [
    "# Predict tags on StackOverflow with linear models"
   ]
  },
  {
   "cell_type": "markdown",
   "metadata": {},
   "source": [
    "In this assignment you will learn how to predict tags for posts from [StackOverflow](https://stackoverflow.com). To solve this task you will use multilabel classification approach.\n",
    "\n",
    "### Libraries\n",
    "\n",
    "In this task you will need the following libraries:\n",
    "- [Numpy](http://www.numpy.org) — a package for scientific computing.\n",
    "- [Pandas](https://pandas.pydata.org) — a library providing high-performance, easy-to-use data structures and data analysis tools for the Python\n",
    "- [scikit-learn](http://scikit-learn.org/stable/index.html) — a tool for data mining and data analysis.\n",
    "- [NLTK](http://www.nltk.org) — a platform to work with natural language."
   ]
  },
  {
   "cell_type": "markdown",
   "metadata": {},
   "source": [
    "### Data\n",
    "\n",
    "The following cell will download all data required for this assignment into the folder `week1/data`."
   ]
  },
  {
   "cell_type": "code",
   "execution_count": 137,
   "metadata": {},
   "outputs": [
    {
     "name": "stdout",
     "output_type": "stream",
     "text": [
      "File data/train.tsv is already downloaded.\n",
      "File data/validation.tsv is already downloaded.\n",
      "File data/test.tsv is already downloaded.\n",
      "File data/text_prepare_tests.tsv is already downloaded.\n"
     ]
    }
   ],
   "source": [
    "import sys\n",
    "sys.path.append(\"..\")\n",
    "from common.download_utils import download_week1_resources\n",
    "\n",
    "download_week1_resources()"
   ]
  },
  {
   "cell_type": "markdown",
   "metadata": {},
   "source": [
    "### Grading\n",
    "We will create a grader instance below and use it to collect your answers. Note that these outputs will be stored locally inside grader and will be uploaded to platform only after running submitting function in the last part of this assignment. If you want to make partial submission, you can run that cell any time you want."
   ]
  },
  {
   "cell_type": "code",
   "execution_count": 138,
   "metadata": {},
   "outputs": [],
   "source": [
    "from grader import Grader"
   ]
  },
  {
   "cell_type": "code",
   "execution_count": 139,
   "metadata": {},
   "outputs": [],
   "source": [
    "grader = Grader()"
   ]
  },
  {
   "cell_type": "markdown",
   "metadata": {},
   "source": [
    "### Text preprocessing"
   ]
  },
  {
   "cell_type": "markdown",
   "metadata": {},
   "source": [
    "For this and most of the following assignments you will need to use a list of stop words. It can be downloaded from *nltk*:"
   ]
  },
  {
   "cell_type": "code",
   "execution_count": 140,
   "metadata": {},
   "outputs": [
    {
     "name": "stdout",
     "output_type": "stream",
     "text": [
      "[nltk_data] Downloading package stopwords to /home/ahua/nltk_data...\n",
      "[nltk_data]   Package stopwords is already up-to-date!\n"
     ]
    }
   ],
   "source": [
    "import nltk\n",
    "nltk.download('stopwords')\n",
    "from nltk.corpus import stopwords"
   ]
  },
  {
   "cell_type": "markdown",
   "metadata": {},
   "source": [
    "In this task you will deal with a dataset of post titles from StackOverflow. You are provided a split to 3 sets: *train*, *validation* and *test*. All corpora (except for *test*) contain titles of the posts and corresponding tags (100 tags are available). The *test* set is provided for Coursera's grading and doesn't contain answers. Upload the corpora using *pandas* and look at the data:"
   ]
  },
  {
   "cell_type": "code",
   "execution_count": 141,
   "metadata": {},
   "outputs": [],
   "source": [
    "from ast import literal_eval\n",
    "import pandas as pd\n",
    "import numpy as np"
   ]
  },
  {
   "cell_type": "code",
   "execution_count": 142,
   "metadata": {},
   "outputs": [],
   "source": [
    "def read_data(filename):\n",
    "    data = pd.read_csv(filename, sep='\\t')\n",
    "    data['tags'] = data['tags'].apply(literal_eval)\n",
    "    return data"
   ]
  },
  {
   "cell_type": "code",
   "execution_count": 143,
   "metadata": {},
   "outputs": [],
   "source": [
    "train = read_data('data/train.tsv')\n",
    "validation = read_data('data/validation.tsv')\n",
    "test = pd.read_csv('data/test.tsv', sep='\\t')"
   ]
  },
  {
   "cell_type": "code",
   "execution_count": 144,
   "metadata": {},
   "outputs": [
    {
     "data": {
      "text/html": [
       "<div>\n",
       "<style scoped>\n",
       "    .dataframe tbody tr th:only-of-type {\n",
       "        vertical-align: middle;\n",
       "    }\n",
       "\n",
       "    .dataframe tbody tr th {\n",
       "        vertical-align: top;\n",
       "    }\n",
       "\n",
       "    .dataframe thead th {\n",
       "        text-align: right;\n",
       "    }\n",
       "</style>\n",
       "<table border=\"1\" class=\"dataframe\">\n",
       "  <thead>\n",
       "    <tr style=\"text-align: right;\">\n",
       "      <th></th>\n",
       "      <th>title</th>\n",
       "      <th>tags</th>\n",
       "    </tr>\n",
       "  </thead>\n",
       "  <tbody>\n",
       "    <tr>\n",
       "      <th>0</th>\n",
       "      <td>How to draw a stacked dotplot in R?</td>\n",
       "      <td>[r]</td>\n",
       "    </tr>\n",
       "    <tr>\n",
       "      <th>1</th>\n",
       "      <td>mysql select all records where a datetime fiel...</td>\n",
       "      <td>[php, mysql]</td>\n",
       "    </tr>\n",
       "    <tr>\n",
       "      <th>2</th>\n",
       "      <td>How to terminate windows phone 8.1 app</td>\n",
       "      <td>[c#]</td>\n",
       "    </tr>\n",
       "    <tr>\n",
       "      <th>3</th>\n",
       "      <td>get current time in a specific country via jquery</td>\n",
       "      <td>[javascript, jquery]</td>\n",
       "    </tr>\n",
       "    <tr>\n",
       "      <th>4</th>\n",
       "      <td>Configuring Tomcat to Use SSL</td>\n",
       "      <td>[java]</td>\n",
       "    </tr>\n",
       "  </tbody>\n",
       "</table>\n",
       "</div>"
      ],
      "text/plain": [
       "                                               title                  tags\n",
       "0                How to draw a stacked dotplot in R?                   [r]\n",
       "1  mysql select all records where a datetime fiel...          [php, mysql]\n",
       "2             How to terminate windows phone 8.1 app                  [c#]\n",
       "3  get current time in a specific country via jquery  [javascript, jquery]\n",
       "4                      Configuring Tomcat to Use SSL                [java]"
      ]
     },
     "execution_count": 144,
     "metadata": {},
     "output_type": "execute_result"
    }
   ],
   "source": [
    "train.head()"
   ]
  },
  {
   "cell_type": "markdown",
   "metadata": {},
   "source": [
    "As you can see, *title* column contains titles of the posts and *tags* column contains the tags. It could be noticed that a number of tags for a post is not fixed and could be as many as necessary."
   ]
  },
  {
   "cell_type": "markdown",
   "metadata": {},
   "source": [
    "For a more comfortable usage, initialize *X_train*, *X_val*, *X_test*, *y_train*, *y_val*."
   ]
  },
  {
   "cell_type": "code",
   "execution_count": 145,
   "metadata": {},
   "outputs": [],
   "source": [
    "X_train, y_train = train['title'].values, train['tags'].values\n",
    "X_val, y_val = validation['title'].values, validation['tags'].values\n",
    "X_test = test['title'].values"
   ]
  },
  {
   "cell_type": "markdown",
   "metadata": {},
   "source": [
    "One of the most known difficulties when working with natural data is that it's unstructured. For example, if you use it \"as is\" and extract tokens just by splitting the titles by whitespaces, you will see that there are many \"weird\" tokens like *3.5?*, *\"Flip*, etc. To prevent the problems, it's usually useful to prepare the data somehow. In this task you'll write a function, which will be also used in the other assignments. \n",
    "\n",
    "**Task 1 (TextPrepare).** Implement the function *text_prepare* following the instructions. After that, run the function *test_test_prepare* to test it on tiny cases and submit it to Coursera."
   ]
  },
  {
   "cell_type": "code",
   "execution_count": 146,
   "metadata": {},
   "outputs": [],
   "source": [
    "import re  "
   ]
  },
  {
   "cell_type": "code",
   "execution_count": 147,
   "metadata": {},
   "outputs": [],
   "source": [
    "REPLACE_BY_SPACE_RE = re.compile('[/(){}\\[\\]\\|@,;]')\n",
    "BAD_SYMBOLS_RE = re.compile('[^0-9a-z #+_]')\n",
    "STOPWORDS = set(stopwords.words('english'))\n",
    "\n",
    "def text_prepare(text):\n",
    "    \"\"\"\n",
    "        text: a string\n",
    "        \n",
    "        return: modified initial string\n",
    "    \"\"\"\n",
    "    text = text.lower() # lowercase text\n",
    "    text = re.sub(REPLACE_BY_SPACE_RE, ' ', text) # replace REPLACE_BY_SPACE_RE symbols by space in text\n",
    "    text = re.sub(BAD_SYMBOLS_RE, '', text) # delete symbols which are in BAD_SYMBOLS_RE from text\n",
    "    text = ' '.join([word for word in text.split() if word not in STOPWORDS]) # delete stopwords from text\n",
    "    return text"
   ]
  },
  {
   "cell_type": "code",
   "execution_count": 148,
   "metadata": {},
   "outputs": [],
   "source": [
    "def test_text_prepare():\n",
    "    examples = [\"SQL Server - any equivalent of Excel's CHOOSE function?\",\n",
    "                \"How to free c++ memory vector<int> * arr?\"]\n",
    "    answers = [\"sql server equivalent excels choose function\", \n",
    "               \"free c++ memory vectorint arr\"]\n",
    "    for ex, ans in zip(examples, answers):\n",
    "        if text_prepare(ex) != ans:\n",
    "            return \"Wrong answer for the case: '%s'\" % ex\n",
    "    return 'Basic tests are passed.'"
   ]
  },
  {
   "cell_type": "code",
   "execution_count": 149,
   "metadata": {},
   "outputs": [
    {
     "name": "stdout",
     "output_type": "stream",
     "text": [
      "Basic tests are passed.\n"
     ]
    }
   ],
   "source": [
    "print(test_text_prepare())"
   ]
  },
  {
   "cell_type": "markdown",
   "metadata": {},
   "source": [
    "Run your implementation for questions from file *text_prepare_tests.tsv* to earn the points."
   ]
  },
  {
   "cell_type": "code",
   "execution_count": 150,
   "metadata": {},
   "outputs": [
    {
     "name": "stdout",
     "output_type": "stream",
     "text": [
      "Current answer for task TextPrepare is:\n",
      " sqlite php readonly\n",
      "creating multiple textboxes dynamically\n",
      "self one prefer javascript\n",
      "save php date...\n"
     ]
    }
   ],
   "source": [
    "prepared_questions = []\n",
    "for line in open('data/text_prepare_tests.tsv', encoding='utf-8'):\n",
    "    line = text_prepare(line.strip())\n",
    "    prepared_questions.append(line)\n",
    "text_prepare_results = '\\n'.join(prepared_questions)\n",
    "\n",
    "grader.submit_tag('TextPrepare', text_prepare_results)"
   ]
  },
  {
   "cell_type": "markdown",
   "metadata": {},
   "source": [
    "Now we can preprocess the titles using function *text_prepare* and  making sure that the headers don't have bad symbols:"
   ]
  },
  {
   "cell_type": "code",
   "execution_count": 151,
   "metadata": {},
   "outputs": [],
   "source": [
    "X_train = [text_prepare(x) for x in X_train]\n",
    "X_val = [text_prepare(x) for x in X_val]\n",
    "X_test = [text_prepare(x) for x in X_test]"
   ]
  },
  {
   "cell_type": "code",
   "execution_count": 152,
   "metadata": {},
   "outputs": [
    {
     "data": {
      "text/plain": [
       "['draw stacked dotplot r',\n",
       " 'mysql select records datetime field less specified value',\n",
       " 'terminate windows phone 81 app']"
      ]
     },
     "execution_count": 152,
     "metadata": {},
     "output_type": "execute_result"
    }
   ],
   "source": [
    "X_train[:3]"
   ]
  },
  {
   "cell_type": "code",
   "execution_count": 153,
   "metadata": {},
   "outputs": [
    {
     "data": {
      "text/plain": [
       "'mysql'"
      ]
     },
     "execution_count": 153,
     "metadata": {},
     "output_type": "execute_result"
    }
   ],
   "source": [
    "y_train[1][1]"
   ]
  },
  {
   "cell_type": "markdown",
   "metadata": {},
   "source": [
    "For each tag and for each word calculate how many times they occur in the train corpus. \n",
    "\n",
    "**Task 2 (WordsTagsCount).** Find 3 most popular tags and 3 most popular words in the train data and submit the results to earn the points."
   ]
  },
  {
   "cell_type": "code",
   "execution_count": 154,
   "metadata": {},
   "outputs": [],
   "source": [
    "# Dictionary of all tags from train corpus with their counts.\n",
    "tags_counts = {}\n",
    "# Dictionary of all words from train corpus with their counts.\n",
    "words_counts = {}\n",
    "\n",
    "######################################\n",
    "######### YOUR CODE HERE #############\n",
    "######################################\n",
    "\n",
    "for i in range(len(X_train)):\n",
    "    words = X_train[i].split()\n",
    "    tags = y_train[i]\n",
    "    \n",
    "    for word in words:\n",
    "        if word not in words_counts:\n",
    "            words_counts[word] = 1\n",
    "        else:\n",
    "            words_counts[word] +=1\n",
    "    \n",
    "    for tag in tags:\n",
    "        if tag not in tags_counts:\n",
    "            tags_counts[tag] = 1\n",
    "        else:\n",
    "            tags_counts[tag] +=1"
   ]
  },
  {
   "cell_type": "markdown",
   "metadata": {},
   "source": [
    "We are assuming that *tags_counts* and *words_counts* are dictionaries like `{'some_word_or_tag': frequency}`. After applying the sorting procedure, results will be look like this: `[('most_popular_word_or_tag', frequency), ('less_popular_word_or_tag', frequency), ...]`. The grader gets the results in the following format (two comma-separated strings with line break):\n",
    "\n",
    "    tag1,tag2,tag3\n",
    "    word1,word2,word3\n",
    "\n",
    "Pay attention that in this assignment you should not submit frequencies or some additional information."
   ]
  },
  {
   "cell_type": "code",
   "execution_count": 155,
   "metadata": {},
   "outputs": [
    {
     "name": "stdout",
     "output_type": "stream",
     "text": [
      "Current answer for task WordsTagsCount is:\n",
      " javascript,c#,java\n",
      "using,php,java...\n"
     ]
    }
   ],
   "source": [
    "most_common_tags = sorted(tags_counts.items(), key=lambda x: x[1], reverse=True)[:3]\n",
    "most_common_words = sorted(words_counts.items(), key=lambda x: x[1], reverse=True)[:3]\n",
    "\n",
    "grader.submit_tag('WordsTagsCount', '%s\\n%s' % (','.join(tag for tag, _ in most_common_tags), \n",
    "                                                ','.join(word for word, _ in most_common_words)))"
   ]
  },
  {
   "cell_type": "markdown",
   "metadata": {},
   "source": [
    "### Transforming text to a vector\n",
    "\n",
    "Machine Learning algorithms work with numeric data and we cannot use the provided text data \"as is\". There are many ways to transform text data to numeric vectors. In this task you will try to use two of them.\n",
    "\n",
    "#### Bag of words\n",
    "\n",
    "One of the well-known approaches is a *bag-of-words* representation. To create this transformation, follow the steps:\n",
    "1. Find *N* most popular words in train corpus and numerate them. Now we have a dictionary of the most popular words.\n",
    "2. For each title in the corpora create a zero vector with the dimension equals to *N*.\n",
    "3. For each text in the corpora iterate over words which are in the dictionary and increase by 1 the corresponding coordinate.\n",
    "\n",
    "Let's try to do it for a toy example. Imagine that we have *N* = 4 and the list of the most popular words is \n",
    "\n",
    "    ['hi', 'you', 'me', 'are']\n",
    "\n",
    "Then we need to numerate them, for example, like this: \n",
    "\n",
    "    {'hi': 0, 'you': 1, 'me': 2, 'are': 3}\n",
    "\n",
    "And we have the text, which we want to transform to the vector:\n",
    "\n",
    "    'hi how are you'\n",
    "\n",
    "For this text we create a corresponding zero vector \n",
    "\n",
    "    [0, 0, 0, 0]\n",
    "    \n",
    "And iterate over all words, and if the word is in the dictionary, we increase the value of the corresponding position in the vector:\n",
    "\n",
    "    'hi':  [1, 0, 0, 0]\n",
    "    'how': [1, 0, 0, 0] # word 'how' is not in our dictionary\n",
    "    'are': [1, 0, 0, 1]\n",
    "    'you': [1, 1, 0, 1]\n",
    "\n",
    "The resulting vector will be \n",
    "\n",
    "    [1, 1, 0, 1]\n",
    "   \n",
    "Implement the described encoding in the function *my_bag_of_words* with the size of the dictionary equals to 5000. To find the most common words use train data. You can test your code using the function *test_my_bag_of_words*."
   ]
  },
  {
   "cell_type": "code",
   "execution_count": 156,
   "metadata": {},
   "outputs": [],
   "source": [
    "DICT_SIZE = 5000\n",
    "most_common = [word for word ,_ in sorted(words_counts.items(), key=lambda x: x[1], reverse=True)[:DICT_SIZE]]\n",
    "WORDS_TO_INDEX = {word: index for (index, word) in enumerate(most_common)}  ####### YOUR CODE HERE #######\n",
    "INDEX_TO_WORDS = {index: word for (index, word) in enumerate(most_common)}   ####### YOUR CODE HERE #######\n",
    "ALL_WORDS = WORDS_TO_INDEX.keys()\n",
    "\n",
    "def my_bag_of_words(text, words_to_index, dict_size):\n",
    "    \"\"\"\n",
    "        text: a string\n",
    "        dict_size: size of the dictionary\n",
    "        \n",
    "        return a vector which is a bag-of-words representation of 'text'\n",
    "    \"\"\"\n",
    "    result_vector = np.zeros(dict_size)\n",
    "    ######################################\n",
    "    ######### YOUR CODE HERE #############\n",
    "    ######################################\n",
    "    \n",
    "    for word in text.split():\n",
    "        ind = words_to_index.get(word, None)\n",
    "        if ind is not None:\n",
    "            result_vector[ind] = 1\n",
    "    \n",
    "    return result_vector"
   ]
  },
  {
   "cell_type": "code",
   "execution_count": 157,
   "metadata": {},
   "outputs": [
    {
     "data": {
      "text/plain": [
       "{'using': 0,\n",
       " 'php': 1,\n",
       " 'java': 2,\n",
       " 'file': 3,\n",
       " 'javascript': 4,\n",
       " 'error': 5,\n",
       " 'get': 6,\n",
       " 'c#': 7,\n",
       " 'python': 8,\n",
       " 'string': 9,\n",
       " 'array': 10,\n",
       " 'data': 11,\n",
       " 'jquery': 12,\n",
       " 'value': 13,\n",
       " 'function': 14,\n",
       " 'object': 15,\n",
       " 'class': 16,\n",
       " 'use': 17,\n",
       " 'c++': 18,\n",
       " 'list': 19,\n",
       " 'method': 20,\n",
       " 'multiple': 21,\n",
       " 'text': 22,\n",
       " 'image': 23,\n",
       " 'page': 24,\n",
       " 'rails': 25,\n",
       " 'form': 26,\n",
       " 'create': 27,\n",
       " 'html': 28,\n",
       " 'type': 29,\n",
       " 'code': 30,\n",
       " 'set': 31,\n",
       " 'working': 32,\n",
       " 'database': 33,\n",
       " 'add': 34,\n",
       " 'convert': 35,\n",
       " 'mysql': 36,\n",
       " 'json': 37,\n",
       " 'c': 38,\n",
       " 'server': 39,\n",
       " 'variable': 40,\n",
       " 'android': 41,\n",
       " 'values': 42,\n",
       " 'aspnet': 43,\n",
       " 'way': 44,\n",
       " 'application': 45,\n",
       " 'change': 46,\n",
       " 'button': 47,\n",
       " 'find': 48,\n",
       " 'django': 49,\n",
       " 'one': 50,\n",
       " 'without': 51,\n",
       " 'windows': 52,\n",
       " 'cannot': 53,\n",
       " 'table': 54,\n",
       " 'call': 55,\n",
       " 'files': 56,\n",
       " 'ajax': 57,\n",
       " 'check': 58,\n",
       " 'time': 59,\n",
       " 'name': 60,\n",
       " 'two': 61,\n",
       " 'ruby': 62,\n",
       " 'getting': 63,\n",
       " 'date': 64,\n",
       " 'web': 65,\n",
       " 'make': 66,\n",
       " 'input': 67,\n",
       " 'user': 68,\n",
       " 'xml': 69,\n",
       " 'app': 70,\n",
       " 'another': 71,\n",
       " 'element': 72,\n",
       " 'custom': 73,\n",
       " 'event': 74,\n",
       " 'api': 75,\n",
       " 'access': 76,\n",
       " 'url': 77,\n",
       " 'number': 78,\n",
       " 'spring': 79,\n",
       " 'view': 80,\n",
       " 'sql': 81,\n",
       " 'return': 82,\n",
       " 'mvc': 83,\n",
       " 'select': 84,\n",
       " 'google': 85,\n",
       " 'query': 86,\n",
       " 'inside': 87,\n",
       " 'exception': 88,\n",
       " 'display': 89,\n",
       " 'column': 90,\n",
       " 'read': 91,\n",
       " 'loop': 92,\n",
       " 'swift': 93,\n",
       " 'new': 94,\n",
       " 'work': 95,\n",
       " 'remove': 96,\n",
       " 'load': 97,\n",
       " 'r': 98,\n",
       " 'objects': 99,\n",
       " 'property': 100,\n",
       " 'line': 101,\n",
       " 'cant': 102,\n",
       " 'pass': 103,\n",
       " 'click': 104,\n",
       " 'framework': 105,\n",
       " 'update': 106,\n",
       " 'script': 107,\n",
       " 'vs': 108,\n",
       " 'post': 109,\n",
       " 'null': 110,\n",
       " '2': 111,\n",
       " 'creating': 112,\n",
       " 'net': 113,\n",
       " 'request': 114,\n",
       " 'different': 115,\n",
       " 'field': 116,\n",
       " 'key': 117,\n",
       " 'run': 118,\n",
       " 'row': 119,\n",
       " 'doesnt': 120,\n",
       " 'ios': 121,\n",
       " 'service': 122,\n",
       " 'linq': 123,\n",
       " 'div': 124,\n",
       " 'open': 125,\n",
       " 'window': 126,\n",
       " 'project': 127,\n",
       " 'wpf': 128,\n",
       " 'format': 129,\n",
       " 'best': 130,\n",
       " 'show': 131,\n",
       " 'controller': 132,\n",
       " 'variables': 133,\n",
       " 'undefined': 134,\n",
       " 'specific': 135,\n",
       " 'dynamically': 136,\n",
       " 'adding': 137,\n",
       " 'based': 138,\n",
       " 'angularjs': 139,\n",
       " 'control': 140,\n",
       " 'parameter': 141,\n",
       " 'send': 142,\n",
       " 'model': 143,\n",
       " '3': 144,\n",
       " 'library': 145,\n",
       " 'difference': 146,\n",
       " 'insert': 147,\n",
       " 'first': 148,\n",
       " 'passing': 149,\n",
       " 'vbnet': 150,\n",
       " 'js': 151,\n",
       " 'regex': 152,\n",
       " 'elements': 153,\n",
       " 'codeigniter': 154,\n",
       " 'eclipse': 155,\n",
       " 'within': 156,\n",
       " 'path': 157,\n",
       " 'dynamic': 158,\n",
       " 'visual': 159,\n",
       " 'memory': 160,\n",
       " 'connection': 161,\n",
       " 'possible': 162,\n",
       " 'id': 163,\n",
       " 'thread': 164,\n",
       " 'save': 165,\n",
       " 'default': 166,\n",
       " 'via': 167,\n",
       " '+': 168,\n",
       " 'running': 169,\n",
       " 'size': 170,\n",
       " 'program': 171,\n",
       " 'found': 172,\n",
       " 'content': 173,\n",
       " 'reference': 174,\n",
       " 'issue': 175,\n",
       " 'attribute': 176,\n",
       " 'write': 177,\n",
       " 'studio': 178,\n",
       " 'laravel': 179,\n",
       " 'search': 180,\n",
       " 'test': 181,\n",
       " 'excel': 182,\n",
       " 'static': 183,\n",
       " 'session': 184,\n",
       " 'output': 185,\n",
       " 'http': 186,\n",
       " 'character': 187,\n",
       " 'characters': 188,\n",
       " 'entity': 189,\n",
       " 'current': 190,\n",
       " 'problem': 191,\n",
       " 'client': 192,\n",
       " 'calling': 193,\n",
       " 'empty': 194,\n",
       " 'simple': 195,\n",
       " 'int': 196,\n",
       " 'css': 197,\n",
       " 'parameters': 198,\n",
       " 'upload': 199,\n",
       " 'command': 200,\n",
       " 'reading': 201,\n",
       " 'directory': 202,\n",
       " 'validation': 203,\n",
       " '1': 204,\n",
       " 'map': 205,\n",
       " 'hibernate': 206,\n",
       " 'selected': 207,\n",
       " 'textbox': 208,\n",
       " 'unable': 209,\n",
       " 'browser': 210,\n",
       " 'images': 211,\n",
       " 'item': 212,\n",
       " 'link': 213,\n",
       " 'index': 214,\n",
       " 'facebook': 215,\n",
       " 'expression': 216,\n",
       " 'store': 217,\n",
       " 'setting': 218,\n",
       " 'delete': 219,\n",
       " 'single': 220,\n",
       " 'template': 221,\n",
       " 'like': 222,\n",
       " 'statement': 223,\n",
       " 'strings': 224,\n",
       " 'rows': 225,\n",
       " 'failed': 226,\n",
       " 'header': 227,\n",
       " 'replace': 228,\n",
       " 'loading': 229,\n",
       " 'login': 230,\n",
       " 'box': 231,\n",
       " 'iphone': 232,\n",
       " '4': 233,\n",
       " 'numbers': 234,\n",
       " 'color': 235,\n",
       " 'nested': 236,\n",
       " 'returning': 237,\n",
       " 'print': 238,\n",
       " 'instance': 239,\n",
       " 'background': 240,\n",
       " 'pdf': 241,\n",
       " 'char': 242,\n",
       " 'parse': 243,\n",
       " 'could': 244,\n",
       " 'disable': 245,\n",
       " 'bootstrap': 246,\n",
       " 'message': 247,\n",
       " 'csv': 248,\n",
       " 'module': 249,\n",
       " 'tag': 250,\n",
       " 'chrome': 251,\n",
       " 'converting': 252,\n",
       " 'x': 253,\n",
       " 'parent': 254,\n",
       " 'invalid': 255,\n",
       " 'returns': 256,\n",
       " 'local': 257,\n",
       " 'methods': 258,\n",
       " 'need': 259,\n",
       " 'connect': 260,\n",
       " 'email': 261,\n",
       " 'changing': 262,\n",
       " 'trying': 263,\n",
       " 'response': 264,\n",
       " 'functions': 265,\n",
       " 'install': 266,\n",
       " 'redirect': 267,\n",
       " 'angular': 268,\n",
       " 'order': 269,\n",
       " 'dictionary': 270,\n",
       " 'arrays': 271,\n",
       " 'dropdown': 272,\n",
       " 'classes': 273,\n",
       " 'folder': 274,\n",
       " 'generate': 275,\n",
       " 'bar': 276,\n",
       " 'submit': 277,\n",
       " 'pandas': 278,\n",
       " 'process': 279,\n",
       " 'columns': 280,\n",
       " 'child': 281,\n",
       " 'source': 282,\n",
       " 'checkbox': 283,\n",
       " 'integer': 284,\n",
       " 'count': 285,\n",
       " 'sending': 286,\n",
       " 'parsing': 287,\n",
       " 'items': 288,\n",
       " 'start': 289,\n",
       " 'detect': 290,\n",
       " 'double': 291,\n",
       " 'datetime': 292,\n",
       " 'hide': 293,\n",
       " 'fields': 294,\n",
       " 'jsp': 295,\n",
       " 'console': 296,\n",
       " 'gridview': 297,\n",
       " 'pointer': 298,\n",
       " 'selenium': 299,\n",
       " 'linux': 300,\n",
       " 'constructor': 301,\n",
       " 'import': 302,\n",
       " 'random': 303,\n",
       " '7': 304,\n",
       " 'programmatically': 305,\n",
       " 'action': 306,\n",
       " 'collection': 307,\n",
       " 'instead': 308,\n",
       " 'version': 309,\n",
       " 'datagridview': 310,\n",
       " 'filter': 311,\n",
       " 'sort': 312,\n",
       " 'objectivec': 313,\n",
       " 'website': 314,\n",
       " 'generic': 315,\n",
       " 'last': 316,\n",
       " 'result': 317,\n",
       " 'build': 318,\n",
       " 'system': 319,\n",
       " 'download': 320,\n",
       " 'split': 321,\n",
       " 'properties': 322,\n",
       " 'interface': 323,\n",
       " 'iframe': 324,\n",
       " 'back': 325,\n",
       " 'nodejs': 326,\n",
       " 'cell': 327,\n",
       " 'binding': 328,\n",
       " 'arguments': 329,\n",
       " 'datatable': 330,\n",
       " '5': 331,\n",
       " 'syntax': 332,\n",
       " 'xcode': 333,\n",
       " 'scroll': 334,\n",
       " 'onclick': 335,\n",
       " 'binary': 336,\n",
       " 'external': 337,\n",
       " 'position': 338,\n",
       " 'execute': 339,\n",
       " '0': 340,\n",
       " 'socket': 341,\n",
       " 'rest': 342,\n",
       " 'called': 343,\n",
       " 'missing': 344,\n",
       " 'word': 345,\n",
       " 'maps': 346,\n",
       " 'implement': 347,\n",
       " 'typeerror': 348,\n",
       " 'byte': 349,\n",
       " 'whats': 350,\n",
       " 'extension': 351,\n",
       " 'copy': 352,\n",
       " 'refresh': 353,\n",
       " 'video': 354,\n",
       " 'menu': 355,\n",
       " 'match': 356,\n",
       " 'given': 357,\n",
       " 'argument': 358,\n",
       " 'node': 359,\n",
       " 'wordpress': 360,\n",
       " 'include': 361,\n",
       " 'retrieve': 362,\n",
       " 'regular': 363,\n",
       " 'accessing': 364,\n",
       " 'forms': 365,\n",
       " 'canvas': 366,\n",
       " 'showing': 367,\n",
       " 'document': 368,\n",
       " 'results': 369,\n",
       " 'ui': 370,\n",
       " 'runtime': 371,\n",
       " 'arraylist': 372,\n",
       " 'defined': 373,\n",
       " 'handle': 374,\n",
       " 'drop': 375,\n",
       " 'group': 376,\n",
       " 'apache': 377,\n",
       " 'errors': 378,\n",
       " 'large': 379,\n",
       " 'opencv': 380,\n",
       " 'height': 381,\n",
       " 'compare': 382,\n",
       " 'wcf': 383,\n",
       " 'address': 384,\n",
       " 'ie': 385,\n",
       " 'mobile': 386,\n",
       " 'many': 387,\n",
       " 'properly': 388,\n",
       " 'member': 389,\n",
       " 'equivalent': 390,\n",
       " '8': 391,\n",
       " 'screen': 392,\n",
       " 'exists': 393,\n",
       " 'global': 394,\n",
       " 'plugin': 395,\n",
       " 'password': 396,\n",
       " 'expected': 397,\n",
       " 'vector': 398,\n",
       " 'events': 399,\n",
       " 'jar': 400,\n",
       " 'maven': 401,\n",
       " 'length': 402,\n",
       " 'location': 403,\n",
       " 'writing': 404,\n",
       " 'types': 405,\n",
       " 'numpy': 406,\n",
       " 'servlet': 407,\n",
       " 'html5': 408,\n",
       " 'extract': 409,\n",
       " 'width': 410,\n",
       " 'stored': 411,\n",
       " 'close': 412,\n",
       " 'dataframe': 413,\n",
       " 'dialog': 414,\n",
       " 'certain': 415,\n",
       " 'help': 416,\n",
       " 'used': 417,\n",
       " 'range': 418,\n",
       " 'style': 419,\n",
       " 'names': 420,\n",
       " 'handling': 421,\n",
       " 'prevent': 422,\n",
       " 'automatically': 423,\n",
       " 'works': 424,\n",
       " 'resource': 425,\n",
       " 'magento': 426,\n",
       " 'every': 427,\n",
       " 'tomcat': 428,\n",
       " 'fails': 429,\n",
       " 'cast': 430,\n",
       " 'created': 431,\n",
       " 'pattern': 432,\n",
       " 'warning': 433,\n",
       " 'frame': 434,\n",
       " 'popup': 435,\n",
       " 'wrong': 436,\n",
       " 'contains': 437,\n",
       " 'validate': 438,\n",
       " 'displaying': 439,\n",
       " 'enum': 440,\n",
       " 'updating': 441,\n",
       " 'qt': 442,\n",
       " 'curl': 443,\n",
       " 'package': 444,\n",
       " 'stop': 445,\n",
       " 'must': 446,\n",
       " 'testing': 447,\n",
       " 'listview': 448,\n",
       " 'operator': 449,\n",
       " '2d': 450,\n",
       " 'space': 451,\n",
       " 'put': 452,\n",
       " 'authentication': 453,\n",
       " 'context': 454,\n",
       " 'conversion': 455,\n",
       " 'keys': 456,\n",
       " 'auto': 457,\n",
       " 'structure': 458,\n",
       " 'callback': 459,\n",
       " 'main': 460,\n",
       " 'saving': 461,\n",
       " 'token': 462,\n",
       " 'end': 463,\n",
       " 'exist': 464,\n",
       " 'long': 465,\n",
       " 'tab': 466,\n",
       " 'db': 467,\n",
       " 'problems': 468,\n",
       " 'foreach': 469,\n",
       " 'existing': 470,\n",
       " 'dll': 471,\n",
       " 'always': 472,\n",
       " 'block': 473,\n",
       " 'sorting': 474,\n",
       " 'grid': 475,\n",
       " 'finding': 476,\n",
       " 'matplotlib': 477,\n",
       " 'remote': 478,\n",
       " 'sqlite': 479,\n",
       " 'buttons': 480,\n",
       " 'option': 481,\n",
       " 'bind': 482,\n",
       " 'determine': 483,\n",
       " 'modal': 484,\n",
       " 'firefox': 485,\n",
       " 'stream': 486,\n",
       " 'performance': 487,\n",
       " 'tags': 488,\n",
       " 'label': 489,\n",
       " 'plot': 490,\n",
       " 'mac': 491,\n",
       " 'join': 492,\n",
       " 'decimal': 493,\n",
       " 'combobox': 494,\n",
       " 'uncaught': 495,\n",
       " 'phone': 496,\n",
       " 'radio': 497,\n",
       " 'example': 498,\n",
       " 'chart': 499,\n",
       " 'compile': 500,\n",
       " 'unexpected': 501,\n",
       " 'attributes': 502,\n",
       " 'dom': 503,\n",
       " 'checking': 504,\n",
       " 'correctly': 505,\n",
       " 'right': 506,\n",
       " 'tables': 507,\n",
       " 'point': 508,\n",
       " 'installing': 509,\n",
       " 'lines': 510,\n",
       " 'base': 511,\n",
       " 'mouse': 512,\n",
       " 'float': 513,\n",
       " 'users': 514,\n",
       " 'basic': 515,\n",
       " 'support': 516,\n",
       " 'struct': 517,\n",
       " 'tree': 518,\n",
       " 'making': 519,\n",
       " 'unit': 520,\n",
       " 'unique': 521,\n",
       " 'scope': 522,\n",
       " 'threads': 523,\n",
       " 'correct': 524,\n",
       " 'hash': 525,\n",
       " 'duplicate': 526,\n",
       " 'catch': 527,\n",
       " 'next': 528,\n",
       " 'handler': 529,\n",
       " 'mean': 530,\n",
       " 'already': 531,\n",
       " 'wont': 532,\n",
       " 'even': 533,\n",
       " 'good': 534,\n",
       " 'edit': 535,\n",
       " 'task': 536,\n",
       " 'admin': 537,\n",
       " 'uitableview': 538,\n",
       " 'removing': 539,\n",
       " 'matrix': 540,\n",
       " 'namespace': 541,\n",
       " 'contents': 542,\n",
       " 'pages': 543,\n",
       " 'valid': 544,\n",
       " 'graph': 545,\n",
       " 'dates': 546,\n",
       " 'lists': 547,\n",
       " 'sdk': 548,\n",
       " 'log': 549,\n",
       " 'encoding': 550,\n",
       " 'const': 551,\n",
       " 'debug': 552,\n",
       " 'objective': 553,\n",
       " 'case': 554,\n",
       " 'calculate': 555,\n",
       " 'changes': 556,\n",
       " 'site': 557,\n",
       " 'programming': 558,\n",
       " 'configuration': 559,\n",
       " 'storing': 560,\n",
       " 'side': 561,\n",
       " 'active': 562,\n",
       " 'sum': 563,\n",
       " 'full': 564,\n",
       " 'limit': 565,\n",
       " 'keep': 566,\n",
       " 'jpa': 567,\n",
       " 'top': 568,\n",
       " 'listbox': 569,\n",
       " 'implementation': 570,\n",
       " 'animation': 571,\n",
       " 'unicode': 572,\n",
       " 'append': 573,\n",
       " 'override': 574,\n",
       " 'printing': 575,\n",
       " 'mongodb': 576,\n",
       " 'twitter': 577,\n",
       " 'allow': 578,\n",
       " 'record': 579,\n",
       " 'winforms': 580,\n",
       " 'part': 581,\n",
       " 'resize': 582,\n",
       " 'utf8': 583,\n",
       " 'core': 584,\n",
       " 'lambda': 585,\n",
       " 'loaded': 586,\n",
       " 'mail': 587,\n",
       " 'ip': 588,\n",
       " 'security': 589,\n",
       " 'controls': 590,\n",
       " 'play': 591,\n",
       " 'times': 592,\n",
       " 'pdo': 593,\n",
       " 'layout': 594,\n",
       " 'selection': 595,\n",
       " 'async': 596,\n",
       " 'fatal': 597,\n",
       " 'game': 598,\n",
       " 'records': 599,\n",
       " 'bean': 600,\n",
       " 'language': 601,\n",
       " 'boolean': 602,\n",
       " 'webdriver': 603,\n",
       " 'cookie': 604,\n",
       " 'draw': 605,\n",
       " 'constant': 606,\n",
       " 'switch': 607,\n",
       " 'outside': 608,\n",
       " 'cakephp': 609,\n",
       " 'domain': 610,\n",
       " 'gui': 611,\n",
       " 'force': 612,\n",
       " 'unknown': 613,\n",
       " 'true': 614,\n",
       " 'inserting': 615,\n",
       " 'assign': 616,\n",
       " 'wait': 617,\n",
       " 'port': 618,\n",
       " 'false': 619,\n",
       " 'mode': 620,\n",
       " '20': 621,\n",
       " 'slow': 622,\n",
       " 'named': 623,\n",
       " 'state': 624,\n",
       " 'focus': 625,\n",
       " 'oracle': 626,\n",
       " 'issues': 627,\n",
       " 'requests': 628,\n",
       " 'mapping': 629,\n",
       " 'netbeans': 630,\n",
       " 'available': 631,\n",
       " 'condition': 632,\n",
       " 'multidimensional': 633,\n",
       " 'enable': 634,\n",
       " 'generated': 635,\n",
       " 'ubuntu': 636,\n",
       " 'assembly': 637,\n",
       " 'jdbc': 638,\n",
       " 'uploading': 639,\n",
       " 'clicked': 640,\n",
       " 'device': 641,\n",
       " 'gem': 642,\n",
       " 'populate': 643,\n",
       " 'yii': 644,\n",
       " 'specified': 645,\n",
       " 'swing': 646,\n",
       " 'soap': 647,\n",
       " 'required': 648,\n",
       " 'special': 649,\n",
       " 'engine': 650,\n",
       " 'initialize': 651,\n",
       " 'checked': 652,\n",
       " 'exceptions': 653,\n",
       " '2010': 654,\n",
       " 'executing': 655,\n",
       " 'know': 656,\n",
       " 'network': 657,\n",
       " 'bad': 658,\n",
       " 'native': 659,\n",
       " 'avoid': 660,\n",
       " 'tkinter': 661,\n",
       " 'javafx': 662,\n",
       " 'try': 663,\n",
       " 'design': 664,\n",
       " '6': 665,\n",
       " 'timeout': 666,\n",
       " 'month': 667,\n",
       " 'export': 668,\n",
       " 'webservice': 669,\n",
       " 'efficient': 670,\n",
       " 'trigger': 671,\n",
       " 'n': 672,\n",
       " 'want': 673,\n",
       " '404': 674,\n",
       " 'heroku': 675,\n",
       " 'move': 676,\n",
       " 'question': 677,\n",
       " 'os': 678,\n",
       " 'component': 679,\n",
       " 'timer': 680,\n",
       " 'dont': 681,\n",
       " 'iterate': 682,\n",
       " 'stack': 683,\n",
       " '10': 684,\n",
       " 'zend': 685,\n",
       " 'words': 686,\n",
       " 'body': 687,\n",
       " 'textarea': 688,\n",
       " 'views': 689,\n",
       " 'implementing': 690,\n",
       " 'compiler': 691,\n",
       " 'clicking': 692,\n",
       " 'linked': 693,\n",
       " 'symbol': 694,\n",
       " 'clear': 695,\n",
       " 'render': 696,\n",
       " 'flask': 697,\n",
       " 'root': 698,\n",
       " 'navigation': 699,\n",
       " 'symfony2': 700,\n",
       " 'second': 701,\n",
       " 'define': 702,\n",
       " 'datagrid': 703,\n",
       " 'pointers': 704,\n",
       " 'fill': 705,\n",
       " 'ssl': 706,\n",
       " 'inheritance': 707,\n",
       " 'private': 708,\n",
       " 'route': 709,\n",
       " 'procedure': 710,\n",
       " 'particular': 711,\n",
       " 'rspec': 712,\n",
       " 'information': 713,\n",
       " 'left': 714,\n",
       " 'scrolling': 715,\n",
       " 'declaration': 716,\n",
       " 'status': 717,\n",
       " 'behind': 718,\n",
       " 'bytes': 719,\n",
       " 'fetch': 720,\n",
       " 'fix': 721,\n",
       " 'services': 722,\n",
       " 'calendar': 723,\n",
       " 'reflection': 724,\n",
       " 'push': 725,\n",
       " 'spaces': 726,\n",
       " 'algorithm': 727,\n",
       " 'xpath': 728,\n",
       " 'alert': 729,\n",
       " 'apply': 730,\n",
       " 'cache': 731,\n",
       " 'integers': 732,\n",
       " 'youtube': 733,\n",
       " 'development': 734,\n",
       " 'calls': 735,\n",
       " 'dependency': 736,\n",
       " 'options': 737,\n",
       " 'maximum': 738,\n",
       " 'hex': 739,\n",
       " 'max': 740,\n",
       " 'https': 741,\n",
       " 'usage': 742,\n",
       " 'progress': 743,\n",
       " 'target': 744,\n",
       " 'previous': 745,\n",
       " 'environment': 746,\n",
       " 'models': 747,\n",
       " 'merge': 748,\n",
       " 'title': 749,\n",
       " 'practice': 750,\n",
       " 'internet': 751,\n",
       " 'comparing': 752,\n",
       " 'changed': 753,\n",
       " 'headers': 754,\n",
       " 'notification': 755,\n",
       " 'driver': 756,\n",
       " 'libraries': 757,\n",
       " 'boost': 758,\n",
       " 'matching': 759,\n",
       " 'apps': 760,\n",
       " 'statements': 761,\n",
       " 'panel': 762,\n",
       " 'symfony': 763,\n",
       " 'shared': 764,\n",
       " 'font': 765,\n",
       " 'opengl': 766,\n",
       " 'tests': 767,\n",
       " 'processing': 768,\n",
       " 'comma': 769,\n",
       " 'public': 770,\n",
       " 'xaml': 771,\n",
       " 'installed': 772,\n",
       " 'datepicker': 773,\n",
       " 'separate': 774,\n",
       " 'standard': 775,\n",
       " 'icon': 776,\n",
       " 'resources': 777,\n",
       " 'directive': 778,\n",
       " 'report': 779,\n",
       " 'abstract': 780,\n",
       " 'links': 781,\n",
       " 'htaccess': 782,\n",
       " 'better': 783,\n",
       " 'hidden': 784,\n",
       " 'container': 785,\n",
       " 'serialize': 786,\n",
       " 'debugging': 787,\n",
       " 'logging': 788,\n",
       " 'would': 789,\n",
       " 'asp': 790,\n",
       " 'resolve': 791,\n",
       " 'autocomplete': 792,\n",
       " 'junit': 793,\n",
       " 'configure': 794,\n",
       " 'ggplot2': 795,\n",
       " 'react': 796,\n",
       " 'see': 797,\n",
       " 'hashmap': 798,\n",
       " 'partial': 799,\n",
       " 'alternative': 800,\n",
       " 'queries': 801,\n",
       " 'selecting': 802,\n",
       " 'visible': 803,\n",
       " 'echo': 804,\n",
       " 'messages': 805,\n",
       " 'returned': 806,\n",
       " 'throws': 807,\n",
       " 'devise': 808,\n",
       " 'something': 809,\n",
       " 'keyboard': 810,\n",
       " 'proxy': 811,\n",
       " 'svg': 812,\n",
       " 'checkboxes': 813,\n",
       " 'declare': 814,\n",
       " 'generating': 815,\n",
       " 'denied': 816,\n",
       " 'take': 817,\n",
       " 'jtable': 818,\n",
       " 'whether': 819,\n",
       " 'coordinates': 820,\n",
       " 'escape': 821,\n",
       " 'operation': 822,\n",
       " 'quotes': 823,\n",
       " 'causes': 824,\n",
       " 'virtual': 825,\n",
       " 'formatting': 826,\n",
       " 'extjs': 827,\n",
       " 'day': 828,\n",
       " 'drag': 829,\n",
       " 'jsf': 830,\n",
       " 'reload': 831,\n",
       " 'drawing': 832,\n",
       " 'setup': 833,\n",
       " 'contain': 834,\n",
       " 'shell': 835,\n",
       " 'product': 836,\n",
       " 'dataset': 837,\n",
       " 'intellij': 838,\n",
       " 'machine': 839,\n",
       " 'delegate': 840,\n",
       " 'webpage': 841,\n",
       " 'entities': 842,\n",
       " 'rendering': 843,\n",
       " 'queue': 844,\n",
       " 'strange': 845,\n",
       " 'phonegap': 846,\n",
       " 'containing': 847,\n",
       " 'cells': 848,\n",
       " 'applications': 849,\n",
       " 'twice': 850,\n",
       " 'dropdownlist': 851,\n",
       " 'connecting': 852,\n",
       " 'inline': 853,\n",
       " 'per': 854,\n",
       " 'execution': 855,\n",
       " 'gcc': 856,\n",
       " 'blank': 857,\n",
       " 'relationship': 858,\n",
       " 'uiview': 859,\n",
       " 'level': 860,\n",
       " 'opening': 861,\n",
       " 'ms': 862,\n",
       " 'conditional': 863,\n",
       " 'razor': 864,\n",
       " 'serialization': 865,\n",
       " 'gives': 866,\n",
       " 'widget': 867,\n",
       " 'initialization': 868,\n",
       " 'relative': 869,\n",
       " 'modify': 870,\n",
       " 'safe': 871,\n",
       " 'etc': 872,\n",
       " 'internal': 873,\n",
       " 'nodes': 874,\n",
       " 'jqgrid': 875,\n",
       " 'definition': 876,\n",
       " 'timestamp': 877,\n",
       " 'capture': 878,\n",
       " 'batch': 879,\n",
       " 'importing': 880,\n",
       " 'building': 881,\n",
       " 'retrieving': 882,\n",
       " 'expressions': 883,\n",
       " 'compiling': 884,\n",
       " 'else': 885,\n",
       " 'allowed': 886,\n",
       " 'added': 887,\n",
       " 'still': 888,\n",
       " 'numeric': 889,\n",
       " 'tcp': 890,\n",
       " 'year': 891,\n",
       " 'host': 892,\n",
       " 'sqlalchemy': 893,\n",
       " 'seconds': 894,\n",
       " 'doctrine': 895,\n",
       " 'boot': 896,\n",
       " 'highcharts': 897,\n",
       " 'cookies': 898,\n",
       " 'selector': 899,\n",
       " 'href': 900,\n",
       " 'nsstring': 901,\n",
       " 'foreign': 902,\n",
       " 'jframe': 903,\n",
       " 'jackson': 904,\n",
       " 'starting': 905,\n",
       " 'config': 906,\n",
       " 'annotation': 907,\n",
       " 'embedded': 908,\n",
       " 'fast': 909,\n",
       " 'reset': 910,\n",
       " 'protocol': 911,\n",
       " 'touch': 912,\n",
       " 'injection': 913,\n",
       " 'section': 914,\n",
       " 'firing': 915,\n",
       " 'tabs': 916,\n",
       " 'jaxb': 917,\n",
       " 'webbrowser': 918,\n",
       " 'ascii': 919,\n",
       " 'points': 920,\n",
       " 'closing': 921,\n",
       " 'overriding': 922,\n",
       " 'transaction': 923,\n",
       " 'postgresql': 924,\n",
       " 'trouble': 925,\n",
       " 'hover': 926,\n",
       " 'sharepoint': 927,\n",
       " 'passed': 928,\n",
       " 'labels': 929,\n",
       " 'cursor': 930,\n",
       " 'able': 931,\n",
       " 'gwt': 932,\n",
       " 'recursive': 933,\n",
       " 'specify': 934,\n",
       " 'sequence': 935,\n",
       " 'localhost': 936,\n",
       " 'explorer': 937,\n",
       " 'urls': 938,\n",
       " 'asynchronous': 939,\n",
       " 'assignment': 940,\n",
       " 'replacing': 941,\n",
       " 'deploy': 942,\n",
       " 'fixed': 943,\n",
       " 'webview': 944,\n",
       " 'giving': 945,\n",
       " 'days': 946,\n",
       " 'templates': 947,\n",
       " 'exit': 948,\n",
       " 'fastest': 949,\n",
       " 'base64': 950,\n",
       " 'anchor': 951,\n",
       " 'restful': 952,\n",
       " 'deleting': 953,\n",
       " 'toggle': 954,\n",
       " 'axis': 955,\n",
       " 'nil': 956,\n",
       " 'go': 957,\n",
       " 'v3': 958,\n",
       " 'enter': 959,\n",
       " 'osx': 960,\n",
       " 'proper': 961,\n",
       " 'vb': 962,\n",
       " '500': 963,\n",
       " 'moving': 964,\n",
       " 'digits': 965,\n",
       " 'nhibernate': 966,\n",
       " 'casting': 967,\n",
       " 'ignore': 968,\n",
       " 'stl': 969,\n",
       " 'faster': 970,\n",
       " 'activerecord': 971,\n",
       " 'permission': 972,\n",
       " 'settings': 973,\n",
       " 'pagination': 974,\n",
       " 'mysqli': 975,\n",
       " 'border': 976,\n",
       " 'lock': 977,\n",
       " 'including': 978,\n",
       " 'loops': 979,\n",
       " 'serial': 980,\n",
       " 'declared': 981,\n",
       " 'incorrect': 982,\n",
       " 'caching': 983,\n",
       " 'activity': 984,\n",
       " 'username': 985,\n",
       " 'real': 986,\n",
       " 's3': 987,\n",
       " 'effect': 988,\n",
       " 'sent': 989,\n",
       " 'comparison': 990,\n",
       " 'complex': 991,\n",
       " 'complete': 992,\n",
       " 'safari': 993,\n",
       " 'invoke': 994,\n",
       " 'across': 995,\n",
       " 'uitableviewcell': 996,\n",
       " 'txt': 997,\n",
       " 'void': 998,\n",
       " 'audio': 999,\n",
       " ...}"
      ]
     },
     "execution_count": 157,
     "metadata": {},
     "output_type": "execute_result"
    }
   ],
   "source": [
    "WORDS_TO_INDEX"
   ]
  },
  {
   "cell_type": "code",
   "execution_count": 158,
   "metadata": {},
   "outputs": [],
   "source": [
    "def test_my_bag_of_words():\n",
    "    words_to_index = {'hi': 0, 'you': 1, 'me': 2, 'are': 3}\n",
    "    examples = ['hi how are you']\n",
    "    answers = [[1, 1, 0, 1]]\n",
    "    for ex, ans in zip(examples, answers):\n",
    "        if (my_bag_of_words(ex, words_to_index, 4) != ans).any():\n",
    "            return \"Wrong answer for the case: '%s'\" % ex\n",
    "    return 'Basic tests are passed.'"
   ]
  },
  {
   "cell_type": "code",
   "execution_count": 159,
   "metadata": {},
   "outputs": [
    {
     "name": "stdout",
     "output_type": "stream",
     "text": [
      "Basic tests are passed.\n"
     ]
    }
   ],
   "source": [
    "print(test_my_bag_of_words())"
   ]
  },
  {
   "cell_type": "markdown",
   "metadata": {},
   "source": [
    "Now apply the implemented function to all samples (this might take up to a minute):"
   ]
  },
  {
   "cell_type": "code",
   "execution_count": 160,
   "metadata": {},
   "outputs": [],
   "source": [
    "from scipy import sparse as sp_sparse"
   ]
  },
  {
   "cell_type": "code",
   "execution_count": 161,
   "metadata": {},
   "outputs": [
    {
     "name": "stdout",
     "output_type": "stream",
     "text": [
      "X_train shape  (100000, 5000)\n",
      "X_val shape  (30000, 5000)\n",
      "X_test shape  (20000, 5000)\n"
     ]
    }
   ],
   "source": [
    "X_train_mybag = sp_sparse.vstack([sp_sparse.csr_matrix(my_bag_of_words(text, WORDS_TO_INDEX, DICT_SIZE)) for text in X_train])\n",
    "X_val_mybag = sp_sparse.vstack([sp_sparse.csr_matrix(my_bag_of_words(text, WORDS_TO_INDEX, DICT_SIZE)) for text in X_val])\n",
    "X_test_mybag = sp_sparse.vstack([sp_sparse.csr_matrix(my_bag_of_words(text, WORDS_TO_INDEX, DICT_SIZE)) for text in X_test])\n",
    "print('X_train shape ', X_train_mybag.shape)\n",
    "print('X_val shape ', X_val_mybag.shape)\n",
    "print('X_test shape ', X_test_mybag.shape)"
   ]
  },
  {
   "cell_type": "markdown",
   "metadata": {},
   "source": [
    "As you might notice, we transform the data to sparse representation, to store the useful information efficiently. There are many [types](https://docs.scipy.org/doc/scipy/reference/sparse.html) of such representations, however sklearn algorithms can work only with [csr](https://docs.scipy.org/doc/scipy/reference/generated/scipy.sparse.csr_matrix.html#scipy.sparse.csr_matrix) matrix, so we will use this one."
   ]
  },
  {
   "cell_type": "markdown",
   "metadata": {},
   "source": [
    "**Task 3 (BagOfWords).** For the 11th row in *X_train_mybag* find how many non-zero elements it has. In this task the answer (variable *non_zero_elements_count*) should be a number, e.g. 20."
   ]
  },
  {
   "cell_type": "code",
   "execution_count": 171,
   "metadata": {},
   "outputs": [
    {
     "name": "stdout",
     "output_type": "stream",
     "text": [
      "Current answer for task BagOfWords is:\n",
      " 7...\n"
     ]
    }
   ],
   "source": [
    "row = X_train_mybag[10].toarray()[0]\n",
    "non_zero_elements_count = int(sum(row)) ####### YOUR CODE HERE #######\n",
    "\n",
    "grader.submit_tag('BagOfWords', str(non_zero_elements_count))"
   ]
  },
  {
   "cell_type": "code",
   "execution_count": 173,
   "metadata": {},
   "outputs": [
    {
     "data": {
      "text/plain": [
       "7"
      ]
     },
     "execution_count": 173,
     "metadata": {},
     "output_type": "execute_result"
    }
   ],
   "source": [
    "int(sum(row))"
   ]
  },
  {
   "cell_type": "markdown",
   "metadata": {},
   "source": [
    "#### TF-IDF\n",
    "\n",
    "The second approach extends the bag-of-words framework by taking into account total frequencies of words in the corpora. It helps to penalize too frequent words and provide better features space. \n",
    "\n",
    "Implement function *tfidf_features* using class [TfidfVectorizer](http://scikit-learn.org/stable/modules/generated/sklearn.feature_extraction.text.TfidfVectorizer.html) from *scikit-learn*. Use *train* corpus to train a vectorizer. Don't forget to take a look into the arguments that you can pass to it. We suggest that you filter out too rare words (occur less than in 5 titles) and too frequent words (occur more than in 90% of the titles). Also, use bigrams along with unigrams in your vocabulary. "
   ]
  },
  {
   "cell_type": "code",
   "execution_count": 174,
   "metadata": {},
   "outputs": [],
   "source": [
    "from sklearn.feature_extraction.text import TfidfVectorizer"
   ]
  },
  {
   "cell_type": "code",
   "execution_count": 175,
   "metadata": {},
   "outputs": [],
   "source": [
    "def tfidf_features(X_train, X_val, X_test):\n",
    "    \"\"\"\n",
    "        X_train, X_val, X_test — samples        \n",
    "        return TF-IDF vectorized representation of each sample and vocabulary\n",
    "    \"\"\"\n",
    "    # Create TF-IDF vectorizer with a proper parameters choice\n",
    "    # Fit the vectorizer on the train set\n",
    "    # Transform the train, test, and val sets and return the result\n",
    "    \n",
    "    \n",
    "    tfidf_vectorizer = TfidfVectorizer(max_df = 0.9, min_df = 5, token_pattern = '(\\S+)',ngram_range=(1,2)) ####### YOUR CODE HERE #######\n",
    "    X_train = tfidf_vectorizer.fit_transform(X_train)\n",
    "    X_val = tfidf_vectorizer.transform(X_val)\n",
    "    X_test = tfidf_vectorizer.transform(X_test)\n",
    "    ######################################\n",
    "    ######### YOUR CODE HERE #############\n",
    "    ######################################\n",
    "    \n",
    "    return X_train, X_val, X_test, tfidf_vectorizer.vocabulary_"
   ]
  },
  {
   "cell_type": "markdown",
   "metadata": {},
   "source": [
    "Once you have done text preprocessing, always have a look at the results. Be very careful at this step, because the performance of future models will drastically depend on it. \n",
    "\n",
    "In this case, check whether you have c++ or c# in your vocabulary, as they are obviously important tokens in our tags prediction task:"
   ]
  },
  {
   "cell_type": "code",
   "execution_count": 176,
   "metadata": {},
   "outputs": [],
   "source": [
    "X_train_tfidf, X_val_tfidf, X_test_tfidf, tfidf_vocab = tfidf_features(X_train, X_val, X_test)\n",
    "tfidf_reversed_vocab = {i:word for word,i in tfidf_vocab.items()}"
   ]
  },
  {
   "cell_type": "code",
   "execution_count": 177,
   "metadata": {},
   "outputs": [
    {
     "data": {
      "text/plain": [
       "1976"
      ]
     },
     "execution_count": 177,
     "metadata": {},
     "output_type": "execute_result"
    }
   ],
   "source": [
    "tfidf_vocab.get('c++',0)\n",
    "######### YOUR CODE HERE #############"
   ]
  },
  {
   "cell_type": "markdown",
   "metadata": {},
   "source": [
    "If you can't find it, we need to understand how did it happen that we lost them? It happened during the built-in tokenization of TfidfVectorizer. Luckily, we can influence on this process. Get back to the function above and use '(\\S+)' regexp as a *token_pattern* in the constructor of the vectorizer.  "
   ]
  },
  {
   "cell_type": "markdown",
   "metadata": {},
   "source": [
    "Now, use this transormation for the data and check again."
   ]
  },
  {
   "cell_type": "code",
   "execution_count": 178,
   "metadata": {},
   "outputs": [
    {
     "data": {
      "text/plain": [
       "1879"
      ]
     },
     "execution_count": 178,
     "metadata": {},
     "output_type": "execute_result"
    }
   ],
   "source": [
    "tfidf_vocab.get('c#',0)\n",
    "######### YOUR CODE HERE #############"
   ]
  },
  {
   "cell_type": "markdown",
   "metadata": {},
   "source": [
    "### MultiLabel classifier\n",
    "\n",
    "As we have noticed before, in this task each example can have multiple tags. To deal with such kind of prediction, we need to transform labels in a binary form and the prediction will be a mask of 0s and 1s. For this purpose it is convenient to use [MultiLabelBinarizer](http://scikit-learn.org/stable/modules/generated/sklearn.preprocessing.MultiLabelBinarizer.html) from *sklearn*."
   ]
  },
  {
   "cell_type": "code",
   "execution_count": 179,
   "metadata": {},
   "outputs": [],
   "source": [
    "from sklearn.preprocessing import MultiLabelBinarizer"
   ]
  },
  {
   "cell_type": "code",
   "execution_count": 180,
   "metadata": {},
   "outputs": [],
   "source": [
    "mlb = MultiLabelBinarizer(classes=sorted(tags_counts.keys()))\n",
    "y_train = mlb.fit_transform(y_train)\n",
    "y_val = mlb.fit_transform(y_val)"
   ]
  },
  {
   "cell_type": "markdown",
   "metadata": {},
   "source": [
    "Implement the function *train_classifier* for training a classifier. In this task we suggest to use One-vs-Rest approach, which is implemented in [OneVsRestClassifier](http://scikit-learn.org/stable/modules/generated/sklearn.multiclass.OneVsRestClassifier.html) class. In this approach *k* classifiers (= number of tags) are trained. As a basic classifier, use [LogisticRegression](http://scikit-learn.org/stable/modules/generated/sklearn.linear_model.LogisticRegression.html). It is one of the simplest methods, but often it performs good enough in text classification tasks. It might take some time, because a number of classifiers to train is large."
   ]
  },
  {
   "cell_type": "code",
   "execution_count": 181,
   "metadata": {},
   "outputs": [],
   "source": [
    "from sklearn.multiclass import OneVsRestClassifier\n",
    "from sklearn.linear_model import LogisticRegression, RidgeClassifier"
   ]
  },
  {
   "cell_type": "code",
   "execution_count": 182,
   "metadata": {},
   "outputs": [],
   "source": [
    "def train_classifier(X_train, y_train):\n",
    "    \"\"\"\n",
    "      X_train, y_train — training data\n",
    "      \n",
    "      return: trained classifier\n",
    "    \"\"\"\n",
    "    \n",
    "    # Create and fit LogisticRegression wraped into OneVsRestClassifier.\n",
    "\n",
    "    ######################################\n",
    "    ######### YOUR CODE HERE #############\n",
    "    ######################################    \n",
    "    return OneVsRestClassifier(LogisticRegression()).fit(X_train, y_train)"
   ]
  },
  {
   "cell_type": "markdown",
   "metadata": {},
   "source": [
    "Train the classifiers for different data transformations: *bag-of-words* and *tf-idf*."
   ]
  },
  {
   "cell_type": "code",
   "execution_count": 183,
   "metadata": {},
   "outputs": [],
   "source": [
    "classifier_mybag = train_classifier(X_train_mybag, y_train)\n",
    "classifier_tfidf = train_classifier(X_train_tfidf, y_train)"
   ]
  },
  {
   "cell_type": "code",
   "execution_count": 184,
   "metadata": {},
   "outputs": [
    {
     "data": {
      "text/plain": [
       "<100000x18300 sparse matrix of type '<class 'numpy.float64'>'\n",
       "\twith 673741 stored elements in Compressed Sparse Row format>"
      ]
     },
     "execution_count": 184,
     "metadata": {},
     "output_type": "execute_result"
    }
   ],
   "source": [
    "X_train_tfidf"
   ]
  },
  {
   "cell_type": "markdown",
   "metadata": {},
   "source": [
    "Now you can create predictions for the data. You will need two types of predictions: labels and scores."
   ]
  },
  {
   "cell_type": "code",
   "execution_count": 185,
   "metadata": {},
   "outputs": [],
   "source": [
    "y_val_predicted_labels_mybag = classifier_mybag.predict(X_val_mybag)\n",
    "y_val_predicted_scores_mybag = classifier_mybag.decision_function(X_val_mybag)\n",
    "\n",
    "y_val_predicted_labels_tfidf = classifier_tfidf.predict(X_val_tfidf)\n",
    "y_val_predicted_scores_tfidf = classifier_tfidf.decision_function(X_val_tfidf)"
   ]
  },
  {
   "cell_type": "markdown",
   "metadata": {},
   "source": [
    "Now take a look at how classifier, which uses TF-IDF, works for a few examples:"
   ]
  },
  {
   "cell_type": "code",
   "execution_count": 186,
   "metadata": {},
   "outputs": [
    {
     "name": "stdout",
     "output_type": "stream",
     "text": [
      "Title:\todbc_exec always fail\n",
      "True labels:\tphp,sql\n",
      "Predicted labels:\t\n",
      "\n",
      "\n",
      "Title:\taccess base classes variable within child class\n",
      "True labels:\tjavascript\n",
      "Predicted labels:\t\n",
      "\n",
      "\n",
      "Title:\tcontenttype application json required rails\n",
      "True labels:\truby,ruby-on-rails\n",
      "Predicted labels:\tjson,ruby-on-rails\n",
      "\n",
      "\n",
      "Title:\tsessions sinatra used pass variable\n",
      "True labels:\truby,session\n",
      "Predicted labels:\t\n",
      "\n",
      "\n",
      "Title:\tgetting error type json exist postgresql rake db migrate\n",
      "True labels:\tjson,ruby,ruby-on-rails\n",
      "Predicted labels:\truby-on-rails\n",
      "\n",
      "\n",
      "Title:\tlibrary found\n",
      "True labels:\tc++,ios,iphone,xcode\n",
      "Predicted labels:\t\n",
      "\n",
      "\n",
      "Title:\tcsproj file programmatic adding deleting files\n",
      "True labels:\tc#\n",
      "Predicted labels:\t\n",
      "\n",
      "\n",
      "Title:\ttypeerror makedirs got unexpected keyword argument exists_ok\n",
      "True labels:\tdjango,python\n",
      "Predicted labels:\tpython\n",
      "\n",
      "\n",
      "Title:\tpan div using jquery\n",
      "True labels:\thtml,javascript,jquery\n",
      "Predicted labels:\tjavascript,jquery\n",
      "\n",
      "\n",
      "Title:\thibernate intermediate advanced tutorials\n",
      "True labels:\thibernate,java\n",
      "Predicted labels:\thibernate,java\n",
      "\n",
      "\n"
     ]
    }
   ],
   "source": [
    "y_val_pred_inversed = mlb.inverse_transform(y_val_predicted_labels_tfidf)\n",
    "y_val_inversed = mlb.inverse_transform(y_val)\n",
    "for i in range(10):\n",
    "    print('Title:\\t{}\\nTrue labels:\\t{}\\nPredicted labels:\\t{}\\n\\n'.format(\n",
    "        X_val[i],\n",
    "        ','.join(y_val_inversed[i]),\n",
    "        ','.join(y_val_pred_inversed[i])\n",
    "    ))"
   ]
  },
  {
   "cell_type": "markdown",
   "metadata": {},
   "source": [
    "Now, we would need to compare the results of different predictions, e.g. to see whether TF-IDF transformation helps or to try different regularization techniques in logistic regression. For all these experiments, we need to setup evaluation procedure. "
   ]
  },
  {
   "cell_type": "markdown",
   "metadata": {},
   "source": [
    "### Evaluation\n",
    "\n",
    "To evaluate the results we will use several classification metrics:\n",
    " - [Accuracy](http://scikit-learn.org/stable/modules/generated/sklearn.metrics.accuracy_score.html)\n",
    " - [F1-score](http://scikit-learn.org/stable/modules/generated/sklearn.metrics.f1_score.html)\n",
    " - [Area under ROC-curve](http://scikit-learn.org/stable/modules/generated/sklearn.metrics.roc_auc_score.html)\n",
    " - [Area under precision-recall curve](http://scikit-learn.org/stable/modules/generated/sklearn.metrics.average_precision_score.html#sklearn.metrics.average_precision_score) \n",
    " \n",
    "Make sure you are familiar with all of them. How would you expect the things work for the multi-label scenario? Read about micro/macro/weighted averaging following the sklearn links provided above."
   ]
  },
  {
   "cell_type": "code",
   "execution_count": 106,
   "metadata": {},
   "outputs": [],
   "source": [
    "from sklearn.metrics import accuracy_score\n",
    "from sklearn.metrics import f1_score\n",
    "from sklearn.metrics import roc_auc_score \n",
    "from sklearn.metrics import average_precision_score\n",
    "from sklearn.metrics import recall_score"
   ]
  },
  {
   "cell_type": "markdown",
   "metadata": {},
   "source": [
    "Implement the function *print_evaluation_scores* which calculates and prints to stdout:\n",
    " - *accuracy*\n",
    " - *F1-score macro/micro/weighted*\n",
    " - *Precision macro/micro/weighted*"
   ]
  },
  {
   "cell_type": "code",
   "execution_count": 187,
   "metadata": {},
   "outputs": [],
   "source": [
    "def print_evaluation_scores(y_val, predicted):\n",
    "    \n",
    "    print(accuracy_score(y_val,predicted))\n",
    "    ######################################\n",
    "    ######### YOUR CODE HERE #############\n",
    "    ######################################"
   ]
  },
  {
   "cell_type": "code",
   "execution_count": 188,
   "metadata": {},
   "outputs": [
    {
     "name": "stdout",
     "output_type": "stream",
     "text": [
      "Bag-of-words\n",
      "0.3617\n",
      "Tfidf\n",
      "0.33393333333333336\n"
     ]
    }
   ],
   "source": [
    "print('Bag-of-words')\n",
    "print_evaluation_scores(y_val, y_val_predicted_labels_mybag)\n",
    "print('Tfidf')\n",
    "print_evaluation_scores(y_val, y_val_predicted_labels_tfidf)"
   ]
  },
  {
   "cell_type": "markdown",
   "metadata": {},
   "source": [
    "You might also want to plot some generalization of the [ROC curve](http://scikit-learn.org/stable/modules/model_evaluation.html#receiver-operating-characteristic-roc) for the case of multi-label classification. Provided function *roc_auc* can make it for you. The input parameters of this function are:\n",
    " - true labels\n",
    " - decision functions scores\n",
    " - number of classes"
   ]
  },
  {
   "cell_type": "code",
   "execution_count": 189,
   "metadata": {},
   "outputs": [],
   "source": [
    "from metrics import roc_auc\n",
    "%matplotlib inline"
   ]
  },
  {
   "cell_type": "code",
   "execution_count": 190,
   "metadata": {},
   "outputs": [
    {
     "data": {
      "image/png": "[encoded data removed]",
      "text/plain": [
       "<Figure size 432x288 with 1 Axes>"
      ]
     },
     "metadata": {},
     "output_type": "display_data"
    }
   ],
   "source": [
    "n_classes = len(tags_counts)\n",
    "roc_auc(y_val, y_val_predicted_scores_mybag, n_classes)"
   ]
  },
  {
   "cell_type": "code",
   "execution_count": 191,
   "metadata": {},
   "outputs": [
    {
     "data": {
      "image/png": "[encoded data removed]",
      "text/plain": [
       "<Figure size 432x288 with 1 Axes>"
      ]
     },
     "metadata": {},
     "output_type": "display_data"
    }
   ],
   "source": [
    "n_classes = len(tags_counts)\n",
    "roc_auc(y_val, y_val_predicted_scores_tfidf, n_classes)"
   ]
  },
  {
   "cell_type": "markdown",
   "metadata": {},
   "source": [
    "**Task 4 (MultilabelClassification).** Once we have the evaluation set up, we suggest that you experiment a bit with training your classifiers. We will use *F1-score weighted* as an evaluation metric. Our recommendation:\n",
    "- compare the quality of the bag-of-words and TF-IDF approaches and chose one of them.\n",
    "- for the chosen one, try *L1* and *L2*-regularization techniques in Logistic Regression with different coefficients (e.g. C equal to 0.1, 1, 10, 100).\n",
    "\n",
    "You also could try other improvements of the preprocessing / model, if you want. "
   ]
  },
  {
   "cell_type": "code",
   "execution_count": 196,
   "metadata": {},
   "outputs": [
    {
     "data": {
      "image/png": "[encoded data removed]",
      "text/plain": [
       "<Figure size 432x288 with 1 Axes>"
      ]
     },
     "metadata": {},
     "output_type": "display_data"
    },
    {
     "name": "stdout",
     "output_type": "stream",
     "text": [
      "0.35313333333333335\n"
     ]
    }
   ],
   "source": [
    "######################################\n",
    "######### YOUR CODE HERE #############\n",
    "######################################\n",
    "def train_classifier2(X_train, y_train):\n",
    "    \"\"\"\n",
    "      X_train, y_train — training data\n",
    "      \n",
    "      return: trained classifier\n",
    "    \"\"\"\n",
    "    \n",
    "    # Create and fit LogisticRegression wraped into OneVsRestClassifier.\n",
    "\n",
    "    ######################################\n",
    "    ######### YOUR CODE HERE #############\n",
    "    ######################################    \n",
    "    return OneVsRestClassifier(LogisticRegression(C=10)).fit(X_train, y_train)\n",
    "\n",
    "classifier_mybag = train_classifier2(X_train_mybag, y_train)\n",
    "\n",
    "y_val_predicted_labels_mybag = classifier_mybag.predict(X_val_mybag)\n",
    "y_val_predicted_scores_mybag = classifier_mybag.decision_function(X_val_mybag)\n",
    "\n",
    "n_classes = len(tags_counts)\n",
    "roc_auc(y_val, y_val_predicted_scores_mybag, n_classes)\n",
    "print_evaluation_scores(y_val, y_val_predicted_labels_mybag)"
   ]
  },
  {
   "cell_type": "markdown",
   "metadata": {},
   "source": [
    "When you are happy with the quality, create predictions for *test* set, which you will submit to Coursera."
   ]
  },
  {
   "cell_type": "code",
   "execution_count": 197,
   "metadata": {},
   "outputs": [
    {
     "name": "stdout",
     "output_type": "stream",
     "text": [
      "Current answer for task MultilabelClassification is:\n",
      " 0\tmysql,php\n",
      "1\tjavascript,jquery\n",
      "2\t\n",
      "3\tjavascript,jquery\n",
      "4\tandroid\n",
      "5\tphp,xml\n",
      "6\tajax,json,php,web-servi...\n"
     ]
    }
   ],
   "source": [
    "test_predictions = classifier_mybag.predict(X_test_mybag)######### YOUR CODE HERE #############\n",
    "test_pred_inversed = mlb.inverse_transform(test_predictions)\n",
    "\n",
    "test_predictions_for_submission = '\\n'.join('%i\\t%s' % (i, ','.join(row)) for i, row in enumerate(test_pred_inversed))\n",
    "grader.submit_tag('MultilabelClassification', test_predictions_for_submission)"
   ]
  },
  {
   "cell_type": "markdown",
   "metadata": {},
   "source": [
    "### Analysis of the most important features"
   ]
  },
  {
   "cell_type": "markdown",
   "metadata": {},
   "source": [
    "Finally, it is usually a good idea to look at the features (words or n-grams) that are used with the largest weigths in your logistic regression model."
   ]
  },
  {
   "cell_type": "markdown",
   "metadata": {},
   "source": [
    "Implement the function *print_words_for_tag* to find them. Get back to sklearn documentation on [OneVsRestClassifier](http://scikit-learn.org/stable/modules/generated/sklearn.multiclass.OneVsRestClassifier.html) and [LogisticRegression](http://scikit-learn.org/stable/modules/generated/sklearn.linear_model.LogisticRegression.html) if needed."
   ]
  },
  {
   "cell_type": "code",
   "execution_count": null,
   "metadata": {
    "collapsed": true
   },
   "outputs": [],
   "source": [
    "def print_words_for_tag(classifier, tag, tags_classes, index_to_words, all_words):\n",
    "    \"\"\"\n",
    "        classifier: trained classifier\n",
    "        tag: particular tag\n",
    "        tags_classes: a list of classes names from MultiLabelBinarizer\n",
    "        index_to_words: index_to_words transformation\n",
    "        all_words: all words in the dictionary\n",
    "        \n",
    "        return nothing, just print top 5 positive and top 5 negative words for current tag\n",
    "    \"\"\"\n",
    "    print('Tag:\\t{}'.format(tag))\n",
    "    \n",
    "    # Extract an estimator from the classifier for the given tag.\n",
    "    # Extract feature coefficients from the estimator. \n",
    "    \n",
    "    ######################################\n",
    "    ######### YOUR CODE HERE #############\n",
    "    ######################################\n",
    "    \n",
    "    top_positive_words = # top-5 words sorted by the coefficiens.\n",
    "    top_negative_words = # bottom-5 words  sorted by the coefficients.\n",
    "    print('Top positive words:\\t{}'.format(', '.join(top_positive_words)))\n",
    "    print('Top negative words:\\t{}\\n'.format(', '.join(top_negative_words)))"
   ]
  },
  {
   "cell_type": "code",
   "execution_count": null,
   "metadata": {
    "collapsed": true
   },
   "outputs": [],
   "source": [
    "print_words_for_tag(classifier_tfidf, 'c', mlb.classes, tfidf_reversed_vocab, ALL_WORDS)\n",
    "print_words_for_tag(classifier_tfidf, 'c++', mlb.classes, tfidf_reversed_vocab, ALL_WORDS)\n",
    "print_words_for_tag(classifier_tfidf, 'linux', mlb.classes, tfidf_reversed_vocab, ALL_WORDS)"
   ]
  },
  {
   "cell_type": "markdown",
   "metadata": {},
   "source": [
    "### Authorization & Submission\n",
    "To submit assignment parts to Cousera platform, please, enter your e-mail and token into variables below. You can generate token on this programming assignment page. <b>Note:</b> Token expires 30 minutes after generation."
   ]
  },
  {
   "cell_type": "code",
   "execution_count": 119,
   "metadata": {},
   "outputs": [
    {
     "name": "stdout",
     "output_type": "stream",
     "text": [
      "You want to submit these parts:\n",
      "Task TextPrepare:\n",
      " sqlite php readonly\n",
      "creating multiple textboxes dynamically\n",
      "self one prefer javascript\n",
      "save php date...\n",
      "Task WordsTagsCount:\n",
      " javascript,c#,java\n",
      "using,php,java...\n",
      "Task BagOfWords:\n",
      " 7.0...\n",
      "Task MultilabelClassification:\n",
      " 0\tphp\n",
      "1\tjavascript\n",
      "2\t\n",
      "3\t\n",
      "4\tandroid,java\n",
      "5\tphp,xml\n",
      "6\tjson,web-services\n",
      "7\tjava\n",
      "8\tpython\n",
      "9\thtml\n",
      "10\tjque...\n"
     ]
    }
   ],
   "source": [
    "grader.status()"
   ]
  },
  {
   "cell_type": "code",
   "execution_count": 192,
   "metadata": {},
   "outputs": [
    {
     "name": "stdout",
     "output_type": "stream",
     "text": [
      "You want to submit these parts:\n",
      "Task TextPrepare:\n",
      " sqlite php readonly\n",
      "creating multiple textboxes dynamically\n",
      "self one prefer javascript\n",
      "save php date...\n",
      "Task WordsTagsCount:\n",
      " javascript,c#,java\n",
      "using,php,java...\n",
      "Task BagOfWords:\n",
      " 7...\n",
      "Task MultilabelClassification:\n",
      " ----------...\n"
     ]
    }
   ],
   "source": [
    "STUDENT_EMAIL = 'alex.huang1117@gmail.com'# EMAIL \n",
    "STUDENT_TOKEN = 'yZffaxPbs8w0jYOT'# TOKEN \n",
    "grader.status()"
   ]
  },
  {
   "cell_type": "markdown",
   "metadata": {},
   "source": [
    "If you want to submit these answers, run cell below"
   ]
  },
  {
   "cell_type": "code",
   "execution_count": 198,
   "metadata": {},
   "outputs": [
    {
     "name": "stdout",
     "output_type": "stream",
     "text": [
      "Submitted to Coursera platform. See results on assignment page!\n"
     ]
    }
   ],
   "source": [
    "grader.submit(STUDENT_EMAIL, STUDENT_TOKEN)"
   ]
  },
  {
   "cell_type": "code",
   "execution_count": null,
   "metadata": {},
   "outputs": [],
   "source": []
  }
 ],
 "metadata": {
  "kernelspec": {
   "display_name": "Python 3",
   "language": "python",
   "name": "python3"
  },
  "language_info": {
   "codemirror_mode": {
    "name": "ipython",
    "version": 3
   },
   "file_extension": ".py",
   "mimetype": "text/x-python",
   "name": "python",
   "nbconvert_exporter": "python",
   "pygments_lexer": "ipython3",
   "version": "3.6.5"
  }
 },
 "nbformat": 4,
 "nbformat_minor": 2
}
